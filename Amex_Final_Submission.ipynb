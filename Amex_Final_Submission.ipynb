{
  "cells": [
    {
      "cell_type": "code",
      "execution_count": null,
      "metadata": {
        "id": "gQvqDC0GSrTE"
      },
      "outputs": [],
      "source": [
        "from google.colab import drive\n",
        "drive.mount('/content/drive')"
      ]
    },
    {
      "cell_type": "code",
      "execution_count": null,
      "metadata": {
        "id": "jWZlIUKNh3ro"
      },
      "outputs": [],
      "source": [
        "# %load_ext cudf.pandas"
      ]
    },
    {
      "cell_type": "code",
      "execution_count": null,
      "metadata": {
        "id": "KZ02oa77lZj0"
      },
      "outputs": [],
      "source": [
        "import warnings\n",
        "warnings.filterwarnings('ignore')"
      ]
    },
    {
      "cell_type": "code",
      "execution_count": null,
      "metadata": {
        "id": "N9_fpzqtShCw"
      },
      "outputs": [],
      "source": [
        "import pandas as pd\n",
        "import numpy as np\n",
        "import matplotlib.pyplot as plt\n",
        "from tqdm import tqdm\n",
        "import optuna\n",
        "from catboost import CatBoostRegressor, CatBoostClassifier, Pool\n",
        "from sklearn.model_selection import StratifiedKFold, train_test_split\n",
        "from sklearn.metrics import accuracy_score\n",
        "from sklearn.ensemble import GradientBoostingClassifier, BaggingClassifier, VotingClassifier\n",
        "import lightgbm as lgb\n",
        "import xgboost as xgb\n",
        "\n",
        "# Set display options for pandas\n",
        "pd.set_option('display.max_columns', None)\n",
        "pd.set_option('display.max_colwidth', None)\n",
        "\n",
        "# Initialize tqdm for pandas\n",
        "tqdm.pandas()"
      ]
    },
    {
      "cell_type": "code",
      "execution_count": null,
      "metadata": {
        "id": "eDAwOaBPICUV"
      },
      "outputs": [],
      "source": [
        "test_data = pd.read_csv('6644a1e287df6_test_data_with_samplefeatures.csv')"
      ]
    },
    {
      "cell_type": "code",
      "execution_count": null,
      "metadata": {
        "id": "9sGes259BvcG"
      },
      "outputs": [],
      "source": [
        "batsman_lvl_data = pd.read_csv('663e2b548c98c_batsman_level_scorecard.csv')"
      ]
    },
    {
      "cell_type": "code",
      "execution_count": null,
      "metadata": {
        "id": "h0AE4gfoS0fx"
      },
      "outputs": [],
      "source": [
        "bowler_lvl_data = pd.read_csv('663e2b2c60743_bowler_level_scorecard.csv')\n",
        "batsman_lvl_data = pd.read_csv('663e2b548c98c_batsman_level_scorecard.csv')\n",
        "match_lvl_data = pd.read_csv('664389efa0868_match_level_scorecard.csv')\n",
        "train_data = pd.read_csv('663e2b6d54457_train_data_with_samplefeatures.csv')"
      ]
    },
    {
      "cell_type": "markdown",
      "source": [
        "### Data Augmentation through Swapping teams:\n",
        "\n",
        "We dobuled the data given to us by swapping teams i.e. Team1 columns replaced with Team2 columns and vice-versa. This potentially address the biasness in our model."
      ],
      "metadata": {
        "id": "M-oNSWBFF2R8"
      }
    },
    {
      "cell_type": "code",
      "execution_count": null,
      "metadata": {
        "id": "Ylw8FdI_BvcG"
      },
      "outputs": [],
      "source": [
        "# df_swapped = train_data.copy()\n",
        "\n",
        "# # Swap team1 and team2 columns\n",
        "# df_swapped['team1'] = train_data['team2']\n",
        "# df_swapped['team2'] = train_data['team1']\n",
        "\n",
        "# # Swap team1_id and team2_id\n",
        "# df_swapped['team1_id'] = train_data['team2_id']\n",
        "# df_swapped['team2_id'] = train_data['team1_id']\n",
        "\n",
        "# # Swap team1_roster_ids and team2_roster_ids\n",
        "# df_swapped['team1_roster_ids'] = train_data['team2_roster_ids']\n",
        "# df_swapped['team2_roster_ids'] = train_data['team1_roster_ids']\n",
        "\n",
        "# # Combine the original DataFrame and the swapped DataFrame\n",
        "# train_data = pd.concat([train_data, df_swapped], ignore_index=True)"
      ]
    },
    {
      "cell_type": "markdown",
      "source": [
        "### Data imputation\n",
        "\n",
        "We imputed missing strike rate values of players with their past matches averages. Same with sixes, and fours."
      ],
      "metadata": {
        "id": "NrHp7WDRG3vb"
      }
    },
    {
      "cell_type": "code",
      "execution_count": null,
      "metadata": {
        "id": "ukwwhrMJBvcG",
        "outputId": "d2c7f86c-3e1a-4abc-e3f4-c6cf0405d46b"
      },
      "outputs": [
        {
          "name": "stderr",
          "output_type": "stream",
          "text": [
            "100%|████████████████████████████████████████████████████████████████████████| 24483/24483 [00:00<00:00, 140995.90it/s]\n"
          ]
        }
      ],
      "source": [
        "def fill_na_strike_rate_with_mean(row, df):\n",
        "    past_matches = df[(df['match_dt'] < row['match_dt']) & (df['batsman_id'] == row['batsman_id'])]\n",
        "    if not past_matches.empty:\n",
        "        return past_matches['strike_rate'].mean()\n",
        "    else:\n",
        "        return 0\n",
        "\n",
        "batsman_lvl_data['strike_rate'] = batsman_lvl_data.progress_apply(\n",
        "    lambda row: fill_na_strike_rate_with_mean(row, batsman_lvl_data) if pd.isna(row['strike_rate']) else row['strike_rate'],\n",
        "    axis=1\n",
        ")"
      ]
    },
    {
      "cell_type": "code",
      "execution_count": null,
      "metadata": {
        "id": "3HqRqW4GBvcH",
        "outputId": "a38854ef-350c-4278-85ba-97bbb8a1aa35"
      },
      "outputs": [
        {
          "name": "stderr",
          "output_type": "stream",
          "text": [
            "100%|██████████████████████████████████████████████████████████████████████████| 24483/24483 [00:16<00:00, 1459.37it/s]\n"
          ]
        }
      ],
      "source": [
        "def fill_na_Sixes_with_mean(row, df):\n",
        "    past_matches = df[(df['match_dt'] < row['match_dt']) & (df['batsman_id'] == row['batsman_id'])]\n",
        "    if not past_matches.empty:\n",
        "        return past_matches['Sixes'].mean()\n",
        "    else:\n",
        "        return 0\n",
        "\n",
        "batsman_lvl_data['Sixes'] = batsman_lvl_data.progress_apply(\n",
        "    lambda row: fill_na_Sixes_with_mean(row, batsman_lvl_data) if pd.isna(row['Sixes']) else row['Sixes'],\n",
        "    axis=1\n",
        ")"
      ]
    },
    {
      "cell_type": "code",
      "execution_count": null,
      "metadata": {
        "id": "875Nx35NBvcH",
        "outputId": "ed70e315-2505-4c5b-80f0-b1a9f9640d72"
      },
      "outputs": [
        {
          "name": "stderr",
          "output_type": "stream",
          "text": [
            "100%|██████████████████████████████████████████████████████████████████████████| 24483/24483 [00:11<00:00, 2078.25it/s]\n"
          ]
        }
      ],
      "source": [
        "def fill_na_Fours_with_mean(row, df):\n",
        "    past_matches = df[(df['match_dt'] < row['match_dt']) & (df['batsman_id'] == row['batsman_id'])]\n",
        "    if not past_matches.empty:\n",
        "        return past_matches['Fours'].mean()\n",
        "    else:\n",
        "        return 0\n",
        "\n",
        "batsman_lvl_data['Fours'] = batsman_lvl_data.progress_apply(\n",
        "    lambda row: fill_na_Fours_with_mean(row, batsman_lvl_data) if pd.isna(row['Fours']) else row['Fours'],\n",
        "    axis=1\n",
        ")"
      ]
    },
    {
      "cell_type": "code",
      "execution_count": null,
      "metadata": {
        "id": "0hrhuwjbQd1o"
      },
      "outputs": [],
      "source": [
        "train_data['winner_01'] = train_data.apply(lambda x: 0 if (x['team1']==x['winner']) else 1, axis=1)"
      ]
    },
    {
      "cell_type": "code",
      "execution_count": null,
      "metadata": {
        "id": "Jmic1-vCa5dK"
      },
      "outputs": [],
      "source": [
        "train_data['toss_winner_01'] = np.where(train_data['toss winner']== train_data['team2'], 1, 0)\n",
        "test_data['toss_winner_01'] = np.where(test_data['toss winner']== test_data['team2'], 1, 0)"
      ]
    },
    {
      "cell_type": "code",
      "execution_count": null,
      "metadata": {
        "id": "UgUFBdSobLPj"
      },
      "outputs": [],
      "source": [
        "train_data['toss_decision_01'] = np.where(train_data['toss decision']=='bat', 1, 0)\n",
        "test_data['toss_decision_01'] = np.where(test_data['toss decision']=='bat', 1, 0)"
      ]
    },
    {
      "cell_type": "code",
      "execution_count": null,
      "metadata": {
        "id": "6Id-jy_YTii4"
      },
      "outputs": [],
      "source": [
        "columns_remove = ['umpire1','umpire2','player_of_the_match_id','city','venue','batsman_details','bowler_details']"
      ]
    },
    {
      "cell_type": "code",
      "execution_count": null,
      "metadata": {
        "id": "dgyF1xvBM-UN"
      },
      "outputs": [],
      "source": [
        "train_data['match_dt'] = pd.to_datetime(train_data['match_dt'])\n",
        "batsman_lvl_data['match_dt'] = pd.to_datetime(batsman_lvl_data['match_dt'])\n",
        "bowler_lvl_data['match_dt'] = pd.to_datetime(bowler_lvl_data['match_dt'])\n",
        "match_lvl_data['match_dt'] = pd.to_datetime(match_lvl_data['match_dt'])\n",
        "\n",
        "# train_data = train_data.drop(columns = columns_remove, errors = 'ignore')\n",
        "# batsman_lvl_data = batsman_lvl_data.drop(columns = columns_remove, errors = 'ignore')\n",
        "# bowler_lvl_data = bowler_lvl_data.drop(columns = columns_remove, errors = 'ignore')\n",
        "# match_lvl_data = match_lvl_data.drop(columns = columns_remove, errors = 'ignore')"
      ]
    },
    {
      "cell_type": "code",
      "execution_count": null,
      "metadata": {
        "id": "n56j1yJGBvcI"
      },
      "outputs": [],
      "source": [
        "def giveLastNgamesPlayer(player_id, date, n, bat_or_bowl):\n",
        "    if bat_or_bowl == 'bat':\n",
        "        df_topick = batsman_lvl_data\n",
        "        id_col = 'batsman_id'\n",
        "    else:\n",
        "        df_topick = bowler_lvl_data\n",
        "        id_col = 'bowler_id'\n",
        "\n",
        "    player_data = df_topick[(df_topick['match_dt'] < date) & (df_topick[id_col] == float(player_id))]\\\n",
        "        .sort_values(by='match_dt', ascending=False).head(n)\n",
        "\n",
        "    return player_data"
      ]
    },
    {
      "cell_type": "markdown",
      "source": [
        "# Feature Engineering\n",
        "\n"
      ],
      "metadata": {
        "id": "pFMXAbSEIB6y"
      }
    },
    {
      "cell_type": "markdown",
      "source": [
        "### Batting Performance (BP), Adjusted Combined bowling Rate (ACBR), Team_Strength and Current Form\n",
        "\n",
        "These features have been refferenced from [this Research Paper](https://journals.sagepub.com/doi/10.1177/0258042X20912603?icid=int.sj-abstract.similar-articles.1)"
      ],
      "metadata": {
        "id": "Y4ecaGHIIKFN"
      }
    },
    {
      "cell_type": "code",
      "execution_count": null,
      "metadata": {
        "id": "sZS1gLOkBvcI"
      },
      "outputs": [],
      "source": [
        "def calculate_BP_for_player(player_id, date, n):\n",
        "    player_data = giveLastNgamesPlayer(player_id, date, n, 'bat')\n",
        "    if player_data.empty:\n",
        "        return 0\n",
        "    player_data['strike_rate'] = (player_data['runs'] / player_data['balls_faced']) * 100\n",
        "    match_runs = match_lvl_data.loc[match_lvl_data['match id'].isin(player_data['match id']), ['match id', 'inning1_runs', 'inning2_runs', 'inning1_balls', 'inning2_balls']]\n",
        "    match_runs['total_runs'] = match_runs['inning1_runs'] + match_runs['inning2_runs']\n",
        "    match_runs['total_balls'] = match_runs['inning1_balls'] + match_runs['inning2_balls']\n",
        "    match_runs['MSR'] = (match_runs['total_runs'] / match_runs['total_balls']) * 100\n",
        "    player_data = player_data.merge(match_runs[['match id', 'MSR']], on='match id')\n",
        "    player_data['BP'] = (player_data['runs']) * ((player_data['strike_rate']/ player_data['MSR'])**0.5)\n",
        "    return player_data['BP'].mean()"
      ]
    },
    {
      "cell_type": "code",
      "execution_count": null,
      "metadata": {
        "id": "YUIjJKQ7BvcI"
      },
      "outputs": [],
      "source": [
        "def calculate_ACBR_for_player(player_id, date, n):\n",
        "    player_data = giveLastNgamesPlayer(player_id, date, n, 'bowl')\n",
        "    if player_data.empty:\n",
        "        return 0\n",
        "    player_data['RPB'] = (player_data['runs'])/player_data['balls_bowled']\n",
        "    match_runs = match_lvl_data.loc[match_lvl_data['match id'].isin(player_data['match id']),\n",
        "                                            ['match id', 'inning1_runs', 'inning2_runs', 'inning1_balls', 'inning2_balls']]\n",
        "    match_runs['total_runs'] = match_runs['inning1_runs'] + match_runs['inning2_runs']\n",
        "    match_runs['total_balls'] = match_runs['inning1_balls'] + match_runs['inning2_balls']\n",
        "    match_runs['RPBM'] = (match_runs['total_runs'] / match_runs['total_balls'])\n",
        "    player_data = player_data.merge(match_runs[['match id', 'RPBM']], on='match id')\n",
        "\n",
        "    player_data['RA'] = player_data['runs']*((player_data['RPB']/player_data['RPBM'])**0.5)\n",
        "    player_data['Wi_star'] = player_data['wicket_count'] # Placeholder for actual weighted calculation\n",
        "    Ri = np.nansum(player_data['RA'])\n",
        "    Wi = np.nansum(player_data['Wi_star'])\n",
        "    Bi = np.nansum(player_data['balls_bowled'])\n",
        "    ACBR = (3*Ri)/(Wi + (Bi/6) + (Wi*(Ri/Bi)))\n",
        "    return ACBR"
      ]
    },
    {
      "cell_type": "code",
      "execution_count": null,
      "metadata": {
        "id": "mbJ0e4c5BvcI"
      },
      "outputs": [],
      "source": [
        "def calculate_team_metrics(row, n=5):\n",
        "    team_bp = []\n",
        "    team_acbr = []\n",
        "    date = row['match_dt']\n",
        "    team1_players = row['team1_roster_ids'].split(':')\n",
        "    team2_players = row['team2_roster_ids'].split(':')\n",
        "\n",
        "    team1_bp = [calculate_BP_for_player(player_id, date, n) for player_id in team1_players]\n",
        "    team2_bp = [calculate_BP_for_player(player_id, date, n) for player_id in team2_players]\n",
        "\n",
        "    team1_acbr = [calculate_ACBR_for_player(player_id, date, n) for player_id in team1_players]\n",
        "    team2_acbr = [calculate_ACBR_for_player(player_id, date, n) for player_id in team2_players]\n",
        "\n",
        "    team1_bp = sum(team1_bp) / len(team1_bp) if team1_bp else 0\n",
        "    team2_bp = sum(team2_bp) / len(team2_bp) if team2_bp else 0\n",
        "\n",
        "    team1_acbr = sum(team1_acbr) / len(team1_acbr) if team1_acbr else 0\n",
        "    team2_acbr = sum(team2_acbr) / len(team2_acbr) if team2_acbr else 0\n",
        "\n",
        "    return (team1_bp,team2_bp,team1_acbr,team2_acbr)"
      ]
    },
    {
      "cell_type": "code",
      "execution_count": null,
      "metadata": {
        "id": "hi8xJveOBvcJ",
        "outputId": "c9894d95-e238-486e-a406-c31f4eca3ed4"
      },
      "outputs": [
        {
          "name": "stderr",
          "output_type": "stream",
          "text": [
            "100%|████████████████████████████████████████████████████████████████████████████████| 948/948 [02:03<00:00,  7.69it/s]\n"
          ]
        }
      ],
      "source": [
        "results = train_data.progress_apply(lambda row: calculate_team_metrics(row), axis=1)\n",
        "train_data[['team1_bp', 'team2_bp', 'team1_acbr', 'team2_acbr']] = pd.DataFrame(results.tolist(), index=train_data.index)"
      ]
    },
    {
      "cell_type": "code",
      "execution_count": null,
      "metadata": {
        "id": "YlhmIsa9BvcJ",
        "outputId": "7c1fb72c-9fcc-4516-a008-79fa1e16a5b2"
      },
      "outputs": [
        {
          "name": "stderr",
          "output_type": "stream",
          "text": [
            "100%|████████████████████████████████████████████████████████████████████████████████| 271/271 [00:37<00:00,  7.24it/s]\n"
          ]
        }
      ],
      "source": [
        "results = test_data.progress_apply(lambda row: calculate_team_metrics(row), axis=1)\n",
        "test_data[['team1_bp', 'team2_bp', 'team1_acbr', 'team2_acbr']] = pd.DataFrame(results.tolist(), index=test_data.index)"
      ]
    },
    {
      "cell_type": "code",
      "execution_count": null,
      "metadata": {
        "id": "_3Jo43EYBvcJ"
      },
      "outputs": [],
      "source": [
        "team_bps = []\n",
        "team_acbrs = []\n",
        "\n",
        "team_bps.append(train_data['team1_bp'].values)\n",
        "team_bps.append(train_data['team2_bp'].values)\n",
        "team_bps = np.concatenate(team_bps)\n",
        "team_acbrs.append(train_data['team1_acbr'].values)\n",
        "team_acbrs.append(train_data['team2_acbr'].values)\n",
        "team_acbrs = np.concatenate(team_acbrs)\n",
        "max_bp = max(team_bps)\n",
        "min_bp = min(team_bps)\n",
        "max_acbr = max(team_acbrs)\n",
        "min_acbr = min(team_acbrs)"
      ]
    },
    {
      "cell_type": "code",
      "execution_count": null,
      "metadata": {
        "id": "ehq_EnlXBvcJ"
      },
      "outputs": [],
      "source": [
        "def normalized_metrics(row):\n",
        "    team1_bp = row['team1_bp']\n",
        "    team2_bp = row['team2_bp']\n",
        "\n",
        "    team1_acbr = row['team1_acbr']\n",
        "    team2_acbr = row['team2_acbr']\n",
        "\n",
        "    normalized_bp_team1 = (team1_bp - min_bp) / (max_bp - min_bp)\n",
        "    normalized_bp_team2 = (team2_bp - min_bp) / (max_bp - min_bp)\n",
        "\n",
        "    normalized_acbr_team1 = (max_acbr - team1_acbr) / (max_acbr - min_acbr)\n",
        "    normalized_acbr_team2 = (max_acbr - team2_acbr) / (max_acbr - min_acbr)\n",
        "\n",
        "    return (normalized_bp_team1, normalized_bp_team2,normalized_acbr_team1,normalized_acbr_team2)"
      ]
    },
    {
      "cell_type": "code",
      "execution_count": null,
      "metadata": {
        "id": "tt9dbp13BvcJ",
        "outputId": "69b15d0f-9cea-47e7-eaa2-e8b953eb5306"
      },
      "outputs": [
        {
          "name": "stderr",
          "output_type": "stream",
          "text": [
            "100%|█████████████████████████████████████████████████████████████████████████████| 948/948 [00:00<00:00, 79784.10it/s]\n"
          ]
        }
      ],
      "source": [
        "results = train_data.progress_apply(lambda row: normalized_metrics(row), axis=1)\n",
        "normalized_metrics = pd.DataFrame()\n",
        "normalized_metrics[['normalized_bp_team1','normalized_bp_team2','normalized_acbr_team1','normalized_acbr_team2']] = pd.DataFrame(results.tolist(), index=train_data.index)"
      ]
    },
    {
      "cell_type": "code",
      "execution_count": null,
      "metadata": {
        "id": "O5GYv1ROBvcJ"
      },
      "outputs": [],
      "source": [
        "var_bp = np.nanvar(np.concatenate(normalized_metrics.loc[:,['normalized_bp_team1','normalized_bp_team2']].values))\n",
        "var_acbr = np.nanvar(np.concatenate(normalized_metrics.loc[:,['normalized_acbr_team1','normalized_acbr_team2']].values))\n",
        "C = 1/((1/np.sqrt(var_bp)) + (1/np.sqrt(var_acbr)))\n",
        "w_bp = C/np.sqrt(var_bp)\n",
        "w_acbr = C/np.sqrt(var_acbr)"
      ]
    },
    {
      "cell_type": "code",
      "execution_count": null,
      "metadata": {
        "id": "glQXKs5wBvcJ"
      },
      "outputs": [],
      "source": [
        "def calculate_team_strength(row):\n",
        "    team1_bp = row['team1_bp']\n",
        "    team2_bp = row['team2_bp']\n",
        "\n",
        "    team1_acbr = row['team1_acbr']\n",
        "    team2_acbr = row['team2_acbr']\n",
        "\n",
        "    normalized_bp_team1 = (team1_bp - min_bp) / (max_bp - min_bp)\n",
        "    normalized_bp_team2 = (team2_bp - min_bp) / (max_bp - min_bp)\n",
        "\n",
        "    normalized_acbr_team1 = (max_acbr - team1_acbr) / (max_acbr - min_acbr)\n",
        "    normalized_acbr_team2 = (max_acbr - team2_acbr) / (max_acbr - min_acbr)\n",
        "\n",
        "    strength_team1 = w_bp * normalized_bp_team1 + w_acbr * normalized_acbr_team1\n",
        "    strength_team2 = w_bp * normalized_bp_team2 + w_acbr * normalized_acbr_team2\n",
        "\n",
        "    return (strength_team1, strength_team2)"
      ]
    },
    {
      "cell_type": "code",
      "execution_count": null,
      "metadata": {
        "id": "Cttxy3qOBvcJ",
        "outputId": "5c67de1e-0255-4c0e-d8f0-42a01f82d40f"
      },
      "outputs": [
        {
          "name": "stderr",
          "output_type": "stream",
          "text": [
            "100%|█████████████████████████████████████████████████████████████████████████████| 948/948 [00:00<00:00, 84216.55it/s]\n"
          ]
        }
      ],
      "source": [
        "results = train_data.progress_apply(lambda row: calculate_team_strength(row), axis=1)\n",
        "train_data[['strength_team1', 'strength_team2']] = pd.DataFrame(results.tolist(), index=train_data.index)"
      ]
    },
    {
      "cell_type": "code",
      "execution_count": null,
      "metadata": {
        "id": "cDTrOy4iBvcK"
      },
      "outputs": [],
      "source": [
        "team_bps = []\n",
        "team_acbrs = []\n",
        "\n",
        "team_bps.append(test_data['team1_bp'].values)\n",
        "team_bps.append(test_data['team2_bp'].values)\n",
        "team_bps = np.concatenate(team_bps)\n",
        "team_acbrs.append(test_data['team1_acbr'].values)\n",
        "team_acbrs.append(test_data['team2_acbr'].values)\n",
        "team_acbrs = np.concatenate(team_acbrs)\n",
        "max_bp = max(team_bps)\n",
        "min_bp = min(team_bps)\n",
        "max_acbr = max(team_acbrs)\n",
        "min_acbr = min(team_acbrs)"
      ]
    },
    {
      "cell_type": "code",
      "execution_count": null,
      "metadata": {
        "id": "PxnUqRsBBvcK",
        "outputId": "f722c0f3-4413-4c5c-d08b-fef5cd269ab2"
      },
      "outputs": [
        {
          "name": "stderr",
          "output_type": "stream",
          "text": [
            "100%|█████████████████████████████████████████████████████████████████████████████| 271/271 [00:00<00:00, 63954.11it/s]\n"
          ]
        }
      ],
      "source": [
        "results = test_data.progress_apply(lambda row: calculate_team_strength(row), axis=1)\n",
        "test_data[['strength_team1', 'strength_team2']] = pd.DataFrame(results.tolist(), index=test_data.index)"
      ]
    },
    {
      "cell_type": "code",
      "execution_count": null,
      "metadata": {
        "id": "PJlI6QaEBvcK"
      },
      "outputs": [],
      "source": [
        "def get_cf(team_id, match_date, team_strength, n_last_matches):\n",
        "    n_last_matches = n_last_matches if n_last_matches < 5 else 5\n",
        "    last_matches = match_lvl_data[((match_lvl_data['team1_id'] == team_id) | (match_lvl_data['team2_id'] == team_id)) & (match_lvl_data['match_dt'] < match_date)]\n",
        "    last_matches = last_matches.sort_values(by='match_dt', ascending=False).head(n_last_matches)\n",
        "\n",
        "    if last_matches.empty:\n",
        "        return 0\n",
        "\n",
        "    last_matches['win'] = (last_matches['winner_id'] == team_id).astype(int)\n",
        "    last_matches['weight'] = [(0.8 ** i) for i in range(len(last_matches))]\n",
        "    strength_factor = team_strength\n",
        "    x = np.array([((1-strength_factor)**(i+1)) for i in range(len(last_matches))])\n",
        "    y = np.array(last_matches['win'])\n",
        "    cf = (((x*y).sum())/(x.sum()))\n",
        "    return cf\n",
        "\n",
        "def calculate_current_form(row):\n",
        "    date = row['match_dt']\n",
        "    team1_id = row['team1_id']\n",
        "    team2_id = row['team2_id']\n",
        "    team1_strength = row['strength_team1']\n",
        "    team2_strength = row['strength_team2']\n",
        "\n",
        "    a = len(match_lvl_data[((match_lvl_data['team1_id'] == team1_id) | (match_lvl_data['team2_id'] == team1_id))\n",
        "                                            & (match_lvl_data['match_dt'] < date)].sort_values(by='match_dt', ascending=False))\n",
        "    b = len(match_lvl_data[((match_lvl_data['team1_id'] == team2_id) | (match_lvl_data['team2_id'] == team2_id))\n",
        "                                            & (match_lvl_data['match_dt'] < date)].sort_values(by='match_dt', ascending=False))\n",
        "\n",
        "    n_last_matches = a if a < b else b\n",
        "\n",
        "    team1_cf = get_cf(team1_id, date, team1_strength, n_last_matches)\n",
        "    team2_cf = get_cf(team2_id, date, team2_strength, n_last_matches)\n",
        "\n",
        "    return (team1_cf, team2_cf)"
      ]
    },
    {
      "cell_type": "code",
      "execution_count": null,
      "metadata": {
        "id": "RmsCcZ7LBvcK",
        "outputId": "6f084aed-8318-445b-9fe9-f472bfd1ef64"
      },
      "outputs": [
        {
          "name": "stderr",
          "output_type": "stream",
          "text": [
            "100%|███████████████████████████████████████████████████████████████████████████████| 948/948 [00:03<00:00, 282.51it/s]\n"
          ]
        }
      ],
      "source": [
        "results = train_data.progress_apply(lambda row: calculate_current_form(row), axis=1)\n",
        "train_data[['current_form_team1', 'current_form_team2']] = pd.DataFrame(results.tolist(), index=train_data.index)"
      ]
    },
    {
      "cell_type": "code",
      "execution_count": null,
      "metadata": {
        "id": "ycAr22ncBvcK",
        "outputId": "84e4860f-a0b8-4e01-c456-f12dca84693e"
      },
      "outputs": [
        {
          "name": "stderr",
          "output_type": "stream",
          "text": [
            "100%|███████████████████████████████████████████████████████████████████████████████| 271/271 [00:00<00:00, 275.20it/s]\n"
          ]
        }
      ],
      "source": [
        "results = test_data.progress_apply(lambda row: calculate_current_form(row), axis=1)\n",
        "test_data[['current_form_team1', 'current_form_team2']] = pd.DataFrame(results.tolist(), index=test_data.index)"
      ]
    },
    {
      "cell_type": "markdown",
      "source": [
        "\n",
        "\n",
        "---\n",
        "\n"
      ],
      "metadata": {
        "id": "7Inae22ELE9Y"
      }
    },
    {
      "cell_type": "markdown",
      "source": [
        "### Number of 50s in last N Games"
      ],
      "metadata": {
        "id": "qn4iDgyNLP7i"
      }
    },
    {
      "cell_type": "code",
      "execution_count": null,
      "metadata": {
        "id": "RA9rPA2eQmGG"
      },
      "outputs": [],
      "source": [
        "def no50sLastn(player_list, date, n):\n",
        "    '''\n",
        "    Function to get total number of 50s scored by players in the roster of a team in last n games.\n",
        "\n",
        "    Input-\n",
        "    1. player_list: ':' separated list of player ids in the rost\n",
        "    er of a team.\n",
        "    2. date: match date of the game to calculate this feature.\n",
        "    3. n: Number of games to look-back and create this feature.\n",
        "\n",
        "    Output-None\n",
        "\n",
        "    Returns- int value denoting sum of 50s scored by all players in the roster.\n",
        "    '''\n",
        "\n",
        "    player_list = str(player_list).split(':') # split string of ':' separated ids into a list of ids\n",
        "    res_list = []\n",
        "    for player in player_list: # loop over each player_id in roster\n",
        "        df_rel = giveLastNgamesPlayer(player_id=player, date=date, n=n, bat_or_bowl='bat') # getting batting stats from last n games for each player.\n",
        "        df_rel['gte_50runs'] = np.where(df_rel['runs']>=50, 1, 0) # binary indicator to denote whether the player scored a 50 in the game (runs>=50).\n",
        "        res_list.append(np.nansum(df_rel['gte_50runs']))# Sum up number of 50s for the player and append to a list. We will do this for all players.\n",
        "    return np.nansum(res_list)# Sum up values of the list which is sum of 50s by all players in the roster."
      ]
    },
    {
      "cell_type": "code",
      "execution_count": null,
      "metadata": {
        "colab": {
          "base_uri": "https://localhost:8080/"
        },
        "id": "Ntbc92O2QmEO",
        "outputId": "39a23ee8-4e87-4016-f9f7-3c0723cd3a2e"
      },
      "outputs": [
        {
          "name": "stderr",
          "output_type": "stream",
          "text": [
            "100%|████████████████████████████████████████████████████████████████████████████████| 948/948 [00:09<00:00, 95.27it/s]\n",
            "100%|████████████████████████████████████████████████████████████████████████████████| 948/948 [00:09<00:00, 98.13it/s]\n"
          ]
        }
      ],
      "source": [
        "# Computing number of 50 runs in last 15 games for team1 for train dataset.\n",
        "train_data['team1_count_50runs_last15'] = train_data.progress_apply(lambda x: \\\n",
        "            no50sLastn(player_list=x['team1_roster_ids'], date=x['match_dt'], n=5), axis=1)\n",
        "# Computing number of 50 runs in last 15 games for team2 for train dataset.\n",
        "train_data['team2_count_50runs_last15'] = train_data.progress_apply(lambda x: \\\n",
        "            no50sLastn(player_list=x['team2_roster_ids'], date=x['match_dt'], n=5), axis=1)"
      ]
    },
    {
      "cell_type": "code",
      "execution_count": null,
      "metadata": {
        "colab": {
          "base_uri": "https://localhost:8080/",
          "height": 236
        },
        "id": "zTofZv3iQl9H",
        "outputId": "3a502b55-3e80-4936-d8a8-137d43038657"
      },
      "outputs": [
        {
          "name": "stderr",
          "output_type": "stream",
          "text": [
            "100%|████████████████████████████████████████████████████████████████████████████████| 271/271 [00:02<00:00, 91.67it/s]\n",
            "100%|████████████████████████████████████████████████████████████████████████████████| 271/271 [00:02<00:00, 92.94it/s]\n"
          ]
        },
        {
          "data": {
            "text/html": [
              "<div>\n",
              "<style scoped>\n",
              "    .dataframe tbody tr th:only-of-type {\n",
              "        vertical-align: middle;\n",
              "    }\n",
              "\n",
              "    .dataframe tbody tr th {\n",
              "        vertical-align: top;\n",
              "    }\n",
              "\n",
              "    .dataframe thead th {\n",
              "        text-align: right;\n",
              "    }\n",
              "</style>\n",
              "<table border=\"1\" class=\"dataframe\">\n",
              "  <thead>\n",
              "    <tr style=\"text-align: right;\">\n",
              "      <th></th>\n",
              "      <th>match id</th>\n",
              "      <th>team1</th>\n",
              "      <th>team1_id</th>\n",
              "      <th>team1_roster_ids</th>\n",
              "      <th>team2</th>\n",
              "      <th>team2_id</th>\n",
              "      <th>team2_roster_ids</th>\n",
              "      <th>toss winner</th>\n",
              "      <th>toss decision</th>\n",
              "      <th>venue</th>\n",
              "      <th>city</th>\n",
              "      <th>match_dt</th>\n",
              "      <th>lighting</th>\n",
              "      <th>series_name</th>\n",
              "      <th>season</th>\n",
              "      <th>ground_id</th>\n",
              "      <th>team_count_50runs_last15</th>\n",
              "      <th>team_winp_last5</th>\n",
              "      <th>team1only_avg_runs_last15</th>\n",
              "      <th>team1_winp_team2_last15</th>\n",
              "      <th>ground_avg_runs_last15</th>\n",
              "      <th>toss_winner_01</th>\n",
              "      <th>toss_decision_01</th>\n",
              "      <th>team1_bp</th>\n",
              "      <th>team2_bp</th>\n",
              "      <th>team1_acbr</th>\n",
              "      <th>team2_acbr</th>\n",
              "      <th>strength_team1</th>\n",
              "      <th>strength_team2</th>\n",
              "      <th>current_form_team1</th>\n",
              "      <th>current_form_team2</th>\n",
              "      <th>team1_count_50runs_last15</th>\n",
              "      <th>team2_count_50runs_last15</th>\n",
              "    </tr>\n",
              "  </thead>\n",
              "  <tbody>\n",
              "    <tr>\n",
              "      <th>0</th>\n",
              "      <td>9250275</td>\n",
              "      <td>Jy</td>\n",
              "      <td>28594</td>\n",
              "      <td>7438955.0:8271969.0:8369661.0:3685247.0:2590251.0:7785497.0:7785553.0:3296264.0:4613622.0:2904796.0:3685289.0</td>\n",
              "      <td>Ud Ss of Aa</td>\n",
              "      <td>90</td>\n",
              "      <td>2436944.0:8117500.0:6703528.0:3010748.0:1613870.0:8934764.0:2721480.0:1632819.0:2789604.0:6489846.0:1565507.0</td>\n",
              "      <td>Ud Ss of Aa</td>\n",
              "      <td>field</td>\n",
              "      <td>Bo Ac Cb</td>\n",
              "      <td>Bulawayo</td>\n",
              "      <td>2022-07-11</td>\n",
              "      <td>day match</td>\n",
              "      <td>Ud Ss of Aa tr of Ze</td>\n",
              "      <td>2022</td>\n",
              "      <td>3226</td>\n",
              "      <td>0.000000</td>\n",
              "      <td>0.019608</td>\n",
              "      <td>NaN</td>\n",
              "      <td>0.00</td>\n",
              "      <td>NaN</td>\n",
              "      <td>1</td>\n",
              "      <td>0</td>\n",
              "      <td>0.908000</td>\n",
              "      <td>13.432074</td>\n",
              "      <td>0.00000</td>\n",
              "      <td>6.028728</td>\n",
              "      <td>0.556415</td>\n",
              "      <td>0.630573</td>\n",
              "      <td>0.000000</td>\n",
              "      <td>0.000000</td>\n",
              "      <td>0</td>\n",
              "      <td>2</td>\n",
              "    </tr>\n",
              "    <tr>\n",
              "      <th>1</th>\n",
              "      <td>9262189</td>\n",
              "      <td>Ga An Ws</td>\n",
              "      <td>36084</td>\n",
              "      <td>3715690.0:6818622.0:4069666.0:393014.0:4690188.0:4739552.0:4690328.0:5744850.0:4739580.0:9266102.0:284339.0</td>\n",
              "      <td>Ja Ts</td>\n",
              "      <td>36098</td>\n",
              "      <td>4690258.0:3761246.0:8464385.0:5742470.0:3150720.0:4690104.0:181404.0:1594319.0:5509524.0:4239794.0:2036649.0</td>\n",
              "      <td>Ja Ts</td>\n",
              "      <td>field</td>\n",
              "      <td>Pe Sm Ga</td>\n",
              "      <td>Providence</td>\n",
              "      <td>2022-09-21</td>\n",
              "      <td>night match</td>\n",
              "      <td>Cn Pr Le</td>\n",
              "      <td>2022</td>\n",
              "      <td>13915</td>\n",
              "      <td>0.615385</td>\n",
              "      <td>0.344262</td>\n",
              "      <td>151.285714</td>\n",
              "      <td>66.67</td>\n",
              "      <td>153.5</td>\n",
              "      <td>1</td>\n",
              "      <td>0</td>\n",
              "      <td>14.555116</td>\n",
              "      <td>16.745207</td>\n",
              "      <td>11.15597</td>\n",
              "      <td>12.357269</td>\n",
              "      <td>0.530320</td>\n",
              "      <td>0.539860</td>\n",
              "      <td>0.119725</td>\n",
              "      <td>0.332058</td>\n",
              "      <td>3</td>\n",
              "      <td>4</td>\n",
              "    </tr>\n",
              "  </tbody>\n",
              "</table>\n",
              "</div>"
            ],
            "text/plain": [
              "   match id     team1  team1_id  ... current_form_team2 team1_count_50runs_last15  team2_count_50runs_last15\n",
              "0  9250275   Jy        28594     ...  0.000000           0                         2                        \n",
              "1  9262189   Ga An Ws  36084     ...  0.332058           3                         4                        \n",
              "\n",
              "[2 rows x 33 columns]"
            ]
          },
          "execution_count": 39,
          "metadata": {},
          "output_type": "execute_result"
        }
      ],
      "source": [
        "test_data['team1_count_50runs_last15'] = test_data.progress_apply(lambda x: \\\n",
        "            no50sLastn(player_list=x['team1_roster_ids'], date=x['match_dt'], n=5), axis=1)\n",
        "test_data['team2_count_50runs_last15'] = test_data.progress_apply(lambda x: \\\n",
        "            no50sLastn(player_list=x['team2_roster_ids'], date=x['match_dt'], n=5), axis=1)"
      ]
    },
    {
      "cell_type": "markdown",
      "source": [
        "### Win Percent of teams in last n"
      ],
      "metadata": {
        "id": "gA65gKMhLaTP"
      }
    },
    {
      "cell_type": "code",
      "execution_count": null,
      "metadata": {
        "id": "3xhIK0z_Ql5v"
      },
      "outputs": [],
      "source": [
        "def winpLastn(team_id, date, n):\n",
        "    '''\n",
        "    Get a team's win % in last n games. If a team has won 3 game out of their last 5, win% is 60%.\n",
        "    '''\n",
        "    # filter out games with either team1/2_id as input team id, match_dt being before current game's date, sort desc by date, and get top n rows (games)\n",
        "    df_rel = match_lvl_data[(match_lvl_data['match_dt']<date)&\\\n",
        "                      ((match_lvl_data['team1_id']==team_id)|(match_lvl_data['team2_id']==team_id))]\\\n",
        "                        .sort_values(by='match_dt', ascending=False).head(n)\n",
        "    win_count = df_rel[df_rel['winner_id']==team_id].shape[0] # count number of rows having winner as the input team\n",
        "    if win_count == 0:\n",
        "        return 0\n",
        "    return round(win_count*100/df_rel.shape[0], 2) # return win% rounded to two decimal points"
      ]
    },
    {
      "cell_type": "code",
      "execution_count": null,
      "metadata": {
        "colab": {
          "base_uri": "https://localhost:8080/"
        },
        "id": "1AED8WgeQl30",
        "outputId": "6c264150-33fe-45b9-8501-d9d39730052c"
      },
      "outputs": [
        {
          "name": "stderr",
          "output_type": "stream",
          "text": [
            "100%|██████████████████████████████████████████████████████████████████████████████| 948/948 [00:00<00:00, 1000.90it/s]\n",
            "100%|██████████████████████████████████████████████████████████████████████████████| 948/948 [00:00<00:00, 1145.95it/s]\n"
          ]
        }
      ],
      "source": [
        "# Compute team1's win% in last 10 games\n",
        "train_data['team1_winp_last5'] = train_data.progress_apply(lambda x: \\\n",
        "                                  winpLastn(x['team1_id'], x['match_dt'], 5), axis=1)\n",
        "# Compute team2's win% in last 10 games\n",
        "train_data['team2_winp_last5'] = train_data.progress_apply(lambda x: \\\n",
        "                                  winpLastn(x['team2_id'], x['match_dt'], 5), axis=1)"
      ]
    },
    {
      "cell_type": "code",
      "execution_count": null,
      "metadata": {
        "colab": {
          "base_uri": "https://localhost:8080/",
          "height": 236
        },
        "id": "nrxTmXtZQlz2",
        "outputId": "280c67a3-e928-4adb-fbae-55f6f354d6be"
      },
      "outputs": [
        {
          "name": "stderr",
          "output_type": "stream",
          "text": [
            "100%|██████████████████████████████████████████████████████████████████████████████| 271/271 [00:00<00:00, 1108.99it/s]\n",
            "100%|██████████████████████████████████████████████████████████████████████████████| 271/271 [00:00<00:00, 1125.29it/s]\n"
          ]
        },
        {
          "data": {
            "text/html": [
              "<div>\n",
              "<style scoped>\n",
              "    .dataframe tbody tr th:only-of-type {\n",
              "        vertical-align: middle;\n",
              "    }\n",
              "\n",
              "    .dataframe tbody tr th {\n",
              "        vertical-align: top;\n",
              "    }\n",
              "\n",
              "    .dataframe thead th {\n",
              "        text-align: right;\n",
              "    }\n",
              "</style>\n",
              "<table border=\"1\" class=\"dataframe\">\n",
              "  <thead>\n",
              "    <tr style=\"text-align: right;\">\n",
              "      <th></th>\n",
              "      <th>match id</th>\n",
              "      <th>team1</th>\n",
              "      <th>team1_id</th>\n",
              "      <th>team1_roster_ids</th>\n",
              "      <th>team2</th>\n",
              "      <th>team2_id</th>\n",
              "      <th>team2_roster_ids</th>\n",
              "      <th>toss winner</th>\n",
              "      <th>toss decision</th>\n",
              "      <th>venue</th>\n",
              "      <th>city</th>\n",
              "      <th>match_dt</th>\n",
              "      <th>lighting</th>\n",
              "      <th>series_name</th>\n",
              "      <th>season</th>\n",
              "      <th>ground_id</th>\n",
              "      <th>team_count_50runs_last15</th>\n",
              "      <th>team_winp_last5</th>\n",
              "      <th>team1only_avg_runs_last15</th>\n",
              "      <th>team1_winp_team2_last15</th>\n",
              "      <th>ground_avg_runs_last15</th>\n",
              "      <th>toss_winner_01</th>\n",
              "      <th>toss_decision_01</th>\n",
              "      <th>team1_bp</th>\n",
              "      <th>team2_bp</th>\n",
              "      <th>team1_acbr</th>\n",
              "      <th>team2_acbr</th>\n",
              "      <th>strength_team1</th>\n",
              "      <th>strength_team2</th>\n",
              "      <th>current_form_team1</th>\n",
              "      <th>current_form_team2</th>\n",
              "      <th>team1_count_50runs_last15</th>\n",
              "      <th>team2_count_50runs_last15</th>\n",
              "      <th>team1_winp_last5</th>\n",
              "      <th>team2_winp_last5</th>\n",
              "    </tr>\n",
              "  </thead>\n",
              "  <tbody>\n",
              "    <tr>\n",
              "      <th>0</th>\n",
              "      <td>9250275</td>\n",
              "      <td>Jy</td>\n",
              "      <td>28594</td>\n",
              "      <td>7438955.0:8271969.0:8369661.0:3685247.0:2590251.0:7785497.0:7785553.0:3296264.0:4613622.0:2904796.0:3685289.0</td>\n",
              "      <td>Ud Ss of Aa</td>\n",
              "      <td>90</td>\n",
              "      <td>2436944.0:8117500.0:6703528.0:3010748.0:1613870.0:8934764.0:2721480.0:1632819.0:2789604.0:6489846.0:1565507.0</td>\n",
              "      <td>Ud Ss of Aa</td>\n",
              "      <td>field</td>\n",
              "      <td>Bo Ac Cb</td>\n",
              "      <td>Bulawayo</td>\n",
              "      <td>2022-07-11</td>\n",
              "      <td>day match</td>\n",
              "      <td>Ud Ss of Aa tr of Ze</td>\n",
              "      <td>2022</td>\n",
              "      <td>3226</td>\n",
              "      <td>0.000000</td>\n",
              "      <td>0.019608</td>\n",
              "      <td>NaN</td>\n",
              "      <td>0.00</td>\n",
              "      <td>NaN</td>\n",
              "      <td>1</td>\n",
              "      <td>0</td>\n",
              "      <td>0.908000</td>\n",
              "      <td>13.432074</td>\n",
              "      <td>0.00000</td>\n",
              "      <td>6.028728</td>\n",
              "      <td>0.556415</td>\n",
              "      <td>0.630573</td>\n",
              "      <td>0.000000</td>\n",
              "      <td>0.000000</td>\n",
              "      <td>0</td>\n",
              "      <td>2</td>\n",
              "      <td>0.0</td>\n",
              "      <td>50.0</td>\n",
              "    </tr>\n",
              "    <tr>\n",
              "      <th>1</th>\n",
              "      <td>9262189</td>\n",
              "      <td>Ga An Ws</td>\n",
              "      <td>36084</td>\n",
              "      <td>3715690.0:6818622.0:4069666.0:393014.0:4690188.0:4739552.0:4690328.0:5744850.0:4739580.0:9266102.0:284339.0</td>\n",
              "      <td>Ja Ts</td>\n",
              "      <td>36098</td>\n",
              "      <td>4690258.0:3761246.0:8464385.0:5742470.0:3150720.0:4690104.0:181404.0:1594319.0:5509524.0:4239794.0:2036649.0</td>\n",
              "      <td>Ja Ts</td>\n",
              "      <td>field</td>\n",
              "      <td>Pe Sm Ga</td>\n",
              "      <td>Providence</td>\n",
              "      <td>2022-09-21</td>\n",
              "      <td>night match</td>\n",
              "      <td>Cn Pr Le</td>\n",
              "      <td>2022</td>\n",
              "      <td>13915</td>\n",
              "      <td>0.615385</td>\n",
              "      <td>0.344262</td>\n",
              "      <td>151.285714</td>\n",
              "      <td>66.67</td>\n",
              "      <td>153.5</td>\n",
              "      <td>1</td>\n",
              "      <td>0</td>\n",
              "      <td>14.555116</td>\n",
              "      <td>16.745207</td>\n",
              "      <td>11.15597</td>\n",
              "      <td>12.357269</td>\n",
              "      <td>0.530320</td>\n",
              "      <td>0.539860</td>\n",
              "      <td>0.119725</td>\n",
              "      <td>0.332058</td>\n",
              "      <td>3</td>\n",
              "      <td>4</td>\n",
              "      <td>20.0</td>\n",
              "      <td>60.0</td>\n",
              "    </tr>\n",
              "  </tbody>\n",
              "</table>\n",
              "</div>"
            ],
            "text/plain": [
              "   match id     team1  team1_id  ... team2_count_50runs_last15 team1_winp_last5  team2_winp_last5\n",
              "0  9250275   Jy        28594     ...  2                         0.0              50.0            \n",
              "1  9262189   Ga An Ws  36084     ...  4                         20.0             60.0            \n",
              "\n",
              "[2 rows x 35 columns]"
            ]
          },
          "execution_count": 42,
          "metadata": {},
          "output_type": "execute_result"
        }
      ],
      "source": [
        "test_data['team1_winp_last5'] = test_data.progress_apply(lambda x: \\\n",
        "            winpLastn(team_id=x['team1_id'], date=x['match_dt'], n=5), axis=1)\n",
        "test_data['team2_winp_last5'] = test_data.progress_apply(lambda x: \\\n",
        "            winpLastn(team_id=x['team2_id'], date=x['match_dt'], n=5), axis=1)"
      ]
    },
    {
      "cell_type": "code",
      "execution_count": null,
      "metadata": {
        "id": "ycwVeHVjQlyg"
      },
      "outputs": [],
      "source": [
        "match_lvl_data['team1_bat_inning'] = np.where( ((match_lvl_data['team1']==match_lvl_data['toss winner'])&(match_lvl_data['toss decision']=='bat'))|\\\n",
        "                                               ((match_lvl_data['team2']==match_lvl_data['toss winner'])&(match_lvl_data['toss decision']=='field')) , 1, 2)\n",
        "match_lvl_data['team2_bat_inning'] = np.where( ((match_lvl_data['team1']==match_lvl_data['toss winner'])&(match_lvl_data['toss decision']=='field'))|\\\n",
        "                                               ((match_lvl_data['team2']==match_lvl_data['toss winner'])&(match_lvl_data['toss decision']=='bat')) , 1, 2)"
      ]
    },
    {
      "cell_type": "markdown",
      "source": [
        "### Team Average Runs Last n games"
      ],
      "metadata": {
        "id": "UORTg2T1Li47"
      }
    },
    {
      "cell_type": "code",
      "execution_count": null,
      "metadata": {
        "id": "f-D1dpfoQlus"
      },
      "outputs": [],
      "source": [
        "import pandas as pd\n",
        "\n",
        "def teamAvgRunsLastn(team_id, date, n):\n",
        "    '''\n",
        "    Function to calculate a team's average runs in their last n games.\n",
        "\n",
        "    Input-\n",
        "    1. team_id: ID of the team to calculate average runs.\n",
        "    2. date: match date of the current game for which the feature is calculated.\n",
        "    3. n: look-back window of games for the team.\n",
        "    4. match_lvl_data: DataFrame containing match level data.\n",
        "\n",
        "    Output- None\n",
        "\n",
        "    Return- Float value denoting average of runs scored by team1 in their last n games.\n",
        "    '''\n",
        "    # Filter out games with either team1_id or team2_id as the input team_id, and match date less than the input date\n",
        "    df_rel = match_lvl_data[(match_lvl_data['match_dt'] < date) &\n",
        "                            ((match_lvl_data['team1_id'] == team_id) | (match_lvl_data['team2_id'] == team_id))] \\\n",
        "                            .sort_values(by='match_dt', ascending=False).head(n)\n",
        "\n",
        "    if df_rel.empty:\n",
        "        return 0.0\n",
        "\n",
        "    # Separate dataframes for when the team is batting first or second\n",
        "    df_batting_first = df_rel[df_rel['team1_id'] == team_id][['inning1_runs']].rename(columns={'inning1_runs': 'runs'})\n",
        "    df_batting_second = df_rel[df_rel['team2_id'] == team_id][['inning2_runs']].rename(columns={'inning2_runs': 'runs'})\n",
        "\n",
        "    # Concatenate the two dataframes\n",
        "    df_combined = pd.concat([df_batting_first, df_batting_second])\n",
        "\n",
        "    # Calculate the mean runs, ensuring to handle any NaN values\n",
        "    return df_combined['runs'].dropna().mean()"
      ]
    },
    {
      "cell_type": "code",
      "execution_count": null,
      "metadata": {
        "colab": {
          "base_uri": "https://localhost:8080/"
        },
        "id": "Xu6M4tPZQls1",
        "outputId": "8021ec7b-ec3a-4e48-f992-260f99a8cbc7"
      },
      "outputs": [
        {
          "name": "stderr",
          "output_type": "stream",
          "text": [
            "100%|███████████████████████████████████████████████████████████████████████████████| 948/948 [00:02<00:00, 447.92it/s]\n"
          ]
        }
      ],
      "source": [
        "# Compute average runs scored by team1 in their last 15 games for train data.\n",
        "train_data['team1only_avg_runs_last15'] = train_data.progress_apply(lambda x: \\\n",
        "                                  teamAvgRunsLastn(x['team1_id'], x['match_dt'], 5), axis=1)"
      ]
    },
    {
      "cell_type": "code",
      "execution_count": null,
      "metadata": {
        "colab": {
          "base_uri": "https://localhost:8080/"
        },
        "id": "Klzy075zupWs",
        "outputId": "331a81eb-a706-4cc6-816d-22d4c910094e"
      },
      "outputs": [
        {
          "name": "stderr",
          "output_type": "stream",
          "text": [
            "100%|███████████████████████████████████████████████████████████████████████████████| 948/948 [00:02<00:00, 449.21it/s]\n"
          ]
        }
      ],
      "source": [
        "train_data['team2only_avg_runs_last15'] = train_data.progress_apply(lambda x: \\\n",
        "                                  teamAvgRunsLastn(x['team2_id'], x['match_dt'], 5), axis=1)"
      ]
    },
    {
      "cell_type": "code",
      "execution_count": null,
      "metadata": {
        "colab": {
          "base_uri": "https://localhost:8080/",
          "height": 236
        },
        "id": "lOUIOSavQlrR",
        "outputId": "5b978a95-fad8-4685-942e-32db09f9fcdb"
      },
      "outputs": [
        {
          "name": "stderr",
          "output_type": "stream",
          "text": [
            "100%|███████████████████████████████████████████████████████████████████████████████| 271/271 [00:00<00:00, 442.51it/s]\n",
            "100%|███████████████████████████████████████████████████████████████████████████████| 271/271 [00:00<00:00, 441.65it/s]\n"
          ]
        },
        {
          "data": {
            "text/html": [
              "<div>\n",
              "<style scoped>\n",
              "    .dataframe tbody tr th:only-of-type {\n",
              "        vertical-align: middle;\n",
              "    }\n",
              "\n",
              "    .dataframe tbody tr th {\n",
              "        vertical-align: top;\n",
              "    }\n",
              "\n",
              "    .dataframe thead th {\n",
              "        text-align: right;\n",
              "    }\n",
              "</style>\n",
              "<table border=\"1\" class=\"dataframe\">\n",
              "  <thead>\n",
              "    <tr style=\"text-align: right;\">\n",
              "      <th></th>\n",
              "      <th>match id</th>\n",
              "      <th>team1</th>\n",
              "      <th>team1_id</th>\n",
              "      <th>team1_roster_ids</th>\n",
              "      <th>team2</th>\n",
              "      <th>team2_id</th>\n",
              "      <th>team2_roster_ids</th>\n",
              "      <th>toss winner</th>\n",
              "      <th>toss decision</th>\n",
              "      <th>venue</th>\n",
              "      <th>city</th>\n",
              "      <th>match_dt</th>\n",
              "      <th>lighting</th>\n",
              "      <th>series_name</th>\n",
              "      <th>season</th>\n",
              "      <th>ground_id</th>\n",
              "      <th>team_count_50runs_last15</th>\n",
              "      <th>team_winp_last5</th>\n",
              "      <th>team1only_avg_runs_last15</th>\n",
              "      <th>team1_winp_team2_last15</th>\n",
              "      <th>ground_avg_runs_last15</th>\n",
              "      <th>toss_winner_01</th>\n",
              "      <th>toss_decision_01</th>\n",
              "      <th>team1_bp</th>\n",
              "      <th>team2_bp</th>\n",
              "      <th>team1_acbr</th>\n",
              "      <th>team2_acbr</th>\n",
              "      <th>strength_team1</th>\n",
              "      <th>strength_team2</th>\n",
              "      <th>current_form_team1</th>\n",
              "      <th>current_form_team2</th>\n",
              "      <th>team1_count_50runs_last15</th>\n",
              "      <th>team2_count_50runs_last15</th>\n",
              "      <th>team1_winp_last5</th>\n",
              "      <th>team2_winp_last5</th>\n",
              "      <th>team2only_avg_runs_last15</th>\n",
              "    </tr>\n",
              "  </thead>\n",
              "  <tbody>\n",
              "    <tr>\n",
              "      <th>0</th>\n",
              "      <td>9250275</td>\n",
              "      <td>Jy</td>\n",
              "      <td>28594</td>\n",
              "      <td>7438955.0:8271969.0:8369661.0:3685247.0:2590251.0:7785497.0:7785553.0:3296264.0:4613622.0:2904796.0:3685289.0</td>\n",
              "      <td>Ud Ss of Aa</td>\n",
              "      <td>90</td>\n",
              "      <td>2436944.0:8117500.0:6703528.0:3010748.0:1613870.0:8934764.0:2721480.0:1632819.0:2789604.0:6489846.0:1565507.0</td>\n",
              "      <td>Ud Ss of Aa</td>\n",
              "      <td>field</td>\n",
              "      <td>Bo Ac Cb</td>\n",
              "      <td>Bulawayo</td>\n",
              "      <td>2022-07-11</td>\n",
              "      <td>day match</td>\n",
              "      <td>Ud Ss of Aa tr of Ze</td>\n",
              "      <td>2022</td>\n",
              "      <td>3226</td>\n",
              "      <td>0.000000</td>\n",
              "      <td>0.019608</td>\n",
              "      <td>0.0</td>\n",
              "      <td>0.00</td>\n",
              "      <td>NaN</td>\n",
              "      <td>1</td>\n",
              "      <td>0</td>\n",
              "      <td>0.908000</td>\n",
              "      <td>13.432074</td>\n",
              "      <td>0.00000</td>\n",
              "      <td>6.028728</td>\n",
              "      <td>0.556415</td>\n",
              "      <td>0.630573</td>\n",
              "      <td>0.000000</td>\n",
              "      <td>0.000000</td>\n",
              "      <td>0</td>\n",
              "      <td>2</td>\n",
              "      <td>0.0</td>\n",
              "      <td>50.0</td>\n",
              "      <td>164.5</td>\n",
              "    </tr>\n",
              "    <tr>\n",
              "      <th>1</th>\n",
              "      <td>9262189</td>\n",
              "      <td>Ga An Ws</td>\n",
              "      <td>36084</td>\n",
              "      <td>3715690.0:6818622.0:4069666.0:393014.0:4690188.0:4739552.0:4690328.0:5744850.0:4739580.0:9266102.0:284339.0</td>\n",
              "      <td>Ja Ts</td>\n",
              "      <td>36098</td>\n",
              "      <td>4690258.0:3761246.0:8464385.0:5742470.0:3150720.0:4690104.0:181404.0:1594319.0:5509524.0:4239794.0:2036649.0</td>\n",
              "      <td>Ja Ts</td>\n",
              "      <td>field</td>\n",
              "      <td>Pe Sm Ga</td>\n",
              "      <td>Providence</td>\n",
              "      <td>2022-09-21</td>\n",
              "      <td>night match</td>\n",
              "      <td>Cn Pr Le</td>\n",
              "      <td>2022</td>\n",
              "      <td>13915</td>\n",
              "      <td>0.615385</td>\n",
              "      <td>0.344262</td>\n",
              "      <td>137.4</td>\n",
              "      <td>66.67</td>\n",
              "      <td>153.5</td>\n",
              "      <td>1</td>\n",
              "      <td>0</td>\n",
              "      <td>14.555116</td>\n",
              "      <td>16.745207</td>\n",
              "      <td>11.15597</td>\n",
              "      <td>12.357269</td>\n",
              "      <td>0.530320</td>\n",
              "      <td>0.539860</td>\n",
              "      <td>0.119725</td>\n",
              "      <td>0.332058</td>\n",
              "      <td>3</td>\n",
              "      <td>4</td>\n",
              "      <td>20.0</td>\n",
              "      <td>60.0</td>\n",
              "      <td>159.6</td>\n",
              "    </tr>\n",
              "  </tbody>\n",
              "</table>\n",
              "</div>"
            ],
            "text/plain": [
              "   match id     team1  team1_id  ... team1_winp_last5 team2_winp_last5  team2only_avg_runs_last15\n",
              "0  9250275   Jy        28594     ...  0.0              50.0             164.5                    \n",
              "1  9262189   Ga An Ws  36084     ...  20.0             60.0             159.6                    \n",
              "\n",
              "[2 rows x 36 columns]"
            ]
          },
          "execution_count": 48,
          "metadata": {},
          "output_type": "execute_result"
        }
      ],
      "source": [
        "test_data['team1only_avg_runs_last15'] = test_data.progress_apply(lambda x: \\\n",
        "            teamAvgRunsLastn(x['team1_id'], x['match_dt'], 5), axis=1)\n",
        "test_data['team2only_avg_runs_last15'] = test_data.progress_apply(lambda x: \\\n",
        "                                  teamAvgRunsLastn(x['team2_id'], x['match_dt'], 5), axis=1)"
      ]
    },
    {
      "cell_type": "markdown",
      "source": [
        "### Team Win percentage against each other last n games"
      ],
      "metadata": {
        "id": "CfOYRcbkLm-1"
      }
    },
    {
      "cell_type": "code",
      "execution_count": null,
      "metadata": {
        "id": "oiIsBXyCQlpq"
      },
      "outputs": [],
      "source": [
        "import pandas as pd\n",
        "\n",
        "def winpCrossLastn(team1_id, team2_id, date, n, match_lvl_data):\n",
        "    '''\n",
        "    Function to compute team1's win% against team2 from the current game in their past n encounters.\n",
        "\n",
        "    Input-\n",
        "    1. team1_id: ID of team1 to calculate win% of.\n",
        "    2. team2_id: ID of team2 to calculate win% against.\n",
        "    3. date: match date of the current game for which the feature is to be calculated.\n",
        "    4. n: look-back window of games for both these teams.\n",
        "    5. match_lvl_data: DataFrame containing match level data.\n",
        "\n",
        "    Output- None\n",
        "\n",
        "    Returns- Float value denoting team1's win% against team2 in their past n games against each other.\n",
        "    '''\n",
        "    # Filter the matches to include only those between the two teams and before the given date\n",
        "    df_rel = match_lvl_data[(match_lvl_data['match_dt'] < date) &\n",
        "                            (((match_lvl_data['team1_id'] == team1_id) & (match_lvl_data['team2_id'] == team2_id)) |\n",
        "                             ((match_lvl_data['team1_id'] == team2_id) & (match_lvl_data['team2_id'] == team1_id)))] \\\n",
        "                            .sort_values(by='match_dt', ascending=False).head(n)\n",
        "\n",
        "    if df_rel.empty:\n",
        "        return 0.0\n",
        "\n",
        "    # Count the number of matches where team1 won\n",
        "    win_count = df_rel[df_rel['winner_id'] == team1_id].shape[0]\n",
        "\n",
        "    # Calculate the win percentage\n",
        "    win_percentage = (win_count / df_rel.shape[0]) * 100\n",
        "\n",
        "    return round(win_percentage, 2)"
      ]
    },
    {
      "cell_type": "code",
      "execution_count": null,
      "metadata": {
        "colab": {
          "base_uri": "https://localhost:8080/"
        },
        "id": "yPhlgxXJQlnk",
        "outputId": "813f7314-d8e0-4a89-e060-c2908fdad53f"
      },
      "outputs": [
        {
          "name": "stderr",
          "output_type": "stream",
          "text": [
            "100%|███████████████████████████████████████████████████████████████████████████████| 948/948 [00:01<00:00, 927.74it/s]\n"
          ]
        }
      ],
      "source": [
        "# Compute team1 win% against team2 in their past 15 encounters for train data.\n",
        "train_data['team1_winp_team2_last15'] = train_data.progress_apply(lambda x: \\\n",
        "                                  winpCrossLastn(x['team1_id'], x['team2_id'], x['match_dt'], 5, match_lvl_data), axis=1)"
      ]
    },
    {
      "cell_type": "code",
      "execution_count": null,
      "metadata": {
        "colab": {
          "base_uri": "https://localhost:8080/"
        },
        "id": "n9P9p16FQlly",
        "outputId": "2438d888-8282-4948-ee8b-9a2601de8a38"
      },
      "outputs": [
        {
          "name": "stderr",
          "output_type": "stream",
          "text": [
            "100%|███████████████████████████████████████████████████████████████████████████████| 271/271 [00:00<00:00, 896.71it/s]\n"
          ]
        }
      ],
      "source": [
        "# Similarly for test data.\n",
        "test_data['team1_winp_team2_last15'] = test_data.progress_apply(lambda x: \\\n",
        "                                  winpCrossLastn(x['team1_id'], x['team2_id'], x['match_dt'], 5, match_lvl_data), axis=1)"
      ]
    },
    {
      "cell_type": "markdown",
      "source": [
        "### Average runs made by a team in last n games on a ground"
      ],
      "metadata": {
        "id": "v-6bulJILsX5"
      }
    },
    {
      "cell_type": "code",
      "execution_count": null,
      "metadata": {
        "id": "wCFNOSAiQlh4"
      },
      "outputs": [],
      "source": [
        "import numpy as np\n",
        "import pandas as pd\n",
        "\n",
        "def avgRunsGround(team_id, ground_id, date, n, match_lvl_data):\n",
        "    '''\n",
        "    Function to calculate average runs scored in ground/venue by a team in last n matches.\n",
        "    Returns- Average runs scored in the ground.\n",
        "    '''\n",
        "    # Filter out games with ground_id and date earlier than the input date, sort desc by date, and select top n rows (games).\n",
        "    df_rel = match_lvl_data[(match_lvl_data['match_dt'] < date) & (match_lvl_data['ground_id'] == ground_id)].sort_values(by='match_dt', ascending=False).head(n)\n",
        "\n",
        "    # Filter rows where the team_id matches either team1_id or team2_id\n",
        "    df_rel = df_rel[(df_rel['team1_id'] == team_id) | (df_rel['team2_id'] == team_id)]\n",
        "\n",
        "    # Ensure no NaN values are present in the runs columns\n",
        "    df_rel = df_rel.dropna(subset=['inning1_runs', 'inning2_runs'])\n",
        "\n",
        "    runs_balls = []\n",
        "\n",
        "    # Iterate over the rows to determine the runs based on the toss decision\n",
        "    for idx, row in df_rel.iterrows():\n",
        "        if row['team1_id'] == team_id:\n",
        "            if row['toss winner'] == team_id:\n",
        "                if row['toss decision'] == 'bat':\n",
        "                    runs_balls.append(row['inning1_runs'])\n",
        "                else:\n",
        "                    runs_balls.append(row['inning2_runs'])\n",
        "            else:\n",
        "                if row['toss decision'] == 'field':\n",
        "                    runs_balls.append(row['inning1_runs'])\n",
        "                else:\n",
        "                    runs_balls.append(row['inning2_runs'])\n",
        "        elif row['team2_id'] == team_id:\n",
        "            if row['toss winner'] == team_id:\n",
        "                if row['toss decision'] == 'bat':\n",
        "                    runs_balls.append(row['inning1_runs'])\n",
        "                else:\n",
        "                    runs_balls.append(row['inning2_runs'])\n",
        "            else:\n",
        "                if row['toss decision'] == 'field':\n",
        "                    runs_balls.append(row['inning1_runs'])\n",
        "                else:\n",
        "                    runs_balls.append(row['inning2_runs'])\n",
        "\n",
        "    # Return the mean of the collected runs\n",
        "    if runs_balls:\n",
        "        return np.nanmean(runs_balls)\n",
        "    else:\n",
        "        return 0"
      ]
    },
    {
      "cell_type": "code",
      "execution_count": null,
      "metadata": {
        "colab": {
          "base_uri": "https://localhost:8080/"
        },
        "id": "N3XssXWEQlf8",
        "outputId": "2c3108d0-0160-442d-d559-04de78feec40"
      },
      "outputs": [
        {
          "name": "stderr",
          "output_type": "stream",
          "text": [
            "100%|███████████████████████████████████████████████████████████████████████████████| 948/948 [00:01<00:00, 608.01it/s]\n",
            "100%|███████████████████████████████████████████████████████████████████████████████| 948/948 [00:01<00:00, 630.60it/s]\n",
            "100%|███████████████████████████████████████████████████████████████████████████████| 271/271 [00:00<00:00, 624.58it/s]\n",
            "100%|███████████████████████████████████████████████████████████████████████████████| 271/271 [00:00<00:00, 618.37it/s]\n"
          ]
        }
      ],
      "source": [
        "## Calculate average runs in the ground for last 15 games hosted in that venue for train data.\n",
        "train_data['ground_avg_runs_team1last15'] = train_data.progress_apply(lambda x: \\\n",
        "                                  avgRunsGround(x['team1_id'],x['ground_id'], x['match_dt'], 5, match_lvl_data), axis=1)\n",
        "\n",
        "train_data['ground_avg_runs_team2last15'] = train_data.progress_apply(lambda x: \\\n",
        "                                  avgRunsGround(x['team2_id'], x['ground_id'], x['match_dt'], 5, match_lvl_data), axis=1)\n",
        "\n",
        "## Calculate average runs in the ground for last 15 games hosted in that venue for train data.\n",
        "test_data['ground_avg_runs_team1last15'] = test_data.progress_apply(lambda x: \\\n",
        "                                  avgRunsGround(x['team1_id'],x['ground_id'], x['match_dt'], 5, match_lvl_data), axis=1)\n",
        "\n",
        "test_data['ground_avg_runs_team2last15'] = test_data.progress_apply(lambda x: \\\n",
        "                                  avgRunsGround(x['team2_id'], x['ground_id'], x['match_dt'], 5, match_lvl_data), axis=1)"
      ]
    },
    {
      "cell_type": "markdown",
      "source": [
        "### Combined average Strike rate of Teams in last n Games"
      ],
      "metadata": {
        "id": "FtkdoIOsL2LP"
      }
    },
    {
      "cell_type": "code",
      "execution_count": null,
      "metadata": {
        "id": "--jPjs_1Qlcy"
      },
      "outputs": [],
      "source": [
        "def avg_strike_rate_last_10(player_list,date,n=5):\n",
        "\n",
        "    player_list = pd.Series(str(player_list).split(':')).apply(float)\n",
        "\n",
        "    result = np.array([])\n",
        "    for player in player_list[player_list.isin(batsman_lvl_data['batsman_id'])]:\n",
        "      df = giveLastNgamesPlayer(player_id=player,date=date,n=n,bat_or_bowl = 'bat')\n",
        "      result = np.append(result,df['strike_rate'].mean() if df.size != 0 else 0)\n",
        "\n",
        "    return np.nanmean(result)"
      ]
    },
    {
      "cell_type": "code",
      "execution_count": null,
      "metadata": {
        "colab": {
          "base_uri": "https://localhost:8080/"
        },
        "id": "q9vDk-q6Qla1",
        "outputId": "b3cbd8f1-83de-4855-9cd6-9c8c76504106"
      },
      "outputs": [
        {
          "name": "stderr",
          "output_type": "stream",
          "text": [
            "100%|███████████████████████████████████████████████████████████████████████████████| 948/948 [00:07<00:00, 127.23it/s]\n",
            "100%|███████████████████████████████████████████████████████████████████████████████| 948/948 [00:07<00:00, 123.96it/s]\n"
          ]
        }
      ],
      "source": [
        "train_data['total_strike_rate_team_1_last10'] = train_data.progress_apply(\n",
        "    lambda row: avg_strike_rate_last_10(row['team1_roster_ids'],row['match_dt']),axis=1)\n",
        "train_data['total_strike_rate_team_2_last10'] = train_data.progress_apply(\n",
        "    lambda row: avg_strike_rate_last_10(row['team2_roster_ids'],row['match_dt']),axis=1)"
      ]
    },
    {
      "cell_type": "code",
      "execution_count": null,
      "metadata": {
        "colab": {
          "base_uri": "https://localhost:8080/"
        },
        "id": "BfaInfL4Z5zN",
        "outputId": "6e7b6882-57a7-447c-b79d-2d24a9fb3617"
      },
      "outputs": [
        {
          "name": "stderr",
          "output_type": "stream",
          "text": [
            "100%|███████████████████████████████████████████████████████████████████████████████| 271/271 [00:02<00:00, 122.76it/s]\n",
            "100%|███████████████████████████████████████████████████████████████████████████████| 271/271 [00:02<00:00, 124.07it/s]\n"
          ]
        }
      ],
      "source": [
        "test_data['total_strike_rate_team_1_last10'] = test_data.progress_apply(\n",
        "    lambda row: avg_strike_rate_last_10(row['team1_roster_ids'],row['match_dt']),axis=1)\n",
        "test_data['total_strike_rate_team_2_last10'] = test_data.progress_apply(\n",
        "    lambda row: avg_strike_rate_last_10(row['team2_roster_ids'],row['match_dt']),axis=1)"
      ]
    },
    {
      "cell_type": "markdown",
      "source": [
        "### Combined average Fours scored by Teams in last n Games"
      ],
      "metadata": {
        "id": "8ifJEzT_L84p"
      }
    },
    {
      "cell_type": "code",
      "execution_count": null,
      "metadata": {
        "id": "r0VqhFdlQlSQ"
      },
      "outputs": [],
      "source": [
        "def avg_Fours_last_10(player_list,date,n=5):\n",
        "\n",
        "    player_list = pd.Series(str(player_list).split(':')).apply(float)\n",
        "\n",
        "    result = np.array([])\n",
        "    for player in player_list[player_list.isin(batsman_lvl_data['batsman_id'])]:\n",
        "      df = giveLastNgamesPlayer(player_id=player,date=date,n=n,bat_or_bowl = 'bat')\n",
        "      result = np.append(result,df['Fours'].mean() if df.size != 0 else 0)\n",
        "\n",
        "    return np.nanmean(result)"
      ]
    },
    {
      "cell_type": "markdown",
      "source": [
        "### Combined average Sixes scored by Teams in last n Games"
      ],
      "metadata": {
        "id": "PI27YrDsMAMd"
      }
    },
    {
      "cell_type": "code",
      "execution_count": null,
      "metadata": {
        "id": "InLEcCaDQlP-"
      },
      "outputs": [],
      "source": [
        "def avg_sixes_last_10(player_list,date,n=5):\n",
        "\n",
        "    player_list = pd.Series(str(player_list).split(':')).apply(float)\n",
        "\n",
        "    result = np.array([])\n",
        "    for player in player_list[player_list.isin(batsman_lvl_data['batsman_id'])]:\n",
        "      df = giveLastNgamesPlayer(player_id=player,date=date,n=n,bat_or_bowl = 'bat')\n",
        "      result = np.append(result,df['Sixes'].sum() if df.size != 0 else 0)\n",
        "\n",
        "    return np.nanmean(result)"
      ]
    },
    {
      "cell_type": "code",
      "execution_count": null,
      "metadata": {
        "colab": {
          "base_uri": "https://localhost:8080/"
        },
        "id": "_tdA44q6QlN6",
        "outputId": "9c1806bf-9626-4b9b-9829-7019ef581b29"
      },
      "outputs": [
        {
          "name": "stderr",
          "output_type": "stream",
          "text": [
            "100%|███████████████████████████████████████████████████████████████████████████████| 948/948 [00:07<00:00, 126.66it/s]\n",
            "100%|███████████████████████████████████████████████████████████████████████████████| 948/948 [00:07<00:00, 122.51it/s]\n",
            "100%|███████████████████████████████████████████████████████████████████████████████| 948/948 [00:07<00:00, 128.00it/s]\n",
            "100%|███████████████████████████████████████████████████████████████████████████████| 948/948 [00:07<00:00, 122.23it/s]\n"
          ]
        }
      ],
      "source": [
        "train_data['total_fours_avg_team1_last10'] = train_data.progress_apply(\n",
        "    lambda row: avg_Fours_last_10(row['team1_roster_ids'],row['match_dt']),axis=1)\n",
        "train_data['total_fours_avg_team2_last10'] = train_data.progress_apply(\n",
        "    lambda row: avg_Fours_last_10(row['team2_roster_ids'],row['match_dt']),axis=1)\n",
        "\n",
        "train_data['total_sixes_avg_team1_last10'] = train_data.progress_apply(\n",
        "    lambda row: avg_sixes_last_10(row['team1_roster_ids'],row['match_dt']),axis=1)\n",
        "train_data['total_sixes_avg_team2_last10'] = train_data.progress_apply(\n",
        "    lambda row: avg_sixes_last_10(row['team2_roster_ids'],row['match_dt']),axis=1)"
      ]
    },
    {
      "cell_type": "code",
      "execution_count": null,
      "metadata": {
        "id": "2OyKyVCCBvcS",
        "outputId": "9fb4fa57-6bf3-4e5f-a895-1fc41be6e30b"
      },
      "outputs": [
        {
          "name": "stderr",
          "output_type": "stream",
          "text": [
            "100%|███████████████████████████████████████████████████████████████████████████████| 271/271 [00:02<00:00, 120.55it/s]\n",
            "100%|███████████████████████████████████████████████████████████████████████████████| 271/271 [00:02<00:00, 123.41it/s]\n",
            "100%|███████████████████████████████████████████████████████████████████████████████| 271/271 [00:02<00:00, 124.06it/s]\n",
            "100%|███████████████████████████████████████████████████████████████████████████████| 271/271 [00:02<00:00, 123.75it/s]\n"
          ]
        }
      ],
      "source": [
        "test_data['total_fours_avg_team1_last10'] = test_data.progress_apply(\n",
        "    lambda row: avg_Fours_last_10(row['team1_roster_ids'],row['match_dt']),axis=1)\n",
        "test_data['total_fours_avg_team2_last10'] = test_data.progress_apply(\n",
        "    lambda row: avg_Fours_last_10(row['team2_roster_ids'],row['match_dt']),axis=1)\n",
        "test_data['total_sixes_avg_team1_last10'] = test_data.progress_apply(\n",
        "    lambda row: avg_sixes_last_10(row['team1_roster_ids'],row['match_dt']),axis=1)\n",
        "test_data['total_sixes_avg_team2_last10'] = test_data.progress_apply(\n",
        "    lambda row: avg_sixes_last_10(row['team2_roster_ids'],row['match_dt']),axis=1)"
      ]
    },
    {
      "cell_type": "markdown",
      "source": [
        "### Combined average Wickets taken by Teams in last n Games"
      ],
      "metadata": {
        "id": "htZrkNGGMGaE"
      }
    },
    {
      "cell_type": "code",
      "execution_count": null,
      "metadata": {
        "id": "dKFX5vvmQlEy"
      },
      "outputs": [],
      "source": [
        "def total_avg_wickets_last_10(player_list,date,n=5):\n",
        "\n",
        "    player_list = pd.Series(str(player_list).split(':')).apply(float)\n",
        "\n",
        "    result = np.array([])\n",
        "    for player in player_list[player_list.isin(bowler_lvl_data['bowler_id'])]:\n",
        "      df = giveLastNgamesPlayer(player_id=player,date=date,n=n,bat_or_bowl = 'bowl')\n",
        "      result = np.append(result,df['wicket_count'].mean() if df.size != 0 else 0)\n",
        "\n",
        "    return np.nanmean(result)"
      ]
    },
    {
      "cell_type": "code",
      "execution_count": null,
      "metadata": {
        "colab": {
          "base_uri": "https://localhost:8080/"
        },
        "id": "dHUhNUFDQlCm",
        "outputId": "68d8e72f-97d6-4a80-db50-acbb838f1d8d"
      },
      "outputs": [
        {
          "name": "stderr",
          "output_type": "stream",
          "text": [
            "100%|███████████████████████████████████████████████████████████████████████████████| 948/948 [00:04<00:00, 189.67it/s]\n",
            "100%|███████████████████████████████████████████████████████████████████████████████| 948/948 [00:05<00:00, 181.41it/s]\n"
          ]
        }
      ],
      "source": [
        "train_data['total_avg_wicket_team1_last10'] = train_data.progress_apply(\n",
        "    lambda row: total_avg_wickets_last_10(row['team1_roster_ids'],row['match_dt']),axis=1)\n",
        "train_data['total_avg_wicket_team2_last10'] = train_data.progress_apply(\n",
        "    lambda row: total_avg_wickets_last_10(row['team2_roster_ids'],row['match_dt']),axis=1)"
      ]
    },
    {
      "cell_type": "code",
      "execution_count": null,
      "metadata": {
        "colab": {
          "base_uri": "https://localhost:8080/"
        },
        "id": "CwKoZn90Qk7w",
        "outputId": "e587fd7b-3614-468d-f065-9b1f2b7047c8"
      },
      "outputs": [
        {
          "name": "stderr",
          "output_type": "stream",
          "text": [
            "100%|███████████████████████████████████████████████████████████████████████████████| 271/271 [00:01<00:00, 185.31it/s]\n",
            "100%|███████████████████████████████████████████████████████████████████████████████| 271/271 [00:01<00:00, 185.33it/s]\n"
          ]
        }
      ],
      "source": [
        "test_data['total_avg_wicket_team1_last10'] = test_data.progress_apply(\n",
        "    lambda row: total_avg_wickets_last_10(row['team1_roster_ids'],row['match_dt']),axis=1)\n",
        "test_data['total_avg_wicket_team2_last10'] = test_data.progress_apply(\n",
        "    lambda row: total_avg_wickets_last_10(row['team2_roster_ids'],row['match_dt']),axis=1)"
      ]
    },
    {
      "cell_type": "markdown",
      "source": [
        "### Combined Average Run rate of teams based on last n games"
      ],
      "metadata": {
        "id": "9pzHtLk3MUGy"
      }
    },
    {
      "cell_type": "code",
      "execution_count": null,
      "metadata": {
        "id": "va4B5Ez6z3mp"
      },
      "outputs": [],
      "source": [
        "def total_avg_run_rate_last_10(player_list,date,n=5):\n",
        "\n",
        "    player_list = pd.Series(str(player_list).split(':')).apply(float)\n",
        "\n",
        "    result = np.array([])\n",
        "    for player in player_list[player_list.isin(batsman_lvl_data['batsman_id'])]:\n",
        "      df = giveLastNgamesPlayer(player_id=player,date=date,n=n,bat_or_bowl = 'bat')\n",
        "      result = np.append(result,(df['runs'] / df['balls_faced']).mean() if df.size != 0 else 0)\n",
        "\n",
        "    return np.nanmean(result)"
      ]
    },
    {
      "cell_type": "code",
      "execution_count": null,
      "metadata": {
        "colab": {
          "base_uri": "https://localhost:8080/"
        },
        "id": "ARQXT3Ev0Zi5",
        "outputId": "bd5bdb58-3655-4733-887a-9463983abb76"
      },
      "outputs": [
        {
          "name": "stderr",
          "output_type": "stream",
          "text": [
            "100%|███████████████████████████████████████████████████████████████████████████████| 948/948 [00:09<00:00, 104.80it/s]\n",
            "100%|███████████████████████████████████████████████████████████████████████████████| 948/948 [00:08<00:00, 109.23it/s]\n"
          ]
        }
      ],
      "source": [
        "train_data['total_run_rate_team_1_last10'] = train_data.progress_apply(\n",
        "    lambda row: total_avg_run_rate_last_10(row['team1_roster_ids'],row['match_dt']),axis=1)\n",
        "train_data['total_run_rate_team_2_last10'] = train_data.progress_apply(\n",
        "    lambda row: total_avg_run_rate_last_10(row['team2_roster_ids'],row['match_dt']),axis=1)"
      ]
    },
    {
      "cell_type": "code",
      "execution_count": null,
      "metadata": {
        "id": "dZXUBCwVBvcT",
        "outputId": "b61cc7f2-1a10-401a-fe1d-8424ca816c8b"
      },
      "outputs": [
        {
          "name": "stderr",
          "output_type": "stream",
          "text": [
            "100%|███████████████████████████████████████████████████████████████████████████████| 271/271 [00:02<00:00, 106.12it/s]\n",
            "100%|███████████████████████████████████████████████████████████████████████████████| 271/271 [00:02<00:00, 105.87it/s]\n"
          ]
        }
      ],
      "source": [
        "test_data['total_run_rate_team_1_last10'] = test_data.progress_apply(\n",
        "    lambda row: total_avg_run_rate_last_10(row['team1_roster_ids'],row['match_dt']),axis=1)\n",
        "test_data['total_run_rate_team_2_last10'] = test_data.progress_apply(\n",
        "    lambda row: total_avg_run_rate_last_10(row['team2_roster_ids'],row['match_dt']),axis=1)"
      ]
    },
    {
      "cell_type": "markdown",
      "source": [
        "### Number of all rounders in teams"
      ],
      "metadata": {
        "id": "fgs67B5lNpab"
      }
    },
    {
      "cell_type": "code",
      "execution_count": null,
      "metadata": {
        "id": "BaKRw9QWz3dz"
      },
      "outputs": [],
      "source": [
        "def create_all_rounders_df(batsmen_level,bowler_level):\n",
        "  batsmen_level['batsman_id'] = batsmen_level['batsman_id'].apply(float)\n",
        "  bowler_level['bowler_id'] = bowler_level['bowler_id'].apply(float)\n",
        "  batsmen = batsmen_level['batsman_id'].unique()\n",
        "  bowlers = bowler_level['bowler_id'].unique()\n",
        "  all_rounders = set(batsmen).intersection(set(bowlers))\n",
        "  return pd.DataFrame(all_rounders, columns = ['player_id'])"
      ]
    },
    {
      "cell_type": "code",
      "execution_count": null,
      "metadata": {
        "id": "n1LY8tMjz3Zz"
      },
      "outputs": [],
      "source": [
        "all_rounders = create_all_rounders_df(batsman_lvl_data,bowler_lvl_data)"
      ]
    },
    {
      "cell_type": "code",
      "execution_count": null,
      "metadata": {
        "id": "IGzJk3xP5Hw1"
      },
      "outputs": [],
      "source": [
        "def num_all_rounders(player_list):\n",
        "  player_list = pd.Series(str(player_list).split(':')).apply(float)\n",
        "  return len(player_list[player_list.isin(all_rounders['player_id'])])"
      ]
    },
    {
      "cell_type": "code",
      "execution_count": null,
      "metadata": {
        "colab": {
          "base_uri": "https://localhost:8080/"
        },
        "id": "b2FrjEGGz3WK",
        "outputId": "5b4e7709-77d4-47cc-91a1-13f99e4addeb"
      },
      "outputs": [
        {
          "name": "stderr",
          "output_type": "stream",
          "text": [
            "100%|██████████████████████████████████████████████████████████████████████████████| 948/948 [00:00<00:00, 4979.76it/s]\n",
            "100%|██████████████████████████████████████████████████████████████████████████████| 948/948 [00:00<00:00, 4732.99it/s]\n"
          ]
        }
      ],
      "source": [
        "train_data['num_all_rounders_team_1'] = train_data.progress_apply(lambda row: num_all_rounders(row['team1_roster_ids']), axis=1)\n",
        "train_data['num_all_rounders_team_2'] = train_data.progress_apply(lambda row: num_all_rounders(row['team2_roster_ids']), axis=1)"
      ]
    },
    {
      "cell_type": "code",
      "execution_count": null,
      "metadata": {
        "id": "7PCHvPcoBvcW",
        "outputId": "09ece921-326d-4ac0-bf46-39c8c8da7bba"
      },
      "outputs": [
        {
          "name": "stderr",
          "output_type": "stream",
          "text": [
            "100%|██████████████████████████████████████████████████████████████████████████████| 271/271 [00:00<00:00, 5017.00it/s]\n",
            "100%|██████████████████████████████████████████████████████████████████████████████| 271/271 [00:00<00:00, 4539.58it/s]\n"
          ]
        }
      ],
      "source": [
        "test_data['num_all_rounders_team_1'] = test_data.progress_apply(lambda row: num_all_rounders(row['team1_roster_ids']), axis=1)\n",
        "test_data['num_all_rounders_team_2'] = test_data.progress_apply(lambda row: num_all_rounders(row['team2_roster_ids']), axis=1)"
      ]
    },
    {
      "cell_type": "markdown",
      "source": [
        "### Combined Bowling Average based on team's last n matches\n",
        "\n",
        "\n"
      ],
      "metadata": {
        "id": "iQC7V4K2Ns8P"
      }
    },
    {
      "cell_type": "code",
      "execution_count": null,
      "metadata": {
        "id": "tq5JieZPyZMf"
      },
      "outputs": [],
      "source": [
        "def total_bowling_avg_last_10(player_list,date,n=5):\n",
        "\n",
        "    player_list = pd.Series(str(player_list).split(':')).apply(float)\n",
        "\n",
        "    result = np.array([])\n",
        "    for player in player_list[player_list.isin(bowler_lvl_data['bowler_id'])]:\n",
        "      df = giveLastNgamesPlayer(player_id=player,date=date,n=n,bat_or_bowl = 'bowl')\n",
        "      df = (df['runs'] / (df['wicket_count']+1)).mean() if df.size !=0 else 0\n",
        "      result = np.append(result,df)\n",
        "\n",
        "    return np.nanmean(result)"
      ]
    },
    {
      "cell_type": "code",
      "execution_count": null,
      "metadata": {
        "colab": {
          "base_uri": "https://localhost:8080/"
        },
        "id": "HrPzxikX06MA",
        "outputId": "55b16692-195e-4909-b555-1f2bf846a942"
      },
      "outputs": [
        {
          "name": "stderr",
          "output_type": "stream",
          "text": [
            "100%|███████████████████████████████████████████████████████████████████████████████| 948/948 [00:06<00:00, 141.64it/s]\n",
            "100%|███████████████████████████████████████████████████████████████████████████████| 948/948 [00:06<00:00, 150.38it/s]\n"
          ]
        }
      ],
      "source": [
        "train_data['total_bowling_avg_team1_last_10'] = train_data.progress_apply(\n",
        "    lambda row: total_bowling_avg_last_10(row['team1_roster_ids'],row['match_dt']),axis=1)\n",
        "train_data['total_bowling_avg_team2_last_10'] = train_data.progress_apply(\n",
        "    lambda row: total_bowling_avg_last_10(row['team2_roster_ids'],row['match_dt']),axis=1)"
      ]
    },
    {
      "cell_type": "code",
      "execution_count": null,
      "metadata": {
        "colab": {
          "base_uri": "https://localhost:8080/"
        },
        "id": "_CwF_wq006MB",
        "outputId": "5d4e1c7e-5777-4bb3-dee6-a7570e708083"
      },
      "outputs": [
        {
          "name": "stderr",
          "output_type": "stream",
          "text": [
            "100%|███████████████████████████████████████████████████████████████████████████████| 271/271 [00:01<00:00, 156.16it/s]\n",
            "100%|███████████████████████████████████████████████████████████████████████████████| 271/271 [00:01<00:00, 152.48it/s]\n"
          ]
        }
      ],
      "source": [
        "test_data['total_bowling_avg_team1_last_10'] = test_data.progress_apply(\n",
        "    lambda row: total_bowling_avg_last_10(row['team1_roster_ids'],row['match_dt']),axis=1)\n",
        "test_data['total_bowling_avg_team2_last_10'] = test_data.progress_apply(\n",
        "    lambda row: total_bowling_avg_last_10(row['team2_roster_ids'],row['match_dt']),axis=1)"
      ]
    },
    {
      "cell_type": "markdown",
      "source": [
        "### Combined average Bowling Strike rate based on team's last n matches\n"
      ],
      "metadata": {
        "id": "LB_hTY6cN3AD"
      }
    },
    {
      "cell_type": "code",
      "execution_count": null,
      "metadata": {
        "id": "m1lVQ-DGyZAM"
      },
      "outputs": [],
      "source": [
        "def total_bowling_SR_last_10(player_list,date,n=5):\n",
        "\n",
        "    player_list = pd.Series(str(player_list).split(':')).apply(float)\n",
        "\n",
        "    result = np.array([])\n",
        "    for player in player_list[player_list.isin(bowler_lvl_data['bowler_id'])]:\n",
        "      df = giveLastNgamesPlayer(player_id=player,date=date,n=n,bat_or_bowl = 'bowl')\n",
        "      df = ((df['balls_bowled']) / (df['wicket_count']+1)).mean() if df.size !=0 else 0\n",
        "      result = np.append(result,df)\n",
        "\n",
        "    return np.nanmean(result)"
      ]
    },
    {
      "cell_type": "code",
      "execution_count": null,
      "metadata": {
        "colab": {
          "base_uri": "https://localhost:8080/"
        },
        "id": "G5MY2VMiyY97",
        "outputId": "d1a56b7a-9813-4087-8dea-5659b419b10d"
      },
      "outputs": [
        {
          "name": "stderr",
          "output_type": "stream",
          "text": [
            "100%|███████████████████████████████████████████████████████████████████████████████| 948/948 [00:06<00:00, 150.26it/s]\n",
            "100%|███████████████████████████████████████████████████████████████████████████████| 948/948 [00:06<00:00, 153.14it/s]\n"
          ]
        }
      ],
      "source": [
        "train_data['total_bowling_SR_team1_last_10'] = train_data.progress_apply(\n",
        "    lambda row: total_bowling_SR_last_10(row['team1_roster_ids'],row['match_dt']),axis=1)\n",
        "train_data['total_bowling_SR_team2_last_10'] = train_data.progress_apply(\n",
        "    lambda row: total_bowling_SR_last_10(row['team2_roster_ids'],row['match_dt']),axis=1)"
      ]
    },
    {
      "cell_type": "code",
      "execution_count": null,
      "metadata": {
        "colab": {
          "base_uri": "https://localhost:8080/"
        },
        "id": "BPgRR2BVVDjo",
        "outputId": "62bcccab-6c6f-4d76-bfaa-bcdb3dd2edee"
      },
      "outputs": [
        {
          "name": "stderr",
          "output_type": "stream",
          "text": [
            "100%|███████████████████████████████████████████████████████████████████████████████| 271/271 [00:01<00:00, 153.96it/s]\n",
            "100%|███████████████████████████████████████████████████████████████████████████████| 271/271 [00:01<00:00, 152.51it/s]\n"
          ]
        }
      ],
      "source": [
        "test_data['total_bowling_SR_team1_last_10'] = test_data.progress_apply(\n",
        "    lambda row: total_bowling_SR_last_10(row['team1_roster_ids'],row['match_dt']),axis=1)\n",
        "test_data['total_bowling_SR_team2_last_10'] = test_data.progress_apply(\n",
        "    lambda row: total_bowling_SR_last_10(row['team2_roster_ids'],row['match_dt']),axis=1)"
      ]
    },
    {
      "cell_type": "markdown",
      "source": [
        "### Combined average Economy based on team's last n matches\n"
      ],
      "metadata": {
        "id": "ckvrb8NSN6EJ"
      }
    },
    {
      "cell_type": "code",
      "execution_count": null,
      "metadata": {
        "id": "YsqbYUVZ4JGL"
      },
      "outputs": [],
      "source": [
        "def total_avg_economy_last_10(player_list,date,n=5):\n",
        "\n",
        "    player_list = pd.Series(str(player_list).split(':')).apply(float)\n",
        "\n",
        "    result = np.array([])\n",
        "    for player in player_list[player_list.isin(bowler_lvl_data['bowler_id'])]:\n",
        "      df = giveLastNgamesPlayer(player_id=player,date=date,n=n,bat_or_bowl = 'bowl')\n",
        "      df = df['economy'].mean() if df.size !=0 else 0\n",
        "      result = np.append(result,df)\n",
        "\n",
        "    return np.nanmean(result)"
      ]
    },
    {
      "cell_type": "code",
      "execution_count": null,
      "metadata": {
        "colab": {
          "base_uri": "https://localhost:8080/"
        },
        "id": "z5fYuCZC4JGM",
        "outputId": "63395295-a9f4-4b9f-b7bb-f236092174fc"
      },
      "outputs": [
        {
          "name": "stderr",
          "output_type": "stream",
          "text": [
            "100%|███████████████████████████████████████████████████████████████████████████████| 948/948 [00:05<00:00, 177.78it/s]\n",
            "100%|███████████████████████████████████████████████████████████████████████████████| 948/948 [00:05<00:00, 184.56it/s]\n"
          ]
        }
      ],
      "source": [
        "train_data['total_avg_economy_team1_last_10'] = train_data.progress_apply(\n",
        "    lambda row: total_avg_economy_last_10(row['team1_roster_ids'],row['match_dt']),axis=1)\n",
        "train_data['total_avg_economy_team2_last_10'] = train_data.progress_apply(\n",
        "    lambda row: total_avg_economy_last_10(row['team2_roster_ids'],row['match_dt']),axis=1)"
      ]
    },
    {
      "cell_type": "code",
      "execution_count": null,
      "metadata": {
        "colab": {
          "base_uri": "https://localhost:8080/"
        },
        "id": "B7OG_rZpVaVI",
        "outputId": "02898f32-18de-4c75-fb74-81823f8b0271"
      },
      "outputs": [
        {
          "name": "stderr",
          "output_type": "stream",
          "text": [
            "100%|███████████████████████████████████████████████████████████████████████████████| 271/271 [00:01<00:00, 177.58it/s]\n",
            "100%|███████████████████████████████████████████████████████████████████████████████| 271/271 [00:01<00:00, 179.34it/s]\n"
          ]
        }
      ],
      "source": [
        "test_data['total_avg_economy_team1_last_10'] = test_data.progress_apply(\n",
        "    lambda row: total_avg_economy_last_10(row['team1_roster_ids'],row['match_dt']),axis=1)\n",
        "test_data['total_avg_economy_team2_last_10'] = test_data.progress_apply(\n",
        "    lambda row: total_avg_economy_last_10(row['team2_roster_ids'],row['match_dt']),axis=1)"
      ]
    },
    {
      "cell_type": "markdown",
      "source": [
        "### Encoding of Series_type which the match belongs to\n",
        "0 - Domestic\n",
        "\n",
        "\n",
        "---\n",
        "\n",
        "\n",
        "1 - IPL\n",
        "\n",
        "\n",
        "---\n",
        "\n",
        "\n",
        "2 - International"
      ],
      "metadata": {
        "id": "0Ju4XFpRODG2"
      }
    },
    {
      "cell_type": "code",
      "execution_count": null,
      "metadata": {
        "id": "bYv_9GZJBvcZ"
      },
      "outputs": [],
      "source": [
        "# Extract the unique series_name and series_type mapping\n",
        "series_mapping = match_lvl_data[['series_name', 'series_type']].drop_duplicates()\n",
        "\n",
        "# Create a dictionary for mapping\n",
        "series_dict = pd.Series(series_mapping.series_type.values, index=series_mapping.series_name).to_dict()\n",
        "\n",
        "# Map the series_type to train_data\n",
        "train_data['series_type'] = train_data['series_name'].map(series_dict)\n",
        "\n",
        "train_data['series_type'] = pd.factorize(train_data['series_type'])[0]\n",
        "train_data['season'] = pd.factorize(train_data['season'])[0]"
      ]
    },
    {
      "cell_type": "code",
      "execution_count": null,
      "metadata": {
        "id": "07K1FXUYBvcZ"
      },
      "outputs": [],
      "source": [
        "test_data['series_type'] = test_data['series_name'].map(series_dict)\n",
        "\n",
        "test_data['series_type'] = pd.factorize(test_data['series_type'])[0]\n",
        "test_data['season'] = pd.factorize(test_data['season'])[0]"
      ]
    },
    {
      "cell_type": "markdown",
      "source": [
        "### Combined Batting Strength based on Team players last n performance"
      ],
      "metadata": {
        "id": "r7wSaWSxOgHS"
      }
    },
    {
      "cell_type": "code",
      "execution_count": null,
      "metadata": {
        "id": "v5GqYXmUBvcZ"
      },
      "outputs": [],
      "source": [
        "def batStrLastn(player_list, date, n=5):\n",
        "    \"\"\"\n",
        "    Function to get the batting strength based on the sum of a weighted score of runs and strike rate\n",
        "    for players in the roster of a team in the last n games.\n",
        "\n",
        "    Parameters:\n",
        "    - player_list: ':' separated list of player ids in the roster of a team.\n",
        "    - date: match date of the game to calculate this feature.\n",
        "    - n: Number of games to look back and create this feature.\n",
        "\n",
        "    Returns:\n",
        "    - float value denoting sum of batting strength scores of all players in the roster.\n",
        "    \"\"\"\n",
        "\n",
        "    player_list = str(player_list).split(':') # split string of ':' separated ids into a list of ids\n",
        "    res_list = []\n",
        "\n",
        "    for player in player_list: # loop over each player_id in roster\n",
        "        df_rel = giveLastNgamesPlayer(player_id=player, date=date, n=n, bat_or_bowl='bat') # getting batting stats from last n games for each player.\n",
        "\n",
        "        if df_rel.size != 0:\n",
        "            df_rel['runs'] = pd.to_numeric(df_rel['runs'], errors='coerce')\n",
        "            df_rel['strike_rate'] = pd.to_numeric(df_rel['strike_rate'], errors='coerce')\n",
        "\n",
        "            # Fill NaN values with 0\n",
        "            df_rel['runs'].fillna(0, inplace=True)\n",
        "            df_rel['strike_rate'].fillna(0, inplace=True)\n",
        "\n",
        "            df_rel['bat_strength'] = 0.4 * df_rel['runs'] + 0.6 * df_rel['strike_rate']\n",
        "\n",
        "            # Append the mean batting strength for the player over the last n games\n",
        "            res_list.append(df_rel['bat_strength'].mean())\n",
        "        else:\n",
        "            res_list.append(0)\n",
        "\n",
        "    # Return the sum of all players' batting strengths\n",
        "    return np.nansum(res_list)"
      ]
    },
    {
      "cell_type": "code",
      "execution_count": null,
      "metadata": {
        "id": "Aft_DNwLBvcZ",
        "outputId": "edef5c49-393d-4151-b608-afd0d3f1a230"
      },
      "outputs": [
        {
          "name": "stderr",
          "output_type": "stream",
          "text": [
            "100%|████████████████████████████████████████████████████████████████████████████████| 948/948 [00:14<00:00, 66.82it/s]\n",
            "100%|████████████████████████████████████████████████████████████████████████████████| 948/948 [00:13<00:00, 68.03it/s]\n"
          ]
        }
      ],
      "source": [
        "train_data['batStrLastn_team1'] = train_data.progress_apply(\n",
        "    lambda row: batStrLastn(row['team1_roster_ids'],row['match_dt']),axis=1)\n",
        "train_data['batStrLastn_team2'] = train_data.progress_apply(\n",
        "    lambda row: batStrLastn(row['team2_roster_ids'],row['match_dt']),axis=1)"
      ]
    },
    {
      "cell_type": "code",
      "execution_count": null,
      "metadata": {
        "id": "gIKU9rFNBvcZ",
        "outputId": "16cec0c7-f036-4341-f6c9-725c312a45a3"
      },
      "outputs": [
        {
          "name": "stderr",
          "output_type": "stream",
          "text": [
            "100%|████████████████████████████████████████████████████████████████████████████████| 271/271 [00:04<00:00, 65.05it/s]\n",
            "100%|████████████████████████████████████████████████████████████████████████████████| 271/271 [00:04<00:00, 65.24it/s]\n"
          ]
        }
      ],
      "source": [
        "test_data['batStrLastn_team1'] = test_data.progress_apply(\n",
        "    lambda row: batStrLastn(row['team1_roster_ids'],row['match_dt']),axis=1)\n",
        "test_data['batStrLastn_team2'] = test_data.progress_apply(\n",
        "    lambda row: batStrLastn(row['team2_roster_ids'],row['match_dt']),axis=1)"
      ]
    },
    {
      "cell_type": "markdown",
      "source": [
        "### Combined Bowling Strength based on team's players' last n performance"
      ],
      "metadata": {
        "id": "k-CYLwgrOzF5"
      }
    },
    {
      "cell_type": "code",
      "execution_count": null,
      "metadata": {
        "id": "VfUPpUWhBvcZ"
      },
      "outputs": [],
      "source": [
        "def bowlStrLastn(player_list, date, n=5):\n",
        "\n",
        "    player_list = str(player_list).split(':') # split string of ':' separated ids into a list of ids\n",
        "    res_list = []\n",
        "\n",
        "    for player in player_list: # loop over each player_id in roster\n",
        "        df_rel = giveLastNgamesPlayer(player_id=player, date=date, n=n, bat_or_bowl='bowl') # getting batting stats from last n games for each player.\n",
        "\n",
        "        # Ensure relevant columns are numeric\n",
        "        df_rel['runs'] = pd.to_numeric(df_rel['runs'], errors='coerce')\n",
        "        df_rel['dots'] = pd.to_numeric(df_rel['dots'], errors='coerce')\n",
        "        df_rel['maiden'] = pd.to_numeric(df_rel['maiden'], errors='coerce')\n",
        "        df_rel['wicket_count'] = pd.to_numeric(df_rel['wicket_count'], errors='coerce')\n",
        "        df_rel['balls_bowled'] = pd.to_numeric(df_rel['balls_bowled'], errors='coerce')\n",
        "        df_rel['wides'] = pd.to_numeric(df_rel['wides'], errors='coerce')\n",
        "        df_rel['noballs'] = pd.to_numeric(df_rel['noballs'], errors='coerce')\n",
        "        df_rel['Sixes'] = pd.to_numeric(df_rel['Sixes'], errors='coerce')\n",
        "        df_rel['Fours'] = pd.to_numeric(df_rel['Fours'], errors='coerce')\n",
        "\n",
        "        # Fill NaN values with 0\n",
        "        df_rel['runs'].fillna(0, inplace=True)\n",
        "        df_rel['dots'].fillna(0, inplace=True)\n",
        "        df_rel['maiden'].fillna(0, inplace=True)\n",
        "        df_rel['wicket_count'].fillna(0, inplace=True)\n",
        "        df_rel['balls_bowled'].fillna(0, inplace=True)\n",
        "        df_rel['wides'].fillna(0, inplace=True)\n",
        "        df_rel['noballs'].fillna(0, inplace=True)\n",
        "        df_rel['Sixes'].fillna(0, inplace=True)\n",
        "        df_rel['Fours'].fillna(0, inplace=True)\n",
        "\n",
        "        df_rel['bowl_avg'] = df_rel['runs'] / (df_rel['wicket_count']+1)\n",
        "        df_rel['bowl_sr'] = (df_rel['wicket_count'] * 6) / df_rel['balls_bowled']\n",
        "        df_rel['bowl_strength'] = 0.7 * df_rel['bowl_sr'] + 0.3 * df_rel['bowl_avg']\n",
        "        df_rel['bowl_eff'] = 0.2 * df_rel['dots'] + 0.3 * df_rel['maiden'] + 0.5 * df_rel['wicket_count']\n",
        "        df_rel['discipline_fctor'] = 0.1 * df_rel['wides'] + 0.1 * df_rel['noballs'] + 0.3 * df_rel['Sixes'] + 0.5 * df_rel['Fours']\n",
        "\n",
        "        df_rel['bowling_str'] = 0.3 * df_rel['bowl_strength'] + 0.3 * df_rel['bowl_eff'] - 0.4 * df_rel['discipline_fctor']\n",
        "        # Append the mean batting strength for the player over the last n games\n",
        "        res_list.append(df_rel['bowling_str'].mean())\n",
        "\n",
        "    # Return the sum of all players' batting strengths\n",
        "    return np.nansum(res_list)"
      ]
    },
    {
      "cell_type": "code",
      "execution_count": null,
      "metadata": {
        "id": "zY4v1ZGzBvcZ",
        "outputId": "bcc1119e-ef61-4301-9421-c28b59798394"
      },
      "outputs": [
        {
          "name": "stderr",
          "output_type": "stream",
          "text": [
            "100%|████████████████████████████████████████████████████████████████████████████████| 948/948 [00:46<00:00, 20.58it/s]\n",
            "100%|████████████████████████████████████████████████████████████████████████████████| 948/948 [00:45<00:00, 20.93it/s]\n"
          ]
        }
      ],
      "source": [
        "train_data['bowlStrLastn_team1'] = train_data.progress_apply(\n",
        "    lambda row: bowlStrLastn(row['team1_roster_ids'],row['match_dt']),axis=1)\n",
        "train_data['bowlStrLastn_team2'] = train_data.progress_apply(\n",
        "    lambda row: bowlStrLastn(row['team2_roster_ids'],row['match_dt']),axis=1)"
      ]
    },
    {
      "cell_type": "code",
      "execution_count": null,
      "metadata": {
        "id": "hhosL1pHBvcZ",
        "outputId": "a2c7f06b-99fd-4c97-8f64-786a5f899a45"
      },
      "outputs": [
        {
          "name": "stderr",
          "output_type": "stream",
          "text": [
            "100%|████████████████████████████████████████████████████████████████████████████████| 271/271 [00:12<00:00, 20.95it/s]\n",
            "100%|████████████████████████████████████████████████████████████████████████████████| 271/271 [00:12<00:00, 21.19it/s]\n"
          ]
        }
      ],
      "source": [
        "test_data['bowlStrLastn_team1'] = test_data.progress_apply(\n",
        "    lambda row: bowlStrLastn(row['team1_roster_ids'],row['match_dt']),axis=1)\n",
        "test_data['bowlStrLastn_team2'] = test_data.progress_apply(\n",
        "    lambda row: bowlStrLastn(row['team2_roster_ids'],row['match_dt']),axis=1)"
      ]
    },
    {
      "cell_type": "markdown",
      "source": [
        "### Batting score given to teams on basis of last n performance\n",
        "Here we have followed ICC's rule of points. [REFER HERE](https://cricclubs.com/rankCalculator.do)"
      ],
      "metadata": {
        "id": "4-8TPazrO8TU"
      }
    },
    {
      "cell_type": "code",
      "execution_count": null,
      "metadata": {
        "id": "YeJ4-6FXBvca"
      },
      "outputs": [],
      "source": [
        "import pandas as pd\n",
        "import numpy as np\n",
        "\n",
        "def batScores(player_list, date, n=5):\n",
        "    player_list = str(player_list).split(':') # split string of ':' separated ids into a list of ids\n",
        "    res_list = []\n",
        "\n",
        "    for player in player_list: # loop over each player_id in roster\n",
        "        df_rel = giveLastNgamesPlayer(player_id=player, date=date, n=n, bat_or_bowl='bat') # getting batting stats from last n games for each player.\n",
        "\n",
        "        if df_rel.empty:\n",
        "            res_list.append(0)\n",
        "            continue\n",
        "\n",
        "        # Ensure relevant columns are numeric\n",
        "        df_rel['runs'] = pd.to_numeric(df_rel['runs'], errors='coerce').fillna(0)\n",
        "        df_rel['strike_rate'] = pd.to_numeric(df_rel['strike_rate'], errors='coerce').fillna(0)\n",
        "        df_rel['Fours'] = pd.to_numeric(df_rel['Fours'], errors='coerce').fillna(0)\n",
        "        df_rel['Sixes'] = pd.to_numeric(df_rel['Sixes'], errors='coerce').fillna(0)\n",
        "\n",
        "        # Count the number of ducks\n",
        "        df_rel['ducks'] = (df_rel['runs'] == 0).sum()\n",
        "\n",
        "        # Calculate batting strength\n",
        "        df_rel['bat_strength'] = (\n",
        "            df_rel['runs'] +\n",
        "            df_rel['strike_rate'] +\n",
        "            2 * df_rel['Sixes'] +\n",
        "            df_rel['Fours'] +\n",
        "            np.where(df_rel['strike_rate'] < 50, -10, 0) +\n",
        "            np.where(df_rel['strike_rate'] > 100, 10, 0) +\n",
        "            np.where(df_rel['strike_rate'] > 125, 10, 0) +\n",
        "            np.where(df_rel['strike_rate'] > 150, 10, 0) +\n",
        "            np.where(df_rel['strike_rate'] > 175, 10, 0) +\n",
        "            np.where(df_rel['strike_rate'] > 200, 10, 0) +\n",
        "            np.where(df_rel['runs'] > 10, 10, 0) +\n",
        "            np.where(df_rel['runs'] > 20, 10, 0) +\n",
        "            np.where(df_rel['runs'] > 30, 10, 0) +\n",
        "            np.where(df_rel['runs'] > 40, 10, 0) +\n",
        "            np.where(df_rel['runs'] > 50, df_rel['runs'], 0) +\n",
        "            (-10 * df_rel['ducks'])\n",
        "        )\n",
        "\n",
        "        # Append the mean batting strength for the player over the last n games\n",
        "        res_list.append(df_rel['bat_strength'].mean())\n",
        "\n",
        "    # Return the sum of all players' batting strengths\n",
        "    return np.nansum(res_list)"
      ]
    },
    {
      "cell_type": "code",
      "execution_count": null,
      "metadata": {
        "id": "OSuKxcvWBvca",
        "outputId": "b9559957-46be-4361-f95e-cdd8f5e866e1"
      },
      "outputs": [
        {
          "name": "stderr",
          "output_type": "stream",
          "text": [
            "100%|████████████████████████████████████████████████████████████████████████████████| 948/948 [00:29<00:00, 32.25it/s]\n",
            "100%|████████████████████████████████████████████████████████████████████████████████| 948/948 [00:29<00:00, 32.54it/s]\n"
          ]
        }
      ],
      "source": [
        "train_data['batScores_team1'] = train_data.progress_apply(\n",
        "    lambda row: batScores(row['team1_roster_ids'],row['match_dt']),axis=1)\n",
        "train_data['batScores_team2'] = train_data.progress_apply(\n",
        "    lambda row: batScores(row['team2_roster_ids'],row['match_dt']),axis=1)"
      ]
    },
    {
      "cell_type": "code",
      "execution_count": null,
      "metadata": {
        "id": "OMENFibfBvca",
        "outputId": "a48d6277-0b1d-449c-e7ef-d25cb44a7419"
      },
      "outputs": [
        {
          "name": "stderr",
          "output_type": "stream",
          "text": [
            "100%|████████████████████████████████████████████████████████████████████████████████| 271/271 [00:08<00:00, 32.39it/s]\n",
            "100%|████████████████████████████████████████████████████████████████████████████████| 271/271 [00:08<00:00, 33.21it/s]\n"
          ]
        }
      ],
      "source": [
        "test_data['batScores_team1'] = test_data.progress_apply(\n",
        "    lambda row: batScores(row['team1_roster_ids'],row['match_dt']),axis=1)\n",
        "test_data['batScores_team2'] = test_data.progress_apply(\n",
        "    lambda row: batScores(row['team2_roster_ids'],row['match_dt']),axis=1)"
      ]
    },
    {
      "cell_type": "markdown",
      "source": [
        "### Bowling score given to teams on basis of last n performance\n",
        "Here we have followed ICC's rule of points. [REFER HERE](https://cricclubs.com/rankCalculator.do)"
      ],
      "metadata": {
        "id": "wSMWV4JOWmse"
      }
    },
    {
      "cell_type": "code",
      "execution_count": null,
      "metadata": {
        "id": "8RSfHrhRBvca"
      },
      "outputs": [],
      "source": [
        "# Split the 'bowler_details' column into separate columns\n",
        "bowler_details_split = bowler_lvl_data['bowler_details'].str.split(':', expand=True)\n",
        "\n",
        "# Assign new column names based on the information in the 'bowler_details' column\n",
        "bowler_details_split.columns = ['country', 'batting_hand', 'bowling_style','blank']"
      ]
    },
    {
      "cell_type": "code",
      "execution_count": null,
      "metadata": {
        "id": "rkShYJSJBvca"
      },
      "outputs": [],
      "source": [
        "# Concatenate the new columns with the original DataFrame\n",
        "bowler_lvl_data = pd.concat([bowler_lvl_data, bowler_details_split], axis=1)\n",
        "\n",
        "# Drop the original 'bowler_details' column if no longer needed\n",
        "bowler_lvl_data.drop(columns=['bowler_details','blank'], inplace=True)"
      ]
    },
    {
      "cell_type": "code",
      "execution_count": null,
      "metadata": {
        "id": "U07FYzvOBvca"
      },
      "outputs": [],
      "source": [
        "def economy_points(economy):\n",
        "    if 0.00 <= economy <= 1.99:\n",
        "        return 30\n",
        "    elif 2.00 <= economy <= 3.99:\n",
        "        return 20\n",
        "    elif 4.00 <= economy <= 5.99:\n",
        "        return 10\n",
        "    elif 6.00 <= economy <= 7.99:\n",
        "        return 0\n",
        "    elif 8.00 <= economy <= 9.99:\n",
        "        return -10\n",
        "    elif 10.00 <= economy <= 11.99:\n",
        "        return -20\n",
        "    else:\n",
        "        return -30"
      ]
    },
    {
      "cell_type": "code",
      "execution_count": null,
      "metadata": {
        "id": "UJAa90U8Bvca"
      },
      "outputs": [],
      "source": [
        "def wicket_points(wickets):\n",
        "    if wickets == 1:\n",
        "        return 10\n",
        "    elif wickets == 2:\n",
        "        return 20\n",
        "    elif wickets == 3:\n",
        "        return 40\n",
        "    elif wickets == 4:\n",
        "        return 60\n",
        "    elif wickets >= 5:\n",
        "        return 80\n",
        "    else:\n",
        "        return 0"
      ]
    },
    {
      "cell_type": "code",
      "execution_count": null,
      "metadata": {
        "id": "i9rmyYESBvca"
      },
      "outputs": [],
      "source": [
        "bowler_lvl_data['total_points'] = (\n",
        "    bowler_lvl_data['maiden'] * 60 +  # Maiden over points\n",
        "    bowler_lvl_data['economy'].apply(economy_points) +  # Economy points\n",
        "    bowler_lvl_data['wicket_count'].apply(wicket_points) +  # Wicket points\n",
        "    bowler_lvl_data['dots'] +  # Dot balls points\n",
        "    bowler_lvl_data['Fours'] * -2 +  # Negative points for fours\n",
        "    bowler_lvl_data['Sixes'] * -3 +  # Negative points for sixes\n",
        "    bowler_lvl_data['wides'] * -1 +  # Negative points for wides\n",
        "    bowler_lvl_data['noballs'] * -1  # Negative points for no-balls\n",
        ")"
      ]
    },
    {
      "cell_type": "code",
      "execution_count": null,
      "metadata": {
        "id": "gJAI21usBvcb"
      },
      "outputs": [],
      "source": [
        "# Rank players according to their total points\n",
        "bowler_lvl_data['rank'] = bowler_lvl_data['total_points'].rank(ascending=False, method='min')\n",
        "\n",
        "# Sort by rank to see the ranking order\n",
        "bowler_lvl_data.sort_values(by='rank', inplace=True)"
      ]
    },
    {
      "cell_type": "code",
      "execution_count": null,
      "metadata": {
        "id": "IMFXJOn5Bvcb"
      },
      "outputs": [],
      "source": [
        "def bowling_scores_last_10(player_list, date, n=10):\n",
        "    player_list = pd.Series(str(player_list).split(':')).apply(float)\n",
        "    result = []\n",
        "\n",
        "    for player in player_list[player_list.isin(bowler_lvl_data['bowler_id'])]:\n",
        "        df = bowler_lvl_data[bowler_lvl_data['bowler_id'] == player]\n",
        "        df = df[df['match_dt'] < date].sort_values(by='match_dt', ascending=False).head(n)\n",
        "        avg_points = df['total_points'].mean() if not df.empty else 0\n",
        "        result.append(avg_points)\n",
        "\n",
        "    return np.nanmean(result)"
      ]
    },
    {
      "cell_type": "code",
      "execution_count": null,
      "metadata": {
        "id": "FednCWQIBvcb",
        "outputId": "a0cad93c-73fc-4236-81f3-b8a7ca86617d"
      },
      "outputs": [
        {
          "name": "stderr",
          "output_type": "stream",
          "text": [
            "100%|███████████████████████████████████████████████████████████████████████████████| 948/948 [00:06<00:00, 145.41it/s]\n",
            "100%|███████████████████████████████████████████████████████████████████████████████| 948/948 [00:06<00:00, 150.35it/s]\n"
          ]
        }
      ],
      "source": [
        "train_data['bowling_scores_team1'] = train_data.progress_apply(\n",
        "    lambda row: bowling_scores_last_10(row['team1_roster_ids'],row['match_dt']),axis=1)\n",
        "train_data['bowling_scores_team2'] = train_data.progress_apply(\n",
        "    lambda row: bowling_scores_last_10(row['team2_roster_ids'],row['match_dt']),axis=1)"
      ]
    },
    {
      "cell_type": "code",
      "execution_count": null,
      "metadata": {
        "id": "TTBFolmpBvcb",
        "outputId": "78debe56-f3db-47b7-da27-b9ede1522611"
      },
      "outputs": [
        {
          "name": "stderr",
          "output_type": "stream",
          "text": [
            "100%|███████████████████████████████████████████████████████████████████████████████| 271/271 [00:01<00:00, 152.79it/s]\n",
            "100%|███████████████████████████████████████████████████████████████████████████████| 271/271 [00:01<00:00, 153.76it/s]\n"
          ]
        }
      ],
      "source": [
        "test_data['bowling_scores_team1'] = test_data.progress_apply(\n",
        "    lambda row: bowling_scores_last_10(row['team1_roster_ids'],row['match_dt']),axis=1)\n",
        "test_data['bowling_scores_team2'] = test_data.progress_apply(\n",
        "    lambda row: bowling_scores_last_10(row['team2_roster_ids'],row['match_dt']),axis=1)"
      ]
    },
    {
      "cell_type": "markdown",
      "source": [
        "### Probability of wins when toss won/lost"
      ],
      "metadata": {
        "id": "hfqvRYceWucD"
      }
    },
    {
      "cell_type": "code",
      "execution_count": null,
      "metadata": {
        "id": "GhH0jmC-Bvcb"
      },
      "outputs": [],
      "source": [
        "match_lvl_data['toss_winner_id'] = match_lvl_data.apply(\n",
        "    lambda row: row['team1_id'] if row['toss winner'] == row['team1'] else (\n",
        "        row['team2_id'] if row['toss winner'] == row['team2'] else None), axis=1)\n",
        "\n",
        "train_data['toss_winner_id'] = train_data.apply(\n",
        "    lambda row: row['team1_id'] if row['toss winner'] == row['team1'] else (\n",
        "        row['team2_id'] if row['toss winner'] == row['team2'] else None), axis=1)"
      ]
    },
    {
      "cell_type": "code",
      "execution_count": null,
      "metadata": {
        "id": "O1ciuNCSBvcb"
      },
      "outputs": [],
      "source": [
        "def winsWhenTossLost(team_id, date, n=10):\n",
        "\n",
        "    df_rel = match_lvl_data[(match_lvl_data['match_dt'] < date) &\n",
        "                            ((match_lvl_data['team1_id'] == team_id) | (match_lvl_data['team2_id'] == team_id)) &\n",
        "                            (match_lvl_data['toss_winner_id'] != team_id)] \\\n",
        "                            .sort_values(by='match_dt', ascending=False).head(n)\n",
        "\n",
        "    # Count number of wins when the team has lost the toss\n",
        "    win_count = df_rel[df_rel['winner_id'] == team_id].shape[0]\n",
        "\n",
        "    # Calculate the total number of toss losses in the last n games\n",
        "    toss_loss_count = df_rel.shape[0]\n",
        "\n",
        "    if toss_loss_count == 0:\n",
        "        win_toss_loss_ratio = 0\n",
        "    else:\n",
        "        win_toss_loss_ratio = win_count / toss_loss_count\n",
        "\n",
        "\n",
        "    return win_toss_loss_ratio"
      ]
    },
    {
      "cell_type": "code",
      "execution_count": null,
      "metadata": {
        "id": "LujCTcl0Bvcb",
        "outputId": "1c1701b7-f7eb-4c8b-fc09-8d07cff581db"
      },
      "outputs": [
        {
          "name": "stderr",
          "output_type": "stream",
          "text": [
            "100%|███████████████████████████████████████████████████████████████████████████████| 948/948 [00:01<00:00, 886.97it/s]\n",
            "100%|███████████████████████████████████████████████████████████████████████████████| 948/948 [00:01<00:00, 895.48it/s]\n"
          ]
        }
      ],
      "source": [
        "train_data['wins_when_toss_lost_avg10_team1']= train_data.progress_apply(\n",
        "    lambda row : winsWhenTossLost(row['team1_id'],row['match_dt']),axis=1)\n",
        "train_data['wins_when_toss_lost_avg10_team2']= train_data.progress_apply(\n",
        "    lambda row : winsWhenTossLost(row['team2_id'],row['match_dt']),axis=1)\n"
      ]
    },
    {
      "cell_type": "code",
      "execution_count": null,
      "metadata": {
        "id": "zlYUJ5RHBvcb",
        "outputId": "1fb4d359-ab6c-4917-af56-37a81e709538"
      },
      "outputs": [
        {
          "name": "stderr",
          "output_type": "stream",
          "text": [
            "100%|███████████████████████████████████████████████████████████████████████████████| 271/271 [00:00<00:00, 856.37it/s]\n",
            "100%|███████████████████████████████████████████████████████████████████████████████| 271/271 [00:00<00:00, 894.24it/s]\n"
          ]
        }
      ],
      "source": [
        "test_data['wins_when_toss_lost_avg10_team1']= test_data.progress_apply(\n",
        "    lambda row : winsWhenTossLost(row['team1_id'],row['match_dt']),axis=1)\n",
        "test_data['wins_when_toss_lost_avg10_team2']= test_data.progress_apply(\n",
        "    lambda row : winsWhenTossLost(row['team2_id'],row['match_dt']),axis=1)"
      ]
    },
    {
      "cell_type": "code",
      "execution_count": null,
      "metadata": {
        "id": "1c6-4fQ7Bvcc"
      },
      "outputs": [],
      "source": [
        "def winsWhenTossWon(team_id, date, n=10):\n",
        "\n",
        "    # Filter out games with either team1/2_id as input team id, match_dt being before current game's date,\n",
        "    # where the team won the toss, sort desc by date, and get top n rows (games)\n",
        "    df_rel = match_lvl_data[(match_lvl_data['match_dt'] < date) &\n",
        "                            ((match_lvl_data['team1_id'] == team_id) | (match_lvl_data['team2_id'] == team_id)) &\n",
        "                            (match_lvl_data['toss_winner_id'] == team_id)] \\\n",
        "                            .sort_values(by='match_dt', ascending=False).head(n)\n",
        "\n",
        "    # Count number of wins when the team has won the toss\n",
        "    win_count = df_rel[df_rel['winner_id'] == team_id].shape[0]\n",
        "\n",
        "    # Calculate the total number of toss wins in the last n games\n",
        "    toss_win_count = df_rel.shape[0]\n",
        "\n",
        "    # Calculate the win to toss win ratio\n",
        "    if toss_win_count == 0:\n",
        "        win_toss_win_ratio = 0\n",
        "    else:\n",
        "        win_toss_win_ratio = win_count / toss_win_count\n",
        "\n",
        "    return win_toss_win_ratio"
      ]
    },
    {
      "cell_type": "code",
      "execution_count": null,
      "metadata": {
        "id": "06iVoJdYBvcc",
        "outputId": "36698685-190d-4be9-d9af-759e42685962"
      },
      "outputs": [
        {
          "name": "stderr",
          "output_type": "stream",
          "text": [
            "100%|███████████████████████████████████████████████████████████████████████████████| 948/948 [00:01<00:00, 893.58it/s]\n",
            "100%|███████████████████████████████████████████████████████████████████████████████| 948/948 [00:01<00:00, 900.00it/s]\n"
          ]
        }
      ],
      "source": [
        "train_data['wins_when_toss_won_avg10_team1']= train_data.progress_apply(\n",
        "    lambda row : winsWhenTossWon(row['team1_id'],row['match_dt']),axis=1)\n",
        "train_data['wins_when_toss_won_avg10_team2']= train_data.progress_apply(\n",
        "    lambda row : winsWhenTossWon(row['team2_id'],row['match_dt']),axis=1)"
      ]
    },
    {
      "cell_type": "code",
      "execution_count": null,
      "metadata": {
        "id": "flegfnlbBvcc",
        "outputId": "e97140f3-2555-4df8-fafd-998e376649ab"
      },
      "outputs": [
        {
          "name": "stderr",
          "output_type": "stream",
          "text": [
            "100%|███████████████████████████████████████████████████████████████████████████████| 271/271 [00:00<00:00, 876.89it/s]\n",
            "100%|███████████████████████████████████████████████████████████████████████████████| 271/271 [00:00<00:00, 892.84it/s]\n"
          ]
        }
      ],
      "source": [
        "test_data['wins_when_toss_won_avg10_team1']= test_data.progress_apply(\n",
        "    lambda row : winsWhenTossWon(row['team1_id'],row['match_dt']),axis=1)\n",
        "test_data['wins_when_toss_won_avg10_team2']= test_data.progress_apply(\n",
        "    lambda row : winsWhenTossWon(row['team2_id'],row['match_dt']),axis=1)"
      ]
    },
    {
      "cell_type": "markdown",
      "source": [
        "### Margin of Victory for teams For last n games"
      ],
      "metadata": {
        "id": "06Ab1OZSW2nT"
      }
    },
    {
      "cell_type": "code",
      "execution_count": null,
      "metadata": {
        "id": "glXNioLaBvcc"
      },
      "outputs": [],
      "source": [
        "def margin_Of_Victory_Last_10(team_id, date, n=10):\n",
        "\n",
        "    df_rel = match_lvl_data[(match_lvl_data['match_dt'] < date) &\n",
        "                            ((match_lvl_data['team1_id'] == team_id) | (match_lvl_data['team2_id'] == team_id))] \\\n",
        "                            .sort_values(by='match_dt', ascending=False).head(n)\n",
        "\n",
        "    df_wins = df_rel[df_rel['winner_id'] == team_id]\n",
        "\n",
        "    margins = []\n",
        "\n",
        "    for _, row in df_wins.iterrows():\n",
        "        if row['by'] == 'runs':\n",
        "            margin = row['win amount']\n",
        "        elif row['by'] == 'wickets':\n",
        "            margin = row['win amount']\n",
        "        else:\n",
        "            margin = 0\n",
        "        margins.append(margin)\n",
        "\n",
        "    if len(margins) == 0:\n",
        "        return 0\n",
        "    average_margin = sum(margins) / len(margins)\n",
        "    return round(average_margin, 2)"
      ]
    },
    {
      "cell_type": "code",
      "execution_count": null,
      "metadata": {
        "id": "lvJ1cWIBBvcc",
        "outputId": "ae61fa1c-025c-4569-ce32-61abe10f4e5d"
      },
      "outputs": [
        {
          "name": "stderr",
          "output_type": "stream",
          "text": [
            "100%|███████████████████████████████████████████████████████████████████████████████| 948/948 [00:01<00:00, 705.46it/s]\n",
            "100%|███████████████████████████████████████████████████████████████████████████████| 948/948 [00:01<00:00, 725.32it/s]\n"
          ]
        }
      ],
      "source": [
        "train_data['Margin_of_victory_avg_last10_team1'] = train_data.progress_apply(\n",
        "    lambda row: margin_Of_Victory_Last_10(row['team1_id'],row['match_dt']),axis=1)\n",
        "train_data['Margin_of_victory_avg_last10_team2'] = train_data.progress_apply(\n",
        "    lambda row: margin_Of_Victory_Last_10(row['team2_id'],row['match_dt']),axis=1)"
      ]
    },
    {
      "cell_type": "code",
      "execution_count": null,
      "metadata": {
        "id": "1LkIF3OQBvcc",
        "outputId": "25186716-7d0e-4255-b208-bbaec1423d16"
      },
      "outputs": [
        {
          "name": "stderr",
          "output_type": "stream",
          "text": [
            "100%|███████████████████████████████████████████████████████████████████████████████| 271/271 [00:00<00:00, 686.21it/s]\n",
            "100%|███████████████████████████████████████████████████████████████████████████████| 271/271 [00:00<00:00, 663.08it/s]\n"
          ]
        }
      ],
      "source": [
        "test_data['Margin_of_victory_avg_last10_team1'] = test_data.progress_apply(\n",
        "    lambda row: margin_Of_Victory_Last_10(row['team1_id'],row['match_dt']),axis=1)\n",
        "test_data['Margin_of_victory_avg_last10_team2'] = test_data.progress_apply(\n",
        "    lambda row: margin_Of_Victory_Last_10(row['team2_id'],row['match_dt']),axis=1)"
      ]
    },
    {
      "cell_type": "markdown",
      "source": [
        "### Batting scores (from above) for teams in last n games on that ground\n",
        "\n"
      ],
      "metadata": {
        "id": "kej80HoHW95A"
      }
    },
    {
      "cell_type": "code",
      "execution_count": null,
      "metadata": {
        "id": "alL0Ip2wBvcc"
      },
      "outputs": [],
      "source": [
        "def meanBatScoresOnGround(player_list, ground_id, match_dt, n=5):\n",
        "    player_list = str(player_list).split(':') # split string of ':' separated ids into a list of ids\n",
        "    res_list = []\n",
        "\n",
        "    # Merge batsman_lvl_data with match_lvl_data to get the ground_id\n",
        "    merged_df = pd.merge(batsman_lvl_data, match_lvl_data[['match id', 'ground_id']], on='match id', how='left')\n",
        "\n",
        "    # Filter the merged data for the given ground and match date\n",
        "    df_filtered = merged_df[(merged_df['ground_id'] == ground_id) & (merged_df['match_dt'] < match_dt)]\n",
        "\n",
        "    for player in player_list:\n",
        "        player_data = df_filtered[df_filtered['batsman_id'] == float(player)]\n",
        "\n",
        "        if player_data.empty:\n",
        "            res_list.append(0)\n",
        "            continue\n",
        "\n",
        "        # Ensure relevant columns are numeric\n",
        "        player_data['runs'] = pd.to_numeric(player_data['runs'], errors='coerce').fillna(0)\n",
        "        player_data['strike_rate'] = pd.to_numeric(player_data['strike_rate'], errors='coerce').fillna(0)\n",
        "        player_data['Fours'] = pd.to_numeric(player_data['Fours'], errors='coerce').fillna(0)\n",
        "        player_data['Sixes'] = pd.to_numeric(player_data['Sixes'], errors='coerce').fillna(0)\n",
        "\n",
        "        # Count the number of ducks\n",
        "        player_data['ducks'] = (player_data['runs'] == 0).sum()\n",
        "\n",
        "        # Calculate batting strength\n",
        "        player_data['bat_strength'] = (\n",
        "            player_data['runs'] +\n",
        "            player_data['strike_rate'] +\n",
        "            2 * player_data['Sixes'] +\n",
        "            player_data['Fours'] +\n",
        "            np.where(player_data['strike_rate'] < 50, -10, 0) +\n",
        "            np.where(player_data['strike_rate'] > 100, 10, 0) +\n",
        "            np.where(player_data['strike_rate'] > 125, 10, 0) +\n",
        "            np.where(player_data['strike_rate'] > 150, 10, 0) +\n",
        "            np.where(player_data['strike_rate'] > 175, 10, 0) +\n",
        "            np.where(player_data['strike_rate'] > 200, 10, 0) +\n",
        "            np.where(player_data['runs'] > 10, 10, 0) +\n",
        "            np.where(player_data['runs'] > 20, 10, 0) +\n",
        "            np.where(player_data['runs'] > 30, 10, 0) +\n",
        "            np.where(player_data['runs'] > 40, 10, 0) +\n",
        "            np.where(player_data['runs'] > 50, player_data['runs'], 0) +\n",
        "            (-10 * player_data['ducks'])\n",
        "        )\n",
        "\n",
        "        # Append the mean batting strength for the player on the specific ground\n",
        "        res_list.append(player_data['bat_strength'].mean())\n",
        "    return np.nanmean(res_list)"
      ]
    },
    {
      "cell_type": "code",
      "execution_count": null,
      "metadata": {
        "id": "iAvLjhjlBvcd",
        "outputId": "e8b258b9-ae56-4bd0-952a-0560a53847a6"
      },
      "outputs": [
        {
          "name": "stderr",
          "output_type": "stream",
          "text": [
            "100%|████████████████████████████████████████████████████████████████████████████████| 948/948 [00:20<00:00, 46.96it/s]\n",
            "100%|████████████████████████████████████████████████████████████████████████████████| 948/948 [00:21<00:00, 44.90it/s]\n"
          ]
        }
      ],
      "source": [
        "train_data['meanBatScoresOnGround_team1'] = train_data.progress_apply(\n",
        "    lambda row: meanBatScoresOnGround(row['team1_roster_ids'],row['ground_id'],row['match_dt']),axis=1)\n",
        "train_data['meanBatScoresOnGround_team2'] = train_data.progress_apply(\n",
        "    lambda row: meanBatScoresOnGround(row['team2_roster_ids'], row['ground_id'],row['match_dt']),axis=1)"
      ]
    },
    {
      "cell_type": "code",
      "execution_count": null,
      "metadata": {
        "id": "Kh0D8BgOBvcd",
        "outputId": "c3b7f166-28d1-4e3c-cef4-b38fd2382e28"
      },
      "outputs": [
        {
          "name": "stderr",
          "output_type": "stream",
          "text": [
            "100%|████████████████████████████████████████████████████████████████████████████████| 271/271 [00:05<00:00, 46.81it/s]\n",
            "100%|████████████████████████████████████████████████████████████████████████████████| 271/271 [00:05<00:00, 45.41it/s]\n"
          ]
        }
      ],
      "source": [
        "test_data['meanBatScoresOnGround_team1'] = test_data.progress_apply(\n",
        "    lambda row: meanBatScoresOnGround(row['team1_roster_ids'],row['ground_id'],row['match_dt']),axis=1)\n",
        "test_data['meanBatScoresOnGround_team2'] = test_data.progress_apply(\n",
        "    lambda row: meanBatScoresOnGround(row['team2_roster_ids'], row['ground_id'],row['match_dt']),axis=1)"
      ]
    },
    {
      "cell_type": "markdown",
      "source": [
        "### Bowling scores (from above) for teams in last n games on that ground\n"
      ],
      "metadata": {
        "id": "CDQOW_YqXYMr"
      }
    },
    {
      "cell_type": "code",
      "execution_count": null,
      "metadata": {
        "id": "ri-Q00lgBvcd"
      },
      "outputs": [],
      "source": [
        "def mean_bowlScores_On_Ground(player_list, ground_id, match_dt, n=5):\n",
        "    player_list = pd.Series(str(player_list).split(':')).apply(float)\n",
        "    result = []\n",
        "    merged_df = pd.merge(bowler_lvl_data, match_lvl_data[['match id', 'ground_id']], on='match id', how='left')\n",
        "    for player in player_list[player_list.isin(merged_df['bowler_id'])]:\n",
        "        df = bowler_lvl_data[(merged_df['bowler_id'] == player) & (merged_df['ground_id']==ground_id)]\n",
        "        df = df[df['match_dt'] < match_dt].sort_values(by='match_dt', ascending=False).head(n)\n",
        "        avg_points = df['total_points'].mean() if not df.empty else 0\n",
        "        result.append(avg_points)\n",
        "\n",
        "    return np.nanmean(result)"
      ]
    },
    {
      "cell_type": "code",
      "execution_count": null,
      "metadata": {
        "id": "9oglb7ikBvcd",
        "outputId": "c9ab8598-fd62-4ee6-f7b4-0cc79c6a832d"
      },
      "outputs": [
        {
          "name": "stderr",
          "output_type": "stream",
          "text": [
            "100%|████████████████████████████████████████████████████████████████████████████████| 948/948 [00:12<00:00, 76.07it/s]\n",
            "100%|████████████████████████████████████████████████████████████████████████████████| 948/948 [00:11<00:00, 79.41it/s]\n"
          ]
        }
      ],
      "source": [
        "train_data['mean_bowlScores_On_Ground_team1'] = train_data.progress_apply(\n",
        "    lambda row: mean_bowlScores_On_Ground(row['team1_roster_ids'],row['ground_id'],row['match_dt']),axis=1)\n",
        "train_data['mean_bowlScores_On_Ground_team2'] = train_data.progress_apply(\n",
        "    lambda row: mean_bowlScores_On_Ground(row['team2_roster_ids'], row['ground_id'],row['match_dt']),axis=1)"
      ]
    },
    {
      "cell_type": "code",
      "execution_count": null,
      "metadata": {
        "id": "64xtbGGiBvcd",
        "outputId": "c0d24dc6-ef75-47ec-92f8-e00176292809"
      },
      "outputs": [
        {
          "name": "stderr",
          "output_type": "stream",
          "text": [
            "100%|████████████████████████████████████████████████████████████████████████████████| 271/271 [00:03<00:00, 81.08it/s]\n",
            "100%|████████████████████████████████████████████████████████████████████████████████| 271/271 [00:03<00:00, 81.76it/s]\n"
          ]
        }
      ],
      "source": [
        "test_data['mean_bowlScores_On_Ground_team1'] = test_data.progress_apply(\n",
        "    lambda row: mean_bowlScores_On_Ground(row['team1_roster_ids'],row['ground_id'],row['match_dt']),axis=1)\n",
        "test_data['mean_bowlScores_On_Ground_team2'] = test_data.progress_apply(\n",
        "    lambda row: mean_bowlScores_On_Ground(row['team2_roster_ids'], row['ground_id'],row['match_dt']),axis=1)"
      ]
    },
    {
      "cell_type": "markdown",
      "source": [
        "### Combined average strike rate of teams for last n games on that ground"
      ],
      "metadata": {
        "id": "dSHMwMjJXatD"
      }
    },
    {
      "cell_type": "code",
      "execution_count": null,
      "metadata": {
        "id": "Ua-PlBoRBvcd"
      },
      "outputs": [],
      "source": [
        "def avg_strike_rate_on_ground(player_list, date, ground_id, n=5):\n",
        "    # Convert the player_list to a pandas Series and ensure it's numeric\n",
        "    player_list = pd.Series(str(player_list).split(':')).apply(float)\n",
        "\n",
        "    merged_df = pd.merge(batsman_lvl_data, match_lvl_data[['match id', 'ground_id']], on='match id', how='left')\n",
        "    result = np.array([])\n",
        "    filtered_df = merged_df[(merged_df['ground_id'] == ground_id) & (merged_df['match_dt'] < date)]\n",
        "    if filtered_df.size != 0:\n",
        "        for player in player_list:\n",
        "\n",
        "            df = filtered_df[filtered_df['batsman_id'] == player]\n",
        "            result = np.append(result, (df['strike_rate'].mean() if df.size != 0 else 0))\n",
        "        return np.nanmean(result)\n",
        "    else:\n",
        "        return 0"
      ]
    },
    {
      "cell_type": "code",
      "execution_count": null,
      "metadata": {
        "id": "hFBNyU61Bvcd",
        "outputId": "a7d022eb-ab37-4e97-c08c-1ecc898a8dfe"
      },
      "outputs": [
        {
          "name": "stderr",
          "output_type": "stream",
          "text": [
            "100%|███████████████████████████████████████████████████████████████████████████████| 948/948 [00:07<00:00, 129.82it/s]\n",
            "100%|███████████████████████████████████████████████████████████████████████████████| 948/948 [00:07<00:00, 126.21it/s]\n"
          ]
        }
      ],
      "source": [
        "train_data['avg_strike_rate_on_ground_team1'] = train_data.progress_apply(\n",
        "    lambda row: avg_strike_rate_on_ground(row['team1_roster_ids'],row['match_dt'],row['ground_id']),axis=1)\n",
        "train_data['avg_strike_rate_on_ground_team2'] = train_data.progress_apply(\n",
        "    lambda row: avg_strike_rate_on_ground(row['team2_roster_ids'],row['match_dt'],row['ground_id']),axis=1)"
      ]
    },
    {
      "cell_type": "code",
      "execution_count": null,
      "metadata": {
        "id": "k_jvTs-jBvcd",
        "outputId": "74b23355-1d5b-43de-a79b-80a9168e1f96"
      },
      "outputs": [
        {
          "name": "stderr",
          "output_type": "stream",
          "text": [
            "100%|███████████████████████████████████████████████████████████████████████████████| 271/271 [00:02<00:00, 127.17it/s]\n",
            "100%|███████████████████████████████████████████████████████████████████████████████| 271/271 [00:02<00:00, 123.76it/s]\n"
          ]
        }
      ],
      "source": [
        "test_data['avg_strike_rate_on_ground_team1'] = test_data.progress_apply(\n",
        "    lambda row: avg_strike_rate_on_ground(row['team1_roster_ids'],row['match_dt'],row['ground_id']),axis=1)\n",
        "test_data['avg_strike_rate_on_ground_team2'] = test_data.progress_apply(\n",
        "    lambda row: avg_strike_rate_on_ground(row['team2_roster_ids'],row['match_dt'],row['ground_id']),axis=1)"
      ]
    },
    {
      "cell_type": "markdown",
      "source": [
        "### Combined average Economy of teams for last n games on that ground"
      ],
      "metadata": {
        "id": "S72SHfNGXh_f"
      }
    },
    {
      "cell_type": "code",
      "execution_count": null,
      "metadata": {
        "id": "HCz56P6fBvce"
      },
      "outputs": [],
      "source": [
        "def avg_economy_on_ground(player_list, date, ground_id, n=5):\n",
        "    # Convert the player_list to a pandas Series and ensure it's numeric\n",
        "    player_list = pd.Series(str(player_list).split(':')).apply(float)\n",
        "\n",
        "    merged_df = pd.merge(bowler_lvl_data, match_lvl_data[['match id', 'ground_id']], on='match id', how='left')\n",
        "    result = np.array([])\n",
        "    filtered_df = merged_df[(merged_df['ground_id'] == ground_id) & (merged_df['match_dt'] < date)]\n",
        "    if filtered_df.size != 0:\n",
        "        for player in player_list:\n",
        "\n",
        "            df = filtered_df[filtered_df['bowler_id'] == player]\n",
        "            result = np.append(result, (df['economy'].mean() if df.size != 0 else 0))\n",
        "        return np.nanmean(result)\n",
        "    else:\n",
        "        return 0"
      ]
    },
    {
      "cell_type": "code",
      "execution_count": null,
      "metadata": {
        "id": "ZUe4iWQjBvce",
        "outputId": "cd4a1c6c-8d7d-40d8-f014-c95ac17174cb"
      },
      "outputs": [
        {
          "name": "stderr",
          "output_type": "stream",
          "text": [
            "100%|███████████████████████████████████████████████████████████████████████████████| 948/948 [00:07<00:00, 125.10it/s]\n",
            "100%|███████████████████████████████████████████████████████████████████████████████| 948/948 [00:07<00:00, 122.84it/s]\n"
          ]
        }
      ],
      "source": [
        "train_data['avg_economy_on_ground_team1'] = train_data.progress_apply(\n",
        "    lambda row: avg_economy_on_ground(row['team1_roster_ids'],row['match_dt'],row['ground_id']),axis=1)\n",
        "train_data['avg_economy_on_ground_team2'] = train_data.progress_apply(\n",
        "    lambda row: avg_economy_on_ground(row['team2_roster_ids'],row['match_dt'],row['ground_id']),axis=1)"
      ]
    },
    {
      "cell_type": "code",
      "execution_count": null,
      "metadata": {
        "id": "K83d9eHnBvce",
        "outputId": "25e680fa-83de-4b75-f87b-36f0dec8062a"
      },
      "outputs": [
        {
          "name": "stderr",
          "output_type": "stream",
          "text": [
            "100%|███████████████████████████████████████████████████████████████████████████████| 271/271 [00:02<00:00, 116.68it/s]\n",
            "100%|███████████████████████████████████████████████████████████████████████████████| 271/271 [00:02<00:00, 117.90it/s]\n"
          ]
        }
      ],
      "source": [
        "test_data['avg_economy_on_ground_team1'] = test_data.progress_apply(\n",
        "    lambda row: avg_economy_on_ground(row['team1_roster_ids'],row['match_dt'],row['ground_id']),axis=1)\n",
        "test_data['avg_economy_on_ground_team2'] = test_data.progress_apply(\n",
        "    lambda row: avg_economy_on_ground(row['team2_roster_ids'],row['match_dt'],row['ground_id']),axis=1)"
      ]
    },
    {
      "cell_type": "markdown",
      "source": [
        "### Win percent of teams for last n games on that ground"
      ],
      "metadata": {
        "id": "Z-M2h3YyXlpJ"
      }
    },
    {
      "cell_type": "code",
      "execution_count": null,
      "metadata": {
        "id": "WU8A4-T3Bvce"
      },
      "outputs": [],
      "source": [
        "def winp_on_ground(team_id, ground_id, date, match_lvl_data):\n",
        "\n",
        "    df_rel = match_lvl_data[(match_lvl_data['match_dt'] < date) & (match_lvl_data['ground_id'] == ground_id)].sort_values(by='match_dt', ascending=False)\n",
        "\n",
        "    # Filter rows where the team_id matches either team1_id or team2_id\n",
        "    df_rel = df_rel[(df_rel['team1_id'] == team_id) | (df_rel['team2_id'] == team_id)]\n",
        "    win_df = df_rel[df_rel['winner_id']==team_id]\n",
        "    if df_rel.size == 0 :\n",
        "        return 0\n",
        "    else:\n",
        "        return len(win_df)/len(df_rel)"
      ]
    },
    {
      "cell_type": "code",
      "execution_count": null,
      "metadata": {
        "id": "A66q8eXKBvce",
        "outputId": "abad97f3-fbe6-49b6-d0b4-117807e6fa4f"
      },
      "outputs": [
        {
          "name": "stderr",
          "output_type": "stream",
          "text": [
            "100%|███████████████████████████████████████████████████████████████████████████████| 948/948 [00:01<00:00, 694.11it/s]\n",
            "100%|███████████████████████████████████████████████████████████████████████████████| 948/948 [00:01<00:00, 668.83it/s]\n"
          ]
        }
      ],
      "source": [
        "train_data['winp_on_ground_team1'] = train_data.progress_apply(\n",
        "    lambda row: winp_on_ground(row['team1_id'],row['ground_id'],row['match_dt'],match_lvl_data),axis=1)\n",
        "train_data['winp_on_ground_team2'] = train_data.progress_apply(\n",
        "    lambda row: winp_on_ground(row['team2_id'],row['ground_id'],row['match_dt'],match_lvl_data),axis=1)"
      ]
    },
    {
      "cell_type": "code",
      "execution_count": null,
      "metadata": {
        "id": "XrIrMibrBvce",
        "outputId": "e7144f8a-20e3-4886-f569-391705a470b1"
      },
      "outputs": [
        {
          "name": "stderr",
          "output_type": "stream",
          "text": [
            "100%|███████████████████████████████████████████████████████████████████████████████| 271/271 [00:00<00:00, 653.96it/s]\n",
            "100%|███████████████████████████████████████████████████████████████████████████████| 271/271 [00:00<00:00, 689.28it/s]\n"
          ]
        }
      ],
      "source": [
        "test_data['winp_on_ground_team1'] = test_data.progress_apply(\n",
        "    lambda row: winp_on_ground(row['team1_id'],row['ground_id'],row['match_dt'],match_lvl_data),axis=1)\n",
        "test_data['winp_on_ground_team2'] = test_data.progress_apply(\n",
        "    lambda row: winp_on_ground(row['team2_id'],row['ground_id'],row['match_dt'],match_lvl_data),axis=1)"
      ]
    },
    {
      "cell_type": "code",
      "execution_count": null,
      "metadata": {
        "id": "1wLDJXTsBvcf"
      },
      "outputs": [],
      "source": [
        "train_data.fillna(0, inplace=True)"
      ]
    },
    {
      "cell_type": "markdown",
      "source": [
        "Splitting the data based on series type for training different models for different series_type matches."
      ],
      "metadata": {
        "id": "JaksU39lFxsI"
      }
    },
    {
      "cell_type": "code",
      "execution_count": null,
      "metadata": {
        "id": "fldjUCFPBvcf"
      },
      "outputs": [],
      "source": [
        "train_0 = train_data[train_data['series_type']==0]\n",
        "train_1 = train_data[train_data['series_type']==1]\n",
        "train_2 = train_data[train_data['series_type']==2]\n",
        "test_0 = test[test['series_type']==0]\n",
        "test_1 = test[test['series_type']==1]\n",
        "test_2 = test[test['series_type']==2]"
      ]
    },
    {
      "cell_type": "markdown",
      "source": [
        "Defining the Variables"
      ],
      "metadata": {
        "id": "lG_ZAKr2qcBX"
      }
    },
    {
      "cell_type": "markdown",
      "source": [
        "Please note: this is just one of the feature combinations, the rest of the feature combinations tried are listed in a table ahead"
      ],
      "metadata": {
        "id": "0G4I3jSIrRwu"
      }
    },
    {
      "cell_type": "code",
      "source": [
        "X,y = train_data[['total_strike_rate_team_1_last10', 'total_strike_rate_team_2_last10',\n",
        "       'total_fours_avg_team1_last10', 'total_fours_avg_team2_last10',\n",
        "       'total_sixes_avg_team1_last10', 'total_sixes_avg_team2_last10',\n",
        "       'total_avg_wicket_team1_last10', 'total_avg_wicket_team2_last10',\n",
        "       'total_bowling_SR_team1_last_10', 'total_bowling_SR_team2_last_10',\n",
        "       'team_count_50runs_last15','team_winp_last5',\n",
        "        'ground_avg_runs_last15']], train_data['winner_01']"
      ],
      "metadata": {
        "id": "uvvKLy1sqe6v"
      },
      "execution_count": null,
      "outputs": []
    },
    {
      "cell_type": "code",
      "source": [
        "X_test = train_data[['total_strike_rate_team_1_last10', 'total_strike_rate_team_2_last10',\n",
        "       'total_fours_avg_team1_last10', 'total_fours_avg_team2_last10',\n",
        "       'total_sixes_avg_team1_last10', 'total_sixes_avg_team2_last10',\n",
        "       'total_avg_wicket_team1_last10', 'total_avg_wicket_team2_last10',\n",
        "       'total_bowling_SR_team1_last_10', 'total_bowling_SR_team2_last_10',\n",
        "       'team_count_50runs_last15','team_winp_last5',\n",
        "        'ground_avg_runs_last15']]"
      ],
      "metadata": {
        "id": "XNKiIHNhqmk2"
      },
      "execution_count": null,
      "outputs": []
    },
    {
      "cell_type": "markdown",
      "source": [
        "# Hyper parameter tuning of Models using OPTUNA"
      ],
      "metadata": {
        "id": "OFTxIXDvgjKi"
      }
    },
    {
      "cell_type": "markdown",
      "source": [
        "### Hyperparameter Tuning of Catboost Model"
      ],
      "metadata": {
        "id": "Gv6BM8VggnUs"
      }
    },
    {
      "cell_type": "code",
      "execution_count": null,
      "metadata": {
        "scrolled": true,
        "id": "5xI0NBeOBvch"
      },
      "outputs": [],
      "source": [
        "def objective(trial):\n",
        "    # Define the hyperparameters\n",
        "    catboost_params = {\n",
        "        'iterations': trial.suggest_int('iterations', 10, 400),\n",
        "        'depth': trial.suggest_int('depth', 2, 8),\n",
        "        'learning_rate': trial.suggest_loguniform('learning_rate', 0.01, 0.2),\n",
        "        'l2_leaf_reg': trial.suggest_loguniform('l2_leaf_reg', 0.01, 1.5),\n",
        "        'bagging_temperature': trial.suggest_uniform('bagging_temperature', 0.0, 1.0),\n",
        "        'random_strength': trial.suggest_uniform('random_strength', 0.0, 1.0),\n",
        "        'border_count': trial.suggest_int('border_count', 1, 255),\n",
        "        'od_type': trial.suggest_categorical('od_type', ['IncToDec', 'Iter']),\n",
        "        'od_wait': trial.suggest_int('od_wait', 5, 50),\n",
        "        'verbose': 0\n",
        "    }\n",
        "    model = CatBoostClassifier(**catboost_params, random_state=42)\n",
        "    model.fit(X,y)\n",
        "    score = model.score(X_test_2,y_test_2)\n",
        "\n",
        "    return score\n",
        "\n",
        "# Create the Optuna study and optimize the objective function\n",
        "study = optuna.create_study(direction='maximize')\n",
        "study.optimize(objective, n_trials=1000)\n",
        "\n",
        "# Get the best hyperparameters\n",
        "best_params_catboost = study.best_params\n",
        "print(\"Best Hyperparameters: \", best_params_catboost)"
      ]
    },
    {
      "cell_type": "markdown",
      "source": [
        "##### K-Fold Cross Validating the model"
      ],
      "metadata": {
        "id": "38sjJoAtgywV"
      }
    },
    {
      "cell_type": "code",
      "execution_count": null,
      "metadata": {
        "id": "zB39XJVABvci",
        "outputId": "a29665c8-218f-4551-c950-e5420c37729e"
      },
      "outputs": [
        {
          "name": "stdout",
          "output_type": "stream",
          "text": [
            "0.5157894736842106\n",
            "0.5578947368421052\n",
            "0.5052631578947369\n",
            "0.5368421052631579\n",
            "0.6105263157894737\n",
            "0.5368421052631579\n",
            "0.6\n",
            "0.5684210526315789\n",
            "0.5638297872340425\n",
            "0.5425531914893617\n",
            "Mean_accuracy :0.5537961926091826\n"
          ]
        }
      ],
      "source": [
        "skf = StratifiedKFold(n_splits=10, shuffle=True, random_state=42)\n",
        "accuracies = []\n",
        "for train_index, test_index in skf.split(X, y):\n",
        "    X_train, X_valid = X.iloc[train_index], X.iloc[test_index]\n",
        "    y_train, y_valid = y.iloc[train_index], y.iloc[test_index]\n",
        "\n",
        "    train_pool = Pool(data=X_train, label=y_train)\n",
        "    valid_pool = Pool(data=X_valid, label=y_valid)\n",
        "\n",
        "    model = CatBoostClassifier(**best_params_catboost, random_state=42, verbose=0)\n",
        "    model.fit(train_pool)\n",
        "\n",
        "    preds = model.predict(X_valid)\n",
        "    print(accuracy_score(y_valid, preds))\n",
        "    accuracies.append(accuracy_score(y_valid, preds))\n",
        "print(f'Mean_accuracy :{np.mean(accuracies)}')"
      ]
    },
    {
      "cell_type": "code",
      "execution_count": null,
      "metadata": {
        "id": "NpPhnMQxBvci"
      },
      "outputs": [],
      "source": [
        "cbc = CatBoostClassifier(**best_params_catboost, random_state=42)"
      ]
    },
    {
      "cell_type": "code",
      "execution_count": null,
      "metadata": {
        "id": "FXli5wajBvci",
        "outputId": "0d06322d-35da-40b5-cfbb-f30e7cd522ff"
      },
      "outputs": [
        {
          "data": {
            "text/plain": [
              "<catboost.core.CatBoostClassifier at 0x21c55149f10>"
            ]
          },
          "execution_count": 1045,
          "metadata": {},
          "output_type": "execute_result"
        }
      ],
      "source": [
        "cbc.fit(X,y, verbose=0)"
      ]
    },
    {
      "cell_type": "code",
      "execution_count": null,
      "metadata": {
        "id": "JRKkCLprBvci",
        "outputId": "f82ad6f3-2f53-41d3-8161-b694c49e31db"
      },
      "outputs": [
        {
          "data": {
            "text/plain": [
              "0.66"
            ]
          },
          "execution_count": 1046,
          "metadata": {},
          "output_type": "execute_result"
        }
      ],
      "source": [
        "cbc.score(X_test,y_test)"
      ]
    },
    {
      "cell_type": "markdown",
      "source": [
        "### Hyperparameter Tuning of GBM Model"
      ],
      "metadata": {
        "id": "YFN55Ax6hCFb"
      }
    },
    {
      "cell_type": "code",
      "execution_count": null,
      "metadata": {
        "scrolled": true,
        "id": "V9SQJcVnBvcj"
      },
      "outputs": [],
      "source": [
        "import optuna\n",
        "from sklearn.model_selection import StratifiedKFold\n",
        "from sklearn.ensemble import GradientBoostingClassifier\n",
        "from sklearn.metrics import accuracy_score\n",
        "def objective(trial):\n",
        "    gb_params = {\n",
        "        'n_estimators': trial.suggest_int('n_estimators', 15, 800),\n",
        "        'learning_rate': trial.suggest_loguniform('learning_rate', 0.01, 0.2),\n",
        "        'max_depth': trial.suggest_int('max_depth', 2, 7),\n",
        "        'min_samples_split': trial.suggest_int('min_samples_split', 2, 100),\n",
        "        'min_samples_leaf': trial.suggest_int('min_samples_leaf', 1, 100),\n",
        "        'subsample': trial.suggest_uniform('subsample', 0.5, 1.0),\n",
        "        'max_features': trial.suggest_uniform('max_features', 0.5, 1.0),\n",
        "        'verbose': 0\n",
        "    }\n",
        "    gbm = GradientBoostingClassifier(**gb_params, random_state = 42)\n",
        "\n",
        "        # Train the model\n",
        "    gbm.fit(X, y)\n",
        "\n",
        "        # Predict on the test set\n",
        "    score = gbm.score(X_test_2,y_test_2)\n",
        "\n",
        "\n",
        "    # Return the average accuracy over the folds\n",
        "    return score\n",
        "\n",
        "# Create the study and optimize the objective function\n",
        "study = optuna.create_study(direction='maximize')\n",
        "study.optimize(objective, n_trials=1000)\n",
        "\n",
        "# Best trial\n",
        "best_trial_GBM = study.best_trial\n",
        "print(\"Best trial: \", best_trial_GBM.values)\n",
        "print(\"Best parameters: \", best_trial_GBM.params)"
      ]
    },
    {
      "cell_type": "markdown",
      "source": [
        "##### K-Fold Cross Validating the model"
      ],
      "metadata": {
        "id": "ayF-J1ulhM0k"
      }
    },
    {
      "cell_type": "code",
      "execution_count": null,
      "metadata": {
        "id": "wOKRC7i-Bvcj",
        "outputId": "ca0132b4-726b-450d-aeaa-5d236ac8f477"
      },
      "outputs": [
        {
          "name": "stdout",
          "output_type": "stream",
          "text": [
            "0.5263157894736842\n",
            "0.6105263157894737\n",
            "0.47368421052631576\n",
            "0.4842105263157895\n",
            "0.5894736842105263\n",
            "0.5052631578947369\n",
            "0.6\n",
            "0.5789473684210527\n",
            "0.5425531914893617\n",
            "0.5638297872340425\n",
            "Mean Accuracy: 0.5474804031354983\n"
          ]
        }
      ],
      "source": [
        "skf = StratifiedKFold(n_splits=10, shuffle=True, random_state=42)\n",
        "accuracies = []\n",
        "for train_index, test_index in skf.split(X, y):\n",
        "    X_train, X_valid = X.iloc[train_index], X.iloc[test_index]\n",
        "    y_train, y_valid = y.iloc[train_index], y.iloc[test_index]\n",
        "\n",
        "    gbm = GradientBoostingClassifier(**gbm_params, random_state = 42)\n",
        "    gbm.fit(X_train, y_train)\n",
        "\n",
        "    preds = gbm.predict(X_valid)\n",
        "    accuracy = accuracy_score(y_valid, preds)\n",
        "    print(accuracy)\n",
        "    accuracies.append(accuracy)\n",
        "\n",
        "print(f\"Mean Accuracy: {np.mean(accuracies)}\")"
      ]
    },
    {
      "cell_type": "code",
      "execution_count": null,
      "metadata": {
        "id": "xQG5fSmSBvcj"
      },
      "outputs": [],
      "source": [
        "gbm = GradientBoostingClassifier(**gbm_params, random_state = 42)"
      ]
    },
    {
      "cell_type": "code",
      "execution_count": null,
      "metadata": {
        "id": "XLlc5eqRBvcj",
        "outputId": "24af9d20-c83d-412e-dc74-84dc03fa1f3e"
      },
      "outputs": [
        {
          "data": {
            "text/html": [
              "<style>#sk-container-id-91 {\n",
              "  /* Definition of color scheme common for light and dark mode */\n",
              "  --sklearn-color-text: black;\n",
              "  --sklearn-color-line: gray;\n",
              "  /* Definition of color scheme for unfitted estimators */\n",
              "  --sklearn-color-unfitted-level-0: #fff5e6;\n",
              "  --sklearn-color-unfitted-level-1: #f6e4d2;\n",
              "  --sklearn-color-unfitted-level-2: #ffe0b3;\n",
              "  --sklearn-color-unfitted-level-3: chocolate;\n",
              "  /* Definition of color scheme for fitted estimators */\n",
              "  --sklearn-color-fitted-level-0: #f0f8ff;\n",
              "  --sklearn-color-fitted-level-1: #d4ebff;\n",
              "  --sklearn-color-fitted-level-2: #b3dbfd;\n",
              "  --sklearn-color-fitted-level-3: cornflowerblue;\n",
              "\n",
              "  /* Specific color for light theme */\n",
              "  --sklearn-color-text-on-default-background: var(--sg-text-color, var(--theme-code-foreground, var(--jp-content-font-color1, black)));\n",
              "  --sklearn-color-background: var(--sg-background-color, var(--theme-background, var(--jp-layout-color0, white)));\n",
              "  --sklearn-color-border-box: var(--sg-text-color, var(--theme-code-foreground, var(--jp-content-font-color1, black)));\n",
              "  --sklearn-color-icon: #696969;\n",
              "\n",
              "  @media (prefers-color-scheme: dark) {\n",
              "    /* Redefinition of color scheme for dark theme */\n",
              "    --sklearn-color-text-on-default-background: var(--sg-text-color, var(--theme-code-foreground, var(--jp-content-font-color1, white)));\n",
              "    --sklearn-color-background: var(--sg-background-color, var(--theme-background, var(--jp-layout-color0, #111)));\n",
              "    --sklearn-color-border-box: var(--sg-text-color, var(--theme-code-foreground, var(--jp-content-font-color1, white)));\n",
              "    --sklearn-color-icon: #878787;\n",
              "  }\n",
              "}\n",
              "\n",
              "#sk-container-id-91 {\n",
              "  color: var(--sklearn-color-text);\n",
              "}\n",
              "\n",
              "#sk-container-id-91 pre {\n",
              "  padding: 0;\n",
              "}\n",
              "\n",
              "#sk-container-id-91 input.sk-hidden--visually {\n",
              "  border: 0;\n",
              "  clip: rect(1px 1px 1px 1px);\n",
              "  clip: rect(1px, 1px, 1px, 1px);\n",
              "  height: 1px;\n",
              "  margin: -1px;\n",
              "  overflow: hidden;\n",
              "  padding: 0;\n",
              "  position: absolute;\n",
              "  width: 1px;\n",
              "}\n",
              "\n",
              "#sk-container-id-91 div.sk-dashed-wrapped {\n",
              "  border: 1px dashed var(--sklearn-color-line);\n",
              "  margin: 0 0.4em 0.5em 0.4em;\n",
              "  box-sizing: border-box;\n",
              "  padding-bottom: 0.4em;\n",
              "  background-color: var(--sklearn-color-background);\n",
              "}\n",
              "\n",
              "#sk-container-id-91 div.sk-container {\n",
              "  /* jupyter's `normalize.less` sets `[hidden] { display: none; }`\n",
              "     but bootstrap.min.css set `[hidden] { display: none !important; }`\n",
              "     so we also need the `!important` here to be able to override the\n",
              "     default hidden behavior on the sphinx rendered scikit-learn.org.\n",
              "     See: https://github.com/scikit-learn/scikit-learn/issues/21755 */\n",
              "  display: inline-block !important;\n",
              "  position: relative;\n",
              "}\n",
              "\n",
              "#sk-container-id-91 div.sk-text-repr-fallback {\n",
              "  display: none;\n",
              "}\n",
              "\n",
              "div.sk-parallel-item,\n",
              "div.sk-serial,\n",
              "div.sk-item {\n",
              "  /* draw centered vertical line to link estimators */\n",
              "  background-image: linear-gradient(var(--sklearn-color-text-on-default-background), var(--sklearn-color-text-on-default-background));\n",
              "  background-size: 2px 100%;\n",
              "  background-repeat: no-repeat;\n",
              "  background-position: center center;\n",
              "}\n",
              "\n",
              "/* Parallel-specific style estimator block */\n",
              "\n",
              "#sk-container-id-91 div.sk-parallel-item::after {\n",
              "  content: \"\";\n",
              "  width: 100%;\n",
              "  border-bottom: 2px solid var(--sklearn-color-text-on-default-background);\n",
              "  flex-grow: 1;\n",
              "}\n",
              "\n",
              "#sk-container-id-91 div.sk-parallel {\n",
              "  display: flex;\n",
              "  align-items: stretch;\n",
              "  justify-content: center;\n",
              "  background-color: var(--sklearn-color-background);\n",
              "  position: relative;\n",
              "}\n",
              "\n",
              "#sk-container-id-91 div.sk-parallel-item {\n",
              "  display: flex;\n",
              "  flex-direction: column;\n",
              "}\n",
              "\n",
              "#sk-container-id-91 div.sk-parallel-item:first-child::after {\n",
              "  align-self: flex-end;\n",
              "  width: 50%;\n",
              "}\n",
              "\n",
              "#sk-container-id-91 div.sk-parallel-item:last-child::after {\n",
              "  align-self: flex-start;\n",
              "  width: 50%;\n",
              "}\n",
              "\n",
              "#sk-container-id-91 div.sk-parallel-item:only-child::after {\n",
              "  width: 0;\n",
              "}\n",
              "\n",
              "/* Serial-specific style estimator block */\n",
              "\n",
              "#sk-container-id-91 div.sk-serial {\n",
              "  display: flex;\n",
              "  flex-direction: column;\n",
              "  align-items: center;\n",
              "  background-color: var(--sklearn-color-background);\n",
              "  padding-right: 1em;\n",
              "  padding-left: 1em;\n",
              "}\n",
              "\n",
              "\n",
              "/* Toggleable style: style used for estimator/Pipeline/ColumnTransformer box that is\n",
              "clickable and can be expanded/collapsed.\n",
              "- Pipeline and ColumnTransformer use this feature and define the default style\n",
              "- Estimators will overwrite some part of the style using the `sk-estimator` class\n",
              "*/\n",
              "\n",
              "/* Pipeline and ColumnTransformer style (default) */\n",
              "\n",
              "#sk-container-id-91 div.sk-toggleable {\n",
              "  /* Default theme specific background. It is overwritten whether we have a\n",
              "  specific estimator or a Pipeline/ColumnTransformer */\n",
              "  background-color: var(--sklearn-color-background);\n",
              "}\n",
              "\n",
              "/* Toggleable label */\n",
              "#sk-container-id-91 label.sk-toggleable__label {\n",
              "  cursor: pointer;\n",
              "  display: block;\n",
              "  width: 100%;\n",
              "  margin-bottom: 0;\n",
              "  padding: 0.5em;\n",
              "  box-sizing: border-box;\n",
              "  text-align: center;\n",
              "}\n",
              "\n",
              "#sk-container-id-91 label.sk-toggleable__label-arrow:before {\n",
              "  /* Arrow on the left of the label */\n",
              "  content: \"▸\";\n",
              "  float: left;\n",
              "  margin-right: 0.25em;\n",
              "  color: var(--sklearn-color-icon);\n",
              "}\n",
              "\n",
              "#sk-container-id-91 label.sk-toggleable__label-arrow:hover:before {\n",
              "  color: var(--sklearn-color-text);\n",
              "}\n",
              "\n",
              "/* Toggleable content - dropdown */\n",
              "\n",
              "#sk-container-id-91 div.sk-toggleable__content {\n",
              "  max-height: 0;\n",
              "  max-width: 0;\n",
              "  overflow: hidden;\n",
              "  text-align: left;\n",
              "  /* unfitted */\n",
              "  background-color: var(--sklearn-color-unfitted-level-0);\n",
              "}\n",
              "\n",
              "#sk-container-id-91 div.sk-toggleable__content.fitted {\n",
              "  /* fitted */\n",
              "  background-color: var(--sklearn-color-fitted-level-0);\n",
              "}\n",
              "\n",
              "#sk-container-id-91 div.sk-toggleable__content pre {\n",
              "  margin: 0.2em;\n",
              "  border-radius: 0.25em;\n",
              "  color: var(--sklearn-color-text);\n",
              "  /* unfitted */\n",
              "  background-color: var(--sklearn-color-unfitted-level-0);\n",
              "}\n",
              "\n",
              "#sk-container-id-91 div.sk-toggleable__content.fitted pre {\n",
              "  /* unfitted */\n",
              "  background-color: var(--sklearn-color-fitted-level-0);\n",
              "}\n",
              "\n",
              "#sk-container-id-91 input.sk-toggleable__control:checked~div.sk-toggleable__content {\n",
              "  /* Expand drop-down */\n",
              "  max-height: 200px;\n",
              "  max-width: 100%;\n",
              "  overflow: auto;\n",
              "}\n",
              "\n",
              "#sk-container-id-91 input.sk-toggleable__control:checked~label.sk-toggleable__label-arrow:before {\n",
              "  content: \"▾\";\n",
              "}\n",
              "\n",
              "/* Pipeline/ColumnTransformer-specific style */\n",
              "\n",
              "#sk-container-id-91 div.sk-label input.sk-toggleable__control:checked~label.sk-toggleable__label {\n",
              "  color: var(--sklearn-color-text);\n",
              "  background-color: var(--sklearn-color-unfitted-level-2);\n",
              "}\n",
              "\n",
              "#sk-container-id-91 div.sk-label.fitted input.sk-toggleable__control:checked~label.sk-toggleable__label {\n",
              "  background-color: var(--sklearn-color-fitted-level-2);\n",
              "}\n",
              "\n",
              "/* Estimator-specific style */\n",
              "\n",
              "/* Colorize estimator box */\n",
              "#sk-container-id-91 div.sk-estimator input.sk-toggleable__control:checked~label.sk-toggleable__label {\n",
              "  /* unfitted */\n",
              "  background-color: var(--sklearn-color-unfitted-level-2);\n",
              "}\n",
              "\n",
              "#sk-container-id-91 div.sk-estimator.fitted input.sk-toggleable__control:checked~label.sk-toggleable__label {\n",
              "  /* fitted */\n",
              "  background-color: var(--sklearn-color-fitted-level-2);\n",
              "}\n",
              "\n",
              "#sk-container-id-91 div.sk-label label.sk-toggleable__label,\n",
              "#sk-container-id-91 div.sk-label label {\n",
              "  /* The background is the default theme color */\n",
              "  color: var(--sklearn-color-text-on-default-background);\n",
              "}\n",
              "\n",
              "/* On hover, darken the color of the background */\n",
              "#sk-container-id-91 div.sk-label:hover label.sk-toggleable__label {\n",
              "  color: var(--sklearn-color-text);\n",
              "  background-color: var(--sklearn-color-unfitted-level-2);\n",
              "}\n",
              "\n",
              "/* Label box, darken color on hover, fitted */\n",
              "#sk-container-id-91 div.sk-label.fitted:hover label.sk-toggleable__label.fitted {\n",
              "  color: var(--sklearn-color-text);\n",
              "  background-color: var(--sklearn-color-fitted-level-2);\n",
              "}\n",
              "\n",
              "/* Estimator label */\n",
              "\n",
              "#sk-container-id-91 div.sk-label label {\n",
              "  font-family: monospace;\n",
              "  font-weight: bold;\n",
              "  display: inline-block;\n",
              "  line-height: 1.2em;\n",
              "}\n",
              "\n",
              "#sk-container-id-91 div.sk-label-container {\n",
              "  text-align: center;\n",
              "}\n",
              "\n",
              "/* Estimator-specific */\n",
              "#sk-container-id-91 div.sk-estimator {\n",
              "  font-family: monospace;\n",
              "  border: 1px dotted var(--sklearn-color-border-box);\n",
              "  border-radius: 0.25em;\n",
              "  box-sizing: border-box;\n",
              "  margin-bottom: 0.5em;\n",
              "  /* unfitted */\n",
              "  background-color: var(--sklearn-color-unfitted-level-0);\n",
              "}\n",
              "\n",
              "#sk-container-id-91 div.sk-estimator.fitted {\n",
              "  /* fitted */\n",
              "  background-color: var(--sklearn-color-fitted-level-0);\n",
              "}\n",
              "\n",
              "/* on hover */\n",
              "#sk-container-id-91 div.sk-estimator:hover {\n",
              "  /* unfitted */\n",
              "  background-color: var(--sklearn-color-unfitted-level-2);\n",
              "}\n",
              "\n",
              "#sk-container-id-91 div.sk-estimator.fitted:hover {\n",
              "  /* fitted */\n",
              "  background-color: var(--sklearn-color-fitted-level-2);\n",
              "}\n",
              "\n",
              "/* Specification for estimator info (e.g. \"i\" and \"?\") */\n",
              "\n",
              "/* Common style for \"i\" and \"?\" */\n",
              "\n",
              ".sk-estimator-doc-link,\n",
              "a:link.sk-estimator-doc-link,\n",
              "a:visited.sk-estimator-doc-link {\n",
              "  float: right;\n",
              "  font-size: smaller;\n",
              "  line-height: 1em;\n",
              "  font-family: monospace;\n",
              "  background-color: var(--sklearn-color-background);\n",
              "  border-radius: 1em;\n",
              "  height: 1em;\n",
              "  width: 1em;\n",
              "  text-decoration: none !important;\n",
              "  margin-left: 1ex;\n",
              "  /* unfitted */\n",
              "  border: var(--sklearn-color-unfitted-level-1) 1pt solid;\n",
              "  color: var(--sklearn-color-unfitted-level-1);\n",
              "}\n",
              "\n",
              ".sk-estimator-doc-link.fitted,\n",
              "a:link.sk-estimator-doc-link.fitted,\n",
              "a:visited.sk-estimator-doc-link.fitted {\n",
              "  /* fitted */\n",
              "  border: var(--sklearn-color-fitted-level-1) 1pt solid;\n",
              "  color: var(--sklearn-color-fitted-level-1);\n",
              "}\n",
              "\n",
              "/* On hover */\n",
              "div.sk-estimator:hover .sk-estimator-doc-link:hover,\n",
              ".sk-estimator-doc-link:hover,\n",
              "div.sk-label-container:hover .sk-estimator-doc-link:hover,\n",
              ".sk-estimator-doc-link:hover {\n",
              "  /* unfitted */\n",
              "  background-color: var(--sklearn-color-unfitted-level-3);\n",
              "  color: var(--sklearn-color-background);\n",
              "  text-decoration: none;\n",
              "}\n",
              "\n",
              "div.sk-estimator.fitted:hover .sk-estimator-doc-link.fitted:hover,\n",
              ".sk-estimator-doc-link.fitted:hover,\n",
              "div.sk-label-container:hover .sk-estimator-doc-link.fitted:hover,\n",
              ".sk-estimator-doc-link.fitted:hover {\n",
              "  /* fitted */\n",
              "  background-color: var(--sklearn-color-fitted-level-3);\n",
              "  color: var(--sklearn-color-background);\n",
              "  text-decoration: none;\n",
              "}\n",
              "\n",
              "/* Span, style for the box shown on hovering the info icon */\n",
              ".sk-estimator-doc-link span {\n",
              "  display: none;\n",
              "  z-index: 9999;\n",
              "  position: relative;\n",
              "  font-weight: normal;\n",
              "  right: .2ex;\n",
              "  padding: .5ex;\n",
              "  margin: .5ex;\n",
              "  width: min-content;\n",
              "  min-width: 20ex;\n",
              "  max-width: 50ex;\n",
              "  color: var(--sklearn-color-text);\n",
              "  box-shadow: 2pt 2pt 4pt #999;\n",
              "  /* unfitted */\n",
              "  background: var(--sklearn-color-unfitted-level-0);\n",
              "  border: .5pt solid var(--sklearn-color-unfitted-level-3);\n",
              "}\n",
              "\n",
              ".sk-estimator-doc-link.fitted span {\n",
              "  /* fitted */\n",
              "  background: var(--sklearn-color-fitted-level-0);\n",
              "  border: var(--sklearn-color-fitted-level-3);\n",
              "}\n",
              "\n",
              ".sk-estimator-doc-link:hover span {\n",
              "  display: block;\n",
              "}\n",
              "\n",
              "/* \"?\"-specific style due to the `<a>` HTML tag */\n",
              "\n",
              "#sk-container-id-91 a.estimator_doc_link {\n",
              "  float: right;\n",
              "  font-size: 1rem;\n",
              "  line-height: 1em;\n",
              "  font-family: monospace;\n",
              "  background-color: var(--sklearn-color-background);\n",
              "  border-radius: 1rem;\n",
              "  height: 1rem;\n",
              "  width: 1rem;\n",
              "  text-decoration: none;\n",
              "  /* unfitted */\n",
              "  color: var(--sklearn-color-unfitted-level-1);\n",
              "  border: var(--sklearn-color-unfitted-level-1) 1pt solid;\n",
              "}\n",
              "\n",
              "#sk-container-id-91 a.estimator_doc_link.fitted {\n",
              "  /* fitted */\n",
              "  border: var(--sklearn-color-fitted-level-1) 1pt solid;\n",
              "  color: var(--sklearn-color-fitted-level-1);\n",
              "}\n",
              "\n",
              "/* On hover */\n",
              "#sk-container-id-91 a.estimator_doc_link:hover {\n",
              "  /* unfitted */\n",
              "  background-color: var(--sklearn-color-unfitted-level-3);\n",
              "  color: var(--sklearn-color-background);\n",
              "  text-decoration: none;\n",
              "}\n",
              "\n",
              "#sk-container-id-91 a.estimator_doc_link.fitted:hover {\n",
              "  /* fitted */\n",
              "  background-color: var(--sklearn-color-fitted-level-3);\n",
              "}\n",
              "</style><div id=\"sk-container-id-91\" class=\"sk-top-container\"><div class=\"sk-text-repr-fallback\"><pre>GradientBoostingClassifier(learning_rate=0.0193036066172833,\n",
              "                           max_features=0.8636088577796043, min_samples_leaf=5,\n",
              "                           min_samples_split=77, n_estimators=229,\n",
              "                           random_state=42, subsample=0.5691167394593772)</pre><b>In a Jupyter environment, please rerun this cell to show the HTML representation or trust the notebook. <br />On GitHub, the HTML representation is unable to render, please try loading this page with nbviewer.org.</b></div><div class=\"sk-container\" hidden><div class=\"sk-item\"><div class=\"sk-estimator fitted sk-toggleable\"><input class=\"sk-toggleable__control sk-hidden--visually\" id=\"sk-estimator-id-91\" type=\"checkbox\" checked><label for=\"sk-estimator-id-91\" class=\"sk-toggleable__label fitted sk-toggleable__label-arrow fitted\">&nbsp;&nbsp;GradientBoostingClassifier<a class=\"sk-estimator-doc-link fitted\" rel=\"noreferrer\" target=\"_blank\" href=\"https://scikit-learn.org/1.4/modules/generated/sklearn.ensemble.GradientBoostingClassifier.html\">?<span>Documentation for GradientBoostingClassifier</span></a><span class=\"sk-estimator-doc-link fitted\">i<span>Fitted</span></span></label><div class=\"sk-toggleable__content fitted\"><pre>GradientBoostingClassifier(learning_rate=0.0193036066172833,\n",
              "                           max_features=0.8636088577796043, min_samples_leaf=5,\n",
              "                           min_samples_split=77, n_estimators=229,\n",
              "                           random_state=42, subsample=0.5691167394593772)</pre></div> </div></div></div></div>"
            ],
            "text/plain": [
              "GradientBoostingClassifier(learning_rate=0.0193036066172833,\n",
              "                           max_features=0.8636088577796043, min_samples_leaf=5,\n",
              "                           min_samples_split=77, n_estimators=229,\n",
              "                           random_state=42, subsample=0.5691167394593772)"
            ]
          },
          "execution_count": 1162,
          "metadata": {},
          "output_type": "execute_result"
        }
      ],
      "source": [
        "gbm.fit(X,y)"
      ]
    },
    {
      "cell_type": "code",
      "execution_count": null,
      "metadata": {
        "id": "DIG0FLuZBvcj",
        "outputId": "e67b8c12-2833-43f2-cc49-5402648f909f"
      },
      "outputs": [
        {
          "data": {
            "text/plain": [
              "0.62"
            ]
          },
          "execution_count": 1159,
          "metadata": {},
          "output_type": "execute_result"
        }
      ],
      "source": [
        "gbm.score(X_test,y_test)"
      ]
    },
    {
      "cell_type": "markdown",
      "source": [
        "### Hyperparameter Tuning of XGBOOST Model"
      ],
      "metadata": {
        "id": "Yv5oeO6jhRw_"
      }
    },
    {
      "cell_type": "code",
      "execution_count": null,
      "metadata": {
        "scrolled": true,
        "id": "2glJ-8-yBvcj"
      },
      "outputs": [],
      "source": [
        "import optuna\n",
        "from sklearn.model_selection import StratifiedKFold\n",
        "from sklearn.ensemble import GradientBoostingClassifier\n",
        "from sklearn.metrics import accuracy_score\n",
        "def objective(trial):\n",
        "    xgboost_params = {\n",
        "        'max_depth': trial.suggest_int('max_depth', 2, 8),\n",
        "        'learning_rate': trial.suggest_loguniform('learning_rate', 0.01, 0.2),\n",
        "        'n_estimators': trial.suggest_int('n_estimators', 20, 1000),\n",
        "        'subsample': trial.suggest_uniform('subsample', 0.5, 1.0),\n",
        "        'colsample_bytree': trial.suggest_uniform('colsample_bytree', 0.5, 1.0),\n",
        "        'gamma': trial.suggest_loguniform('gamma', 1e-4, 1.0),\n",
        "        'reg_alpha': trial.suggest_loguniform('reg_alpha', 1e-8, 5),\n",
        "        'reg_lambda': trial.suggest_loguniform('reg_lambda', 0.001, 5.0),\n",
        "        'verbosity': 0\n",
        "    }\n",
        "\n",
        "    # Initialize Stratified K-Fold\n",
        "    skf = StratifiedKFold(n_splits=10, shuffle=True, random_state=42)\n",
        "    accuracies = []\n",
        "    model = xgb.XGBClassifier(**xgboost_params, random_state = 42)\n",
        "\n",
        "    model.fit(X, y)\n",
        "    accuracy = model.score(X_test_2,y_test_2)\n",
        "    # accuracies.append(accuracy)\n",
        "\n",
        "    # Return the average accuracy over the folds\n",
        "    return accuracy\n",
        "\n",
        "# Create the study and optimize the objective function\n",
        "study = optuna.create_study(direction='maximize')\n",
        "study.optimize(objective, n_trials=1000)\n",
        "\n",
        "# Best trial\n",
        "best_trial_XGB = study.best_trial\n",
        "print(\"Best trial: \", best_trial_XGB.values)\n",
        "print(\"Best parameters: \", best_trial_XGB.params)"
      ]
    },
    {
      "cell_type": "markdown",
      "source": [
        "##### K-Fold Cross Validating the model"
      ],
      "metadata": {
        "id": "FaHF0jSvhYZw"
      }
    },
    {
      "cell_type": "code",
      "execution_count": null,
      "metadata": {
        "id": "OABtJXrMBvck",
        "outputId": "d394d828-c1d0-4b29-82bc-e963d13f616e"
      },
      "outputs": [
        {
          "name": "stdout",
          "output_type": "stream",
          "text": [
            "0.6\n",
            "0.5157894736842106\n",
            "0.4842105263157895\n",
            "0.5578947368421052\n",
            "0.6526315789473685\n",
            "0.5157894736842106\n",
            "0.5473684210526316\n",
            "0.6210526315789474\n",
            "0.5425531914893617\n",
            "0.5319148936170213\n",
            "Mean Accuracy: 0.5569204927211647\n"
          ]
        }
      ],
      "source": [
        "skf = StratifiedKFold(n_splits=10, shuffle=True, random_state=42)\n",
        "accuracies = []\n",
        "for train_index, test_index in skf.split(X, y):\n",
        "    X_train, X_valid = X.iloc[train_index], X.iloc[test_index]\n",
        "    y_train, y_valid = y.iloc[train_index], y.iloc[test_index]\n",
        "\n",
        "    model = xgb.XGBClassifier(**xgb_params, random_state = 42)\n",
        "    model.fit(X_train, y_train)\n",
        "\n",
        "    preds = model.predict(X_valid)\n",
        "    accuracy = accuracy_score(y_valid, preds)\n",
        "    print(accuracy)\n",
        "    accuracies.append(accuracy)\n",
        "\n",
        "print(f\"Mean Accuracy: {np.mean(accuracies)}\")"
      ]
    },
    {
      "cell_type": "code",
      "execution_count": null,
      "metadata": {
        "id": "gK1TQdlaBvck"
      },
      "outputs": [],
      "source": [
        "model = xgb.XGBClassifier(**xgb_params, random_state = 42)"
      ]
    },
    {
      "cell_type": "code",
      "execution_count": null,
      "metadata": {
        "id": "8OxW2A4tBvck",
        "outputId": "bcbd2689-9395-4533-83aa-21b46566f05c"
      },
      "outputs": [
        {
          "data": {
            "text/html": [
              "<style>#sk-container-id-92 {\n",
              "  /* Definition of color scheme common for light and dark mode */\n",
              "  --sklearn-color-text: black;\n",
              "  --sklearn-color-line: gray;\n",
              "  /* Definition of color scheme for unfitted estimators */\n",
              "  --sklearn-color-unfitted-level-0: #fff5e6;\n",
              "  --sklearn-color-unfitted-level-1: #f6e4d2;\n",
              "  --sklearn-color-unfitted-level-2: #ffe0b3;\n",
              "  --sklearn-color-unfitted-level-3: chocolate;\n",
              "  /* Definition of color scheme for fitted estimators */\n",
              "  --sklearn-color-fitted-level-0: #f0f8ff;\n",
              "  --sklearn-color-fitted-level-1: #d4ebff;\n",
              "  --sklearn-color-fitted-level-2: #b3dbfd;\n",
              "  --sklearn-color-fitted-level-3: cornflowerblue;\n",
              "\n",
              "  /* Specific color for light theme */\n",
              "  --sklearn-color-text-on-default-background: var(--sg-text-color, var(--theme-code-foreground, var(--jp-content-font-color1, black)));\n",
              "  --sklearn-color-background: var(--sg-background-color, var(--theme-background, var(--jp-layout-color0, white)));\n",
              "  --sklearn-color-border-box: var(--sg-text-color, var(--theme-code-foreground, var(--jp-content-font-color1, black)));\n",
              "  --sklearn-color-icon: #696969;\n",
              "\n",
              "  @media (prefers-color-scheme: dark) {\n",
              "    /* Redefinition of color scheme for dark theme */\n",
              "    --sklearn-color-text-on-default-background: var(--sg-text-color, var(--theme-code-foreground, var(--jp-content-font-color1, white)));\n",
              "    --sklearn-color-background: var(--sg-background-color, var(--theme-background, var(--jp-layout-color0, #111)));\n",
              "    --sklearn-color-border-box: var(--sg-text-color, var(--theme-code-foreground, var(--jp-content-font-color1, white)));\n",
              "    --sklearn-color-icon: #878787;\n",
              "  }\n",
              "}\n",
              "\n",
              "#sk-container-id-92 {\n",
              "  color: var(--sklearn-color-text);\n",
              "}\n",
              "\n",
              "#sk-container-id-92 pre {\n",
              "  padding: 0;\n",
              "}\n",
              "\n",
              "#sk-container-id-92 input.sk-hidden--visually {\n",
              "  border: 0;\n",
              "  clip: rect(1px 1px 1px 1px);\n",
              "  clip: rect(1px, 1px, 1px, 1px);\n",
              "  height: 1px;\n",
              "  margin: -1px;\n",
              "  overflow: hidden;\n",
              "  padding: 0;\n",
              "  position: absolute;\n",
              "  width: 1px;\n",
              "}\n",
              "\n",
              "#sk-container-id-92 div.sk-dashed-wrapped {\n",
              "  border: 1px dashed var(--sklearn-color-line);\n",
              "  margin: 0 0.4em 0.5em 0.4em;\n",
              "  box-sizing: border-box;\n",
              "  padding-bottom: 0.4em;\n",
              "  background-color: var(--sklearn-color-background);\n",
              "}\n",
              "\n",
              "#sk-container-id-92 div.sk-container {\n",
              "  /* jupyter's `normalize.less` sets `[hidden] { display: none; }`\n",
              "     but bootstrap.min.css set `[hidden] { display: none !important; }`\n",
              "     so we also need the `!important` here to be able to override the\n",
              "     default hidden behavior on the sphinx rendered scikit-learn.org.\n",
              "     See: https://github.com/scikit-learn/scikit-learn/issues/21755 */\n",
              "  display: inline-block !important;\n",
              "  position: relative;\n",
              "}\n",
              "\n",
              "#sk-container-id-92 div.sk-text-repr-fallback {\n",
              "  display: none;\n",
              "}\n",
              "\n",
              "div.sk-parallel-item,\n",
              "div.sk-serial,\n",
              "div.sk-item {\n",
              "  /* draw centered vertical line to link estimators */\n",
              "  background-image: linear-gradient(var(--sklearn-color-text-on-default-background), var(--sklearn-color-text-on-default-background));\n",
              "  background-size: 2px 100%;\n",
              "  background-repeat: no-repeat;\n",
              "  background-position: center center;\n",
              "}\n",
              "\n",
              "/* Parallel-specific style estimator block */\n",
              "\n",
              "#sk-container-id-92 div.sk-parallel-item::after {\n",
              "  content: \"\";\n",
              "  width: 100%;\n",
              "  border-bottom: 2px solid var(--sklearn-color-text-on-default-background);\n",
              "  flex-grow: 1;\n",
              "}\n",
              "\n",
              "#sk-container-id-92 div.sk-parallel {\n",
              "  display: flex;\n",
              "  align-items: stretch;\n",
              "  justify-content: center;\n",
              "  background-color: var(--sklearn-color-background);\n",
              "  position: relative;\n",
              "}\n",
              "\n",
              "#sk-container-id-92 div.sk-parallel-item {\n",
              "  display: flex;\n",
              "  flex-direction: column;\n",
              "}\n",
              "\n",
              "#sk-container-id-92 div.sk-parallel-item:first-child::after {\n",
              "  align-self: flex-end;\n",
              "  width: 50%;\n",
              "}\n",
              "\n",
              "#sk-container-id-92 div.sk-parallel-item:last-child::after {\n",
              "  align-self: flex-start;\n",
              "  width: 50%;\n",
              "}\n",
              "\n",
              "#sk-container-id-92 div.sk-parallel-item:only-child::after {\n",
              "  width: 0;\n",
              "}\n",
              "\n",
              "/* Serial-specific style estimator block */\n",
              "\n",
              "#sk-container-id-92 div.sk-serial {\n",
              "  display: flex;\n",
              "  flex-direction: column;\n",
              "  align-items: center;\n",
              "  background-color: var(--sklearn-color-background);\n",
              "  padding-right: 1em;\n",
              "  padding-left: 1em;\n",
              "}\n",
              "\n",
              "\n",
              "/* Toggleable style: style used for estimator/Pipeline/ColumnTransformer box that is\n",
              "clickable and can be expanded/collapsed.\n",
              "- Pipeline and ColumnTransformer use this feature and define the default style\n",
              "- Estimators will overwrite some part of the style using the `sk-estimator` class\n",
              "*/\n",
              "\n",
              "/* Pipeline and ColumnTransformer style (default) */\n",
              "\n",
              "#sk-container-id-92 div.sk-toggleable {\n",
              "  /* Default theme specific background. It is overwritten whether we have a\n",
              "  specific estimator or a Pipeline/ColumnTransformer */\n",
              "  background-color: var(--sklearn-color-background);\n",
              "}\n",
              "\n",
              "/* Toggleable label */\n",
              "#sk-container-id-92 label.sk-toggleable__label {\n",
              "  cursor: pointer;\n",
              "  display: block;\n",
              "  width: 100%;\n",
              "  margin-bottom: 0;\n",
              "  padding: 0.5em;\n",
              "  box-sizing: border-box;\n",
              "  text-align: center;\n",
              "}\n",
              "\n",
              "#sk-container-id-92 label.sk-toggleable__label-arrow:before {\n",
              "  /* Arrow on the left of the label */\n",
              "  content: \"▸\";\n",
              "  float: left;\n",
              "  margin-right: 0.25em;\n",
              "  color: var(--sklearn-color-icon);\n",
              "}\n",
              "\n",
              "#sk-container-id-92 label.sk-toggleable__label-arrow:hover:before {\n",
              "  color: var(--sklearn-color-text);\n",
              "}\n",
              "\n",
              "/* Toggleable content - dropdown */\n",
              "\n",
              "#sk-container-id-92 div.sk-toggleable__content {\n",
              "  max-height: 0;\n",
              "  max-width: 0;\n",
              "  overflow: hidden;\n",
              "  text-align: left;\n",
              "  /* unfitted */\n",
              "  background-color: var(--sklearn-color-unfitted-level-0);\n",
              "}\n",
              "\n",
              "#sk-container-id-92 div.sk-toggleable__content.fitted {\n",
              "  /* fitted */\n",
              "  background-color: var(--sklearn-color-fitted-level-0);\n",
              "}\n",
              "\n",
              "#sk-container-id-92 div.sk-toggleable__content pre {\n",
              "  margin: 0.2em;\n",
              "  border-radius: 0.25em;\n",
              "  color: var(--sklearn-color-text);\n",
              "  /* unfitted */\n",
              "  background-color: var(--sklearn-color-unfitted-level-0);\n",
              "}\n",
              "\n",
              "#sk-container-id-92 div.sk-toggleable__content.fitted pre {\n",
              "  /* unfitted */\n",
              "  background-color: var(--sklearn-color-fitted-level-0);\n",
              "}\n",
              "\n",
              "#sk-container-id-92 input.sk-toggleable__control:checked~div.sk-toggleable__content {\n",
              "  /* Expand drop-down */\n",
              "  max-height: 200px;\n",
              "  max-width: 100%;\n",
              "  overflow: auto;\n",
              "}\n",
              "\n",
              "#sk-container-id-92 input.sk-toggleable__control:checked~label.sk-toggleable__label-arrow:before {\n",
              "  content: \"▾\";\n",
              "}\n",
              "\n",
              "/* Pipeline/ColumnTransformer-specific style */\n",
              "\n",
              "#sk-container-id-92 div.sk-label input.sk-toggleable__control:checked~label.sk-toggleable__label {\n",
              "  color: var(--sklearn-color-text);\n",
              "  background-color: var(--sklearn-color-unfitted-level-2);\n",
              "}\n",
              "\n",
              "#sk-container-id-92 div.sk-label.fitted input.sk-toggleable__control:checked~label.sk-toggleable__label {\n",
              "  background-color: var(--sklearn-color-fitted-level-2);\n",
              "}\n",
              "\n",
              "/* Estimator-specific style */\n",
              "\n",
              "/* Colorize estimator box */\n",
              "#sk-container-id-92 div.sk-estimator input.sk-toggleable__control:checked~label.sk-toggleable__label {\n",
              "  /* unfitted */\n",
              "  background-color: var(--sklearn-color-unfitted-level-2);\n",
              "}\n",
              "\n",
              "#sk-container-id-92 div.sk-estimator.fitted input.sk-toggleable__control:checked~label.sk-toggleable__label {\n",
              "  /* fitted */\n",
              "  background-color: var(--sklearn-color-fitted-level-2);\n",
              "}\n",
              "\n",
              "#sk-container-id-92 div.sk-label label.sk-toggleable__label,\n",
              "#sk-container-id-92 div.sk-label label {\n",
              "  /* The background is the default theme color */\n",
              "  color: var(--sklearn-color-text-on-default-background);\n",
              "}\n",
              "\n",
              "/* On hover, darken the color of the background */\n",
              "#sk-container-id-92 div.sk-label:hover label.sk-toggleable__label {\n",
              "  color: var(--sklearn-color-text);\n",
              "  background-color: var(--sklearn-color-unfitted-level-2);\n",
              "}\n",
              "\n",
              "/* Label box, darken color on hover, fitted */\n",
              "#sk-container-id-92 div.sk-label.fitted:hover label.sk-toggleable__label.fitted {\n",
              "  color: var(--sklearn-color-text);\n",
              "  background-color: var(--sklearn-color-fitted-level-2);\n",
              "}\n",
              "\n",
              "/* Estimator label */\n",
              "\n",
              "#sk-container-id-92 div.sk-label label {\n",
              "  font-family: monospace;\n",
              "  font-weight: bold;\n",
              "  display: inline-block;\n",
              "  line-height: 1.2em;\n",
              "}\n",
              "\n",
              "#sk-container-id-92 div.sk-label-container {\n",
              "  text-align: center;\n",
              "}\n",
              "\n",
              "/* Estimator-specific */\n",
              "#sk-container-id-92 div.sk-estimator {\n",
              "  font-family: monospace;\n",
              "  border: 1px dotted var(--sklearn-color-border-box);\n",
              "  border-radius: 0.25em;\n",
              "  box-sizing: border-box;\n",
              "  margin-bottom: 0.5em;\n",
              "  /* unfitted */\n",
              "  background-color: var(--sklearn-color-unfitted-level-0);\n",
              "}\n",
              "\n",
              "#sk-container-id-92 div.sk-estimator.fitted {\n",
              "  /* fitted */\n",
              "  background-color: var(--sklearn-color-fitted-level-0);\n",
              "}\n",
              "\n",
              "/* on hover */\n",
              "#sk-container-id-92 div.sk-estimator:hover {\n",
              "  /* unfitted */\n",
              "  background-color: var(--sklearn-color-unfitted-level-2);\n",
              "}\n",
              "\n",
              "#sk-container-id-92 div.sk-estimator.fitted:hover {\n",
              "  /* fitted */\n",
              "  background-color: var(--sklearn-color-fitted-level-2);\n",
              "}\n",
              "\n",
              "/* Specification for estimator info (e.g. \"i\" and \"?\") */\n",
              "\n",
              "/* Common style for \"i\" and \"?\" */\n",
              "\n",
              ".sk-estimator-doc-link,\n",
              "a:link.sk-estimator-doc-link,\n",
              "a:visited.sk-estimator-doc-link {\n",
              "  float: right;\n",
              "  font-size: smaller;\n",
              "  line-height: 1em;\n",
              "  font-family: monospace;\n",
              "  background-color: var(--sklearn-color-background);\n",
              "  border-radius: 1em;\n",
              "  height: 1em;\n",
              "  width: 1em;\n",
              "  text-decoration: none !important;\n",
              "  margin-left: 1ex;\n",
              "  /* unfitted */\n",
              "  border: var(--sklearn-color-unfitted-level-1) 1pt solid;\n",
              "  color: var(--sklearn-color-unfitted-level-1);\n",
              "}\n",
              "\n",
              ".sk-estimator-doc-link.fitted,\n",
              "a:link.sk-estimator-doc-link.fitted,\n",
              "a:visited.sk-estimator-doc-link.fitted {\n",
              "  /* fitted */\n",
              "  border: var(--sklearn-color-fitted-level-1) 1pt solid;\n",
              "  color: var(--sklearn-color-fitted-level-1);\n",
              "}\n",
              "\n",
              "/* On hover */\n",
              "div.sk-estimator:hover .sk-estimator-doc-link:hover,\n",
              ".sk-estimator-doc-link:hover,\n",
              "div.sk-label-container:hover .sk-estimator-doc-link:hover,\n",
              ".sk-estimator-doc-link:hover {\n",
              "  /* unfitted */\n",
              "  background-color: var(--sklearn-color-unfitted-level-3);\n",
              "  color: var(--sklearn-color-background);\n",
              "  text-decoration: none;\n",
              "}\n",
              "\n",
              "div.sk-estimator.fitted:hover .sk-estimator-doc-link.fitted:hover,\n",
              ".sk-estimator-doc-link.fitted:hover,\n",
              "div.sk-label-container:hover .sk-estimator-doc-link.fitted:hover,\n",
              ".sk-estimator-doc-link.fitted:hover {\n",
              "  /* fitted */\n",
              "  background-color: var(--sklearn-color-fitted-level-3);\n",
              "  color: var(--sklearn-color-background);\n",
              "  text-decoration: none;\n",
              "}\n",
              "\n",
              "/* Span, style for the box shown on hovering the info icon */\n",
              ".sk-estimator-doc-link span {\n",
              "  display: none;\n",
              "  z-index: 9999;\n",
              "  position: relative;\n",
              "  font-weight: normal;\n",
              "  right: .2ex;\n",
              "  padding: .5ex;\n",
              "  margin: .5ex;\n",
              "  width: min-content;\n",
              "  min-width: 20ex;\n",
              "  max-width: 50ex;\n",
              "  color: var(--sklearn-color-text);\n",
              "  box-shadow: 2pt 2pt 4pt #999;\n",
              "  /* unfitted */\n",
              "  background: var(--sklearn-color-unfitted-level-0);\n",
              "  border: .5pt solid var(--sklearn-color-unfitted-level-3);\n",
              "}\n",
              "\n",
              ".sk-estimator-doc-link.fitted span {\n",
              "  /* fitted */\n",
              "  background: var(--sklearn-color-fitted-level-0);\n",
              "  border: var(--sklearn-color-fitted-level-3);\n",
              "}\n",
              "\n",
              ".sk-estimator-doc-link:hover span {\n",
              "  display: block;\n",
              "}\n",
              "\n",
              "/* \"?\"-specific style due to the `<a>` HTML tag */\n",
              "\n",
              "#sk-container-id-92 a.estimator_doc_link {\n",
              "  float: right;\n",
              "  font-size: 1rem;\n",
              "  line-height: 1em;\n",
              "  font-family: monospace;\n",
              "  background-color: var(--sklearn-color-background);\n",
              "  border-radius: 1rem;\n",
              "  height: 1rem;\n",
              "  width: 1rem;\n",
              "  text-decoration: none;\n",
              "  /* unfitted */\n",
              "  color: var(--sklearn-color-unfitted-level-1);\n",
              "  border: var(--sklearn-color-unfitted-level-1) 1pt solid;\n",
              "}\n",
              "\n",
              "#sk-container-id-92 a.estimator_doc_link.fitted {\n",
              "  /* fitted */\n",
              "  border: var(--sklearn-color-fitted-level-1) 1pt solid;\n",
              "  color: var(--sklearn-color-fitted-level-1);\n",
              "}\n",
              "\n",
              "/* On hover */\n",
              "#sk-container-id-92 a.estimator_doc_link:hover {\n",
              "  /* unfitted */\n",
              "  background-color: var(--sklearn-color-unfitted-level-3);\n",
              "  color: var(--sklearn-color-background);\n",
              "  text-decoration: none;\n",
              "}\n",
              "\n",
              "#sk-container-id-92 a.estimator_doc_link.fitted:hover {\n",
              "  /* fitted */\n",
              "  background-color: var(--sklearn-color-fitted-level-3);\n",
              "}\n",
              "</style><div id=\"sk-container-id-92\" class=\"sk-top-container\"><div class=\"sk-text-repr-fallback\"><pre>XGBClassifier(base_score=None, booster=None, callbacks=None,\n",
              "              colsample_bylevel=None, colsample_bynode=None,\n",
              "              colsample_bytree=0.964818140502706, device=None,\n",
              "              early_stopping_rounds=None, enable_categorical=False,\n",
              "              eval_metric=None, feature_types=None, gamma=0.000738412674609453,\n",
              "              grow_policy=None, importance_type=None,\n",
              "              interaction_constraints=None, learning_rate=0.013414509436043323,\n",
              "              max_bin=None, max_cat_threshold=None, max_cat_to_onehot=None,\n",
              "              max_delta_step=None, max_depth=2, max_leaves=None,\n",
              "              min_child_weight=None, missing=nan, monotone_constraints=None,\n",
              "              multi_strategy=None, n_estimators=347, n_jobs=None,\n",
              "              num_parallel_tree=None, random_state=42, ...)</pre><b>In a Jupyter environment, please rerun this cell to show the HTML representation or trust the notebook. <br />On GitHub, the HTML representation is unable to render, please try loading this page with nbviewer.org.</b></div><div class=\"sk-container\" hidden><div class=\"sk-item\"><div class=\"sk-estimator fitted sk-toggleable\"><input class=\"sk-toggleable__control sk-hidden--visually\" id=\"sk-estimator-id-92\" type=\"checkbox\" checked><label for=\"sk-estimator-id-92\" class=\"sk-toggleable__label fitted sk-toggleable__label-arrow fitted\">&nbsp;XGBClassifier<span class=\"sk-estimator-doc-link fitted\">i<span>Fitted</span></span></label><div class=\"sk-toggleable__content fitted\"><pre>XGBClassifier(base_score=None, booster=None, callbacks=None,\n",
              "              colsample_bylevel=None, colsample_bynode=None,\n",
              "              colsample_bytree=0.964818140502706, device=None,\n",
              "              early_stopping_rounds=None, enable_categorical=False,\n",
              "              eval_metric=None, feature_types=None, gamma=0.000738412674609453,\n",
              "              grow_policy=None, importance_type=None,\n",
              "              interaction_constraints=None, learning_rate=0.013414509436043323,\n",
              "              max_bin=None, max_cat_threshold=None, max_cat_to_onehot=None,\n",
              "              max_delta_step=None, max_depth=2, max_leaves=None,\n",
              "              min_child_weight=None, missing=nan, monotone_constraints=None,\n",
              "              multi_strategy=None, n_estimators=347, n_jobs=None,\n",
              "              num_parallel_tree=None, random_state=42, ...)</pre></div> </div></div></div></div>"
            ],
            "text/plain": [
              "XGBClassifier(base_score=None, booster=None, callbacks=None,\n",
              "              colsample_bylevel=None, colsample_bynode=None,\n",
              "              colsample_bytree=0.964818140502706, device=None,\n",
              "              early_stopping_rounds=None, enable_categorical=False,\n",
              "              eval_metric=None, feature_types=None, gamma=0.000738412674609453,\n",
              "              grow_policy=None, importance_type=None,\n",
              "              interaction_constraints=None, learning_rate=0.013414509436043323,\n",
              "              max_bin=None, max_cat_threshold=None, max_cat_to_onehot=None,\n",
              "              max_delta_step=None, max_depth=2, max_leaves=None,\n",
              "              min_child_weight=None, missing=nan, monotone_constraints=None,\n",
              "              multi_strategy=None, n_estimators=347, n_jobs=None,\n",
              "              num_parallel_tree=None, random_state=42, ...)"
            ]
          },
          "execution_count": 1213,
          "metadata": {},
          "output_type": "execute_result"
        }
      ],
      "source": [
        "model.fit(X,y)"
      ]
    },
    {
      "cell_type": "markdown",
      "source": [
        "### Hyperparameter Tuning of Light GBM Model"
      ],
      "metadata": {
        "id": "WHODJroxhatG"
      }
    },
    {
      "cell_type": "code",
      "execution_count": null,
      "metadata": {
        "scrolled": true,
        "id": "_jld321eBvcl"
      },
      "outputs": [],
      "source": [
        "import optuna\n",
        "from sklearn.model_selection import StratifiedKFold\n",
        "from sklearn.ensemble import GradientBoostingClassifier\n",
        "from sklearn.metrics import accuracy_score\n",
        "def objective(trial):\n",
        "    lightgbm_params = {\n",
        "        'num_leaves': trial.suggest_int('num_leaves', 31, 500),\n",
        "        'max_depth': trial.suggest_int('max_depth', 2, 10),\n",
        "        'learning_rate': trial.suggest_loguniform('learning_rate', 0.01, 0.2),\n",
        "        'n_estimators': trial.suggest_int('n_estimators', 30, 1000),\n",
        "        'min_child_weight': trial.suggest_loguniform('min_child_weight', 0.01, 5),\n",
        "        'subsample': trial.suggest_uniform('subsample', 0.5, 1.0),\n",
        "        'colsample_bytree': trial.suggest_uniform('colsample_bytree', 0.5, 1.0),\n",
        "        'verbosity': -1\n",
        "    }\n",
        "    LGB = lgb.LGBMClassifier(**lightgbm_params, random_state = 42)\n",
        "\n",
        "        # Train the model\n",
        "    LGB.fit(X, y)\n",
        "\n",
        "        # Predict on the test set\n",
        "    score = LGB.score(X_test_2,y_test_2)\n",
        "\n",
        "    # Return the average accuracy over the folds\n",
        "    return score\n",
        "\n",
        "# Create the study and optimize the objective function\n",
        "study = optuna.create_study(direction='maximize')\n",
        "study.optimize(objective, n_trials=1000)\n",
        "# Best trial\n",
        "best_trial_LGB = study.best_trial\n",
        "print(\"Best trial: \", best_trial_LGB.values)\n",
        "print(\"Best parameters: \", best_trial_LGB.params)"
      ]
    },
    {
      "cell_type": "markdown",
      "source": [
        "##### K-Fold Cross Validating the model"
      ],
      "metadata": {
        "id": "3_ePYkZHhfyO"
      }
    },
    {
      "cell_type": "code",
      "execution_count": null,
      "metadata": {
        "id": "4ovf5BL_Bvcl",
        "outputId": "84ea3235-86b8-4c7e-c788-9819c2cc8ddc"
      },
      "outputs": [
        {
          "name": "stdout",
          "output_type": "stream",
          "text": [
            "0.5684210526315789\n",
            "0.5368421052631579\n",
            "0.5263157894736842\n",
            "0.631578947368421\n",
            "0.5157894736842106\n",
            "0.4842105263157895\n",
            "0.5473684210526316\n",
            "0.5368421052631579\n",
            "0.5\n",
            "0.5851063829787234\n",
            "Mean Accuracy: 0.5432474804031355\n"
          ]
        }
      ],
      "source": [
        "skf = StratifiedKFold(n_splits=10, shuffle=True, random_state=42)\n",
        "accuracies = []\n",
        "for train_index, test_index in skf.split(X, y):\n",
        "    X_train, X_valid = X.iloc[train_index], X.iloc[test_index]\n",
        "    y_train, y_valid = y.iloc[train_index], y.iloc[test_index]\n",
        "\n",
        "    LGB = lgb.LGBMClassifier(**lgb_params, random_state=42, verbosity = -1)\n",
        "    LGB.fit(X_train, y_train)\n",
        "\n",
        "    preds = LGB.predict(X_valid)\n",
        "    accuracy = accuracy_score(y_valid, preds)\n",
        "    print(accuracy)\n",
        "    accuracies.append(accuracy)\n",
        "\n",
        "print(f\"Mean Accuracy: {np.mean(accuracies)}\")"
      ]
    },
    {
      "cell_type": "code",
      "execution_count": null,
      "metadata": {
        "id": "HGMU0KAaBvcl"
      },
      "outputs": [],
      "source": [
        "LGB = lgb.LGBMClassifier(**lgb_params, random_state=42, verbosity = -1)"
      ]
    },
    {
      "cell_type": "code",
      "execution_count": null,
      "metadata": {
        "scrolled": true,
        "id": "MFdef9EABvcl",
        "outputId": "deff4132-b83a-403b-beeb-d168aee58eb1"
      },
      "outputs": [
        {
          "data": {
            "text/html": [
              "<style>#sk-container-id-84 {\n",
              "  /* Definition of color scheme common for light and dark mode */\n",
              "  --sklearn-color-text: black;\n",
              "  --sklearn-color-line: gray;\n",
              "  /* Definition of color scheme for unfitted estimators */\n",
              "  --sklearn-color-unfitted-level-0: #fff5e6;\n",
              "  --sklearn-color-unfitted-level-1: #f6e4d2;\n",
              "  --sklearn-color-unfitted-level-2: #ffe0b3;\n",
              "  --sklearn-color-unfitted-level-3: chocolate;\n",
              "  /* Definition of color scheme for fitted estimators */\n",
              "  --sklearn-color-fitted-level-0: #f0f8ff;\n",
              "  --sklearn-color-fitted-level-1: #d4ebff;\n",
              "  --sklearn-color-fitted-level-2: #b3dbfd;\n",
              "  --sklearn-color-fitted-level-3: cornflowerblue;\n",
              "\n",
              "  /* Specific color for light theme */\n",
              "  --sklearn-color-text-on-default-background: var(--sg-text-color, var(--theme-code-foreground, var(--jp-content-font-color1, black)));\n",
              "  --sklearn-color-background: var(--sg-background-color, var(--theme-background, var(--jp-layout-color0, white)));\n",
              "  --sklearn-color-border-box: var(--sg-text-color, var(--theme-code-foreground, var(--jp-content-font-color1, black)));\n",
              "  --sklearn-color-icon: #696969;\n",
              "\n",
              "  @media (prefers-color-scheme: dark) {\n",
              "    /* Redefinition of color scheme for dark theme */\n",
              "    --sklearn-color-text-on-default-background: var(--sg-text-color, var(--theme-code-foreground, var(--jp-content-font-color1, white)));\n",
              "    --sklearn-color-background: var(--sg-background-color, var(--theme-background, var(--jp-layout-color0, #111)));\n",
              "    --sklearn-color-border-box: var(--sg-text-color, var(--theme-code-foreground, var(--jp-content-font-color1, white)));\n",
              "    --sklearn-color-icon: #878787;\n",
              "  }\n",
              "}\n",
              "\n",
              "#sk-container-id-84 {\n",
              "  color: var(--sklearn-color-text);\n",
              "}\n",
              "\n",
              "#sk-container-id-84 pre {\n",
              "  padding: 0;\n",
              "}\n",
              "\n",
              "#sk-container-id-84 input.sk-hidden--visually {\n",
              "  border: 0;\n",
              "  clip: rect(1px 1px 1px 1px);\n",
              "  clip: rect(1px, 1px, 1px, 1px);\n",
              "  height: 1px;\n",
              "  margin: -1px;\n",
              "  overflow: hidden;\n",
              "  padding: 0;\n",
              "  position: absolute;\n",
              "  width: 1px;\n",
              "}\n",
              "\n",
              "#sk-container-id-84 div.sk-dashed-wrapped {\n",
              "  border: 1px dashed var(--sklearn-color-line);\n",
              "  margin: 0 0.4em 0.5em 0.4em;\n",
              "  box-sizing: border-box;\n",
              "  padding-bottom: 0.4em;\n",
              "  background-color: var(--sklearn-color-background);\n",
              "}\n",
              "\n",
              "#sk-container-id-84 div.sk-container {\n",
              "  /* jupyter's `normalize.less` sets `[hidden] { display: none; }`\n",
              "     but bootstrap.min.css set `[hidden] { display: none !important; }`\n",
              "     so we also need the `!important` here to be able to override the\n",
              "     default hidden behavior on the sphinx rendered scikit-learn.org.\n",
              "     See: https://github.com/scikit-learn/scikit-learn/issues/21755 */\n",
              "  display: inline-block !important;\n",
              "  position: relative;\n",
              "}\n",
              "\n",
              "#sk-container-id-84 div.sk-text-repr-fallback {\n",
              "  display: none;\n",
              "}\n",
              "\n",
              "div.sk-parallel-item,\n",
              "div.sk-serial,\n",
              "div.sk-item {\n",
              "  /* draw centered vertical line to link estimators */\n",
              "  background-image: linear-gradient(var(--sklearn-color-text-on-default-background), var(--sklearn-color-text-on-default-background));\n",
              "  background-size: 2px 100%;\n",
              "  background-repeat: no-repeat;\n",
              "  background-position: center center;\n",
              "}\n",
              "\n",
              "/* Parallel-specific style estimator block */\n",
              "\n",
              "#sk-container-id-84 div.sk-parallel-item::after {\n",
              "  content: \"\";\n",
              "  width: 100%;\n",
              "  border-bottom: 2px solid var(--sklearn-color-text-on-default-background);\n",
              "  flex-grow: 1;\n",
              "}\n",
              "\n",
              "#sk-container-id-84 div.sk-parallel {\n",
              "  display: flex;\n",
              "  align-items: stretch;\n",
              "  justify-content: center;\n",
              "  background-color: var(--sklearn-color-background);\n",
              "  position: relative;\n",
              "}\n",
              "\n",
              "#sk-container-id-84 div.sk-parallel-item {\n",
              "  display: flex;\n",
              "  flex-direction: column;\n",
              "}\n",
              "\n",
              "#sk-container-id-84 div.sk-parallel-item:first-child::after {\n",
              "  align-self: flex-end;\n",
              "  width: 50%;\n",
              "}\n",
              "\n",
              "#sk-container-id-84 div.sk-parallel-item:last-child::after {\n",
              "  align-self: flex-start;\n",
              "  width: 50%;\n",
              "}\n",
              "\n",
              "#sk-container-id-84 div.sk-parallel-item:only-child::after {\n",
              "  width: 0;\n",
              "}\n",
              "\n",
              "/* Serial-specific style estimator block */\n",
              "\n",
              "#sk-container-id-84 div.sk-serial {\n",
              "  display: flex;\n",
              "  flex-direction: column;\n",
              "  align-items: center;\n",
              "  background-color: var(--sklearn-color-background);\n",
              "  padding-right: 1em;\n",
              "  padding-left: 1em;\n",
              "}\n",
              "\n",
              "\n",
              "/* Toggleable style: style used for estimator/Pipeline/ColumnTransformer box that is\n",
              "clickable and can be expanded/collapsed.\n",
              "- Pipeline and ColumnTransformer use this feature and define the default style\n",
              "- Estimators will overwrite some part of the style using the `sk-estimator` class\n",
              "*/\n",
              "\n",
              "/* Pipeline and ColumnTransformer style (default) */\n",
              "\n",
              "#sk-container-id-84 div.sk-toggleable {\n",
              "  /* Default theme specific background. It is overwritten whether we have a\n",
              "  specific estimator or a Pipeline/ColumnTransformer */\n",
              "  background-color: var(--sklearn-color-background);\n",
              "}\n",
              "\n",
              "/* Toggleable label */\n",
              "#sk-container-id-84 label.sk-toggleable__label {\n",
              "  cursor: pointer;\n",
              "  display: block;\n",
              "  width: 100%;\n",
              "  margin-bottom: 0;\n",
              "  padding: 0.5em;\n",
              "  box-sizing: border-box;\n",
              "  text-align: center;\n",
              "}\n",
              "\n",
              "#sk-container-id-84 label.sk-toggleable__label-arrow:before {\n",
              "  /* Arrow on the left of the label */\n",
              "  content: \"▸\";\n",
              "  float: left;\n",
              "  margin-right: 0.25em;\n",
              "  color: var(--sklearn-color-icon);\n",
              "}\n",
              "\n",
              "#sk-container-id-84 label.sk-toggleable__label-arrow:hover:before {\n",
              "  color: var(--sklearn-color-text);\n",
              "}\n",
              "\n",
              "/* Toggleable content - dropdown */\n",
              "\n",
              "#sk-container-id-84 div.sk-toggleable__content {\n",
              "  max-height: 0;\n",
              "  max-width: 0;\n",
              "  overflow: hidden;\n",
              "  text-align: left;\n",
              "  /* unfitted */\n",
              "  background-color: var(--sklearn-color-unfitted-level-0);\n",
              "}\n",
              "\n",
              "#sk-container-id-84 div.sk-toggleable__content.fitted {\n",
              "  /* fitted */\n",
              "  background-color: var(--sklearn-color-fitted-level-0);\n",
              "}\n",
              "\n",
              "#sk-container-id-84 div.sk-toggleable__content pre {\n",
              "  margin: 0.2em;\n",
              "  border-radius: 0.25em;\n",
              "  color: var(--sklearn-color-text);\n",
              "  /* unfitted */\n",
              "  background-color: var(--sklearn-color-unfitted-level-0);\n",
              "}\n",
              "\n",
              "#sk-container-id-84 div.sk-toggleable__content.fitted pre {\n",
              "  /* unfitted */\n",
              "  background-color: var(--sklearn-color-fitted-level-0);\n",
              "}\n",
              "\n",
              "#sk-container-id-84 input.sk-toggleable__control:checked~div.sk-toggleable__content {\n",
              "  /* Expand drop-down */\n",
              "  max-height: 200px;\n",
              "  max-width: 100%;\n",
              "  overflow: auto;\n",
              "}\n",
              "\n",
              "#sk-container-id-84 input.sk-toggleable__control:checked~label.sk-toggleable__label-arrow:before {\n",
              "  content: \"▾\";\n",
              "}\n",
              "\n",
              "/* Pipeline/ColumnTransformer-specific style */\n",
              "\n",
              "#sk-container-id-84 div.sk-label input.sk-toggleable__control:checked~label.sk-toggleable__label {\n",
              "  color: var(--sklearn-color-text);\n",
              "  background-color: var(--sklearn-color-unfitted-level-2);\n",
              "}\n",
              "\n",
              "#sk-container-id-84 div.sk-label.fitted input.sk-toggleable__control:checked~label.sk-toggleable__label {\n",
              "  background-color: var(--sklearn-color-fitted-level-2);\n",
              "}\n",
              "\n",
              "/* Estimator-specific style */\n",
              "\n",
              "/* Colorize estimator box */\n",
              "#sk-container-id-84 div.sk-estimator input.sk-toggleable__control:checked~label.sk-toggleable__label {\n",
              "  /* unfitted */\n",
              "  background-color: var(--sklearn-color-unfitted-level-2);\n",
              "}\n",
              "\n",
              "#sk-container-id-84 div.sk-estimator.fitted input.sk-toggleable__control:checked~label.sk-toggleable__label {\n",
              "  /* fitted */\n",
              "  background-color: var(--sklearn-color-fitted-level-2);\n",
              "}\n",
              "\n",
              "#sk-container-id-84 div.sk-label label.sk-toggleable__label,\n",
              "#sk-container-id-84 div.sk-label label {\n",
              "  /* The background is the default theme color */\n",
              "  color: var(--sklearn-color-text-on-default-background);\n",
              "}\n",
              "\n",
              "/* On hover, darken the color of the background */\n",
              "#sk-container-id-84 div.sk-label:hover label.sk-toggleable__label {\n",
              "  color: var(--sklearn-color-text);\n",
              "  background-color: var(--sklearn-color-unfitted-level-2);\n",
              "}\n",
              "\n",
              "/* Label box, darken color on hover, fitted */\n",
              "#sk-container-id-84 div.sk-label.fitted:hover label.sk-toggleable__label.fitted {\n",
              "  color: var(--sklearn-color-text);\n",
              "  background-color: var(--sklearn-color-fitted-level-2);\n",
              "}\n",
              "\n",
              "/* Estimator label */\n",
              "\n",
              "#sk-container-id-84 div.sk-label label {\n",
              "  font-family: monospace;\n",
              "  font-weight: bold;\n",
              "  display: inline-block;\n",
              "  line-height: 1.2em;\n",
              "}\n",
              "\n",
              "#sk-container-id-84 div.sk-label-container {\n",
              "  text-align: center;\n",
              "}\n",
              "\n",
              "/* Estimator-specific */\n",
              "#sk-container-id-84 div.sk-estimator {\n",
              "  font-family: monospace;\n",
              "  border: 1px dotted var(--sklearn-color-border-box);\n",
              "  border-radius: 0.25em;\n",
              "  box-sizing: border-box;\n",
              "  margin-bottom: 0.5em;\n",
              "  /* unfitted */\n",
              "  background-color: var(--sklearn-color-unfitted-level-0);\n",
              "}\n",
              "\n",
              "#sk-container-id-84 div.sk-estimator.fitted {\n",
              "  /* fitted */\n",
              "  background-color: var(--sklearn-color-fitted-level-0);\n",
              "}\n",
              "\n",
              "/* on hover */\n",
              "#sk-container-id-84 div.sk-estimator:hover {\n",
              "  /* unfitted */\n",
              "  background-color: var(--sklearn-color-unfitted-level-2);\n",
              "}\n",
              "\n",
              "#sk-container-id-84 div.sk-estimator.fitted:hover {\n",
              "  /* fitted */\n",
              "  background-color: var(--sklearn-color-fitted-level-2);\n",
              "}\n",
              "\n",
              "/* Specification for estimator info (e.g. \"i\" and \"?\") */\n",
              "\n",
              "/* Common style for \"i\" and \"?\" */\n",
              "\n",
              ".sk-estimator-doc-link,\n",
              "a:link.sk-estimator-doc-link,\n",
              "a:visited.sk-estimator-doc-link {\n",
              "  float: right;\n",
              "  font-size: smaller;\n",
              "  line-height: 1em;\n",
              "  font-family: monospace;\n",
              "  background-color: var(--sklearn-color-background);\n",
              "  border-radius: 1em;\n",
              "  height: 1em;\n",
              "  width: 1em;\n",
              "  text-decoration: none !important;\n",
              "  margin-left: 1ex;\n",
              "  /* unfitted */\n",
              "  border: var(--sklearn-color-unfitted-level-1) 1pt solid;\n",
              "  color: var(--sklearn-color-unfitted-level-1);\n",
              "}\n",
              "\n",
              ".sk-estimator-doc-link.fitted,\n",
              "a:link.sk-estimator-doc-link.fitted,\n",
              "a:visited.sk-estimator-doc-link.fitted {\n",
              "  /* fitted */\n",
              "  border: var(--sklearn-color-fitted-level-1) 1pt solid;\n",
              "  color: var(--sklearn-color-fitted-level-1);\n",
              "}\n",
              "\n",
              "/* On hover */\n",
              "div.sk-estimator:hover .sk-estimator-doc-link:hover,\n",
              ".sk-estimator-doc-link:hover,\n",
              "div.sk-label-container:hover .sk-estimator-doc-link:hover,\n",
              ".sk-estimator-doc-link:hover {\n",
              "  /* unfitted */\n",
              "  background-color: var(--sklearn-color-unfitted-level-3);\n",
              "  color: var(--sklearn-color-background);\n",
              "  text-decoration: none;\n",
              "}\n",
              "\n",
              "div.sk-estimator.fitted:hover .sk-estimator-doc-link.fitted:hover,\n",
              ".sk-estimator-doc-link.fitted:hover,\n",
              "div.sk-label-container:hover .sk-estimator-doc-link.fitted:hover,\n",
              ".sk-estimator-doc-link.fitted:hover {\n",
              "  /* fitted */\n",
              "  background-color: var(--sklearn-color-fitted-level-3);\n",
              "  color: var(--sklearn-color-background);\n",
              "  text-decoration: none;\n",
              "}\n",
              "\n",
              "/* Span, style for the box shown on hovering the info icon */\n",
              ".sk-estimator-doc-link span {\n",
              "  display: none;\n",
              "  z-index: 9999;\n",
              "  position: relative;\n",
              "  font-weight: normal;\n",
              "  right: .2ex;\n",
              "  padding: .5ex;\n",
              "  margin: .5ex;\n",
              "  width: min-content;\n",
              "  min-width: 20ex;\n",
              "  max-width: 50ex;\n",
              "  color: var(--sklearn-color-text);\n",
              "  box-shadow: 2pt 2pt 4pt #999;\n",
              "  /* unfitted */\n",
              "  background: var(--sklearn-color-unfitted-level-0);\n",
              "  border: .5pt solid var(--sklearn-color-unfitted-level-3);\n",
              "}\n",
              "\n",
              ".sk-estimator-doc-link.fitted span {\n",
              "  /* fitted */\n",
              "  background: var(--sklearn-color-fitted-level-0);\n",
              "  border: var(--sklearn-color-fitted-level-3);\n",
              "}\n",
              "\n",
              ".sk-estimator-doc-link:hover span {\n",
              "  display: block;\n",
              "}\n",
              "\n",
              "/* \"?\"-specific style due to the `<a>` HTML tag */\n",
              "\n",
              "#sk-container-id-84 a.estimator_doc_link {\n",
              "  float: right;\n",
              "  font-size: 1rem;\n",
              "  line-height: 1em;\n",
              "  font-family: monospace;\n",
              "  background-color: var(--sklearn-color-background);\n",
              "  border-radius: 1rem;\n",
              "  height: 1rem;\n",
              "  width: 1rem;\n",
              "  text-decoration: none;\n",
              "  /* unfitted */\n",
              "  color: var(--sklearn-color-unfitted-level-1);\n",
              "  border: var(--sklearn-color-unfitted-level-1) 1pt solid;\n",
              "}\n",
              "\n",
              "#sk-container-id-84 a.estimator_doc_link.fitted {\n",
              "  /* fitted */\n",
              "  border: var(--sklearn-color-fitted-level-1) 1pt solid;\n",
              "  color: var(--sklearn-color-fitted-level-1);\n",
              "}\n",
              "\n",
              "/* On hover */\n",
              "#sk-container-id-84 a.estimator_doc_link:hover {\n",
              "  /* unfitted */\n",
              "  background-color: var(--sklearn-color-unfitted-level-3);\n",
              "  color: var(--sklearn-color-background);\n",
              "  text-decoration: none;\n",
              "}\n",
              "\n",
              "#sk-container-id-84 a.estimator_doc_link.fitted:hover {\n",
              "  /* fitted */\n",
              "  background-color: var(--sklearn-color-fitted-level-3);\n",
              "}\n",
              "</style><div id=\"sk-container-id-84\" class=\"sk-top-container\"><div class=\"sk-text-repr-fallback\"><pre>LGBMClassifier(colsample_bytree=0.8356062734201423,\n",
              "               learning_rate=0.010001638160578072, max_depth=5,\n",
              "               min_child_weight=0.3030875656512072, n_estimators=346,\n",
              "               num_leaves=143, random_state=42, subsample=0.9905214678530757,\n",
              "               verbosity=-1)</pre><b>In a Jupyter environment, please rerun this cell to show the HTML representation or trust the notebook. <br />On GitHub, the HTML representation is unable to render, please try loading this page with nbviewer.org.</b></div><div class=\"sk-container\" hidden><div class=\"sk-item\"><div class=\"sk-estimator fitted sk-toggleable\"><input class=\"sk-toggleable__control sk-hidden--visually\" id=\"sk-estimator-id-84\" type=\"checkbox\" checked><label for=\"sk-estimator-id-84\" class=\"sk-toggleable__label fitted sk-toggleable__label-arrow fitted\">&nbsp;LGBMClassifier<span class=\"sk-estimator-doc-link fitted\">i<span>Fitted</span></span></label><div class=\"sk-toggleable__content fitted\"><pre>LGBMClassifier(colsample_bytree=0.8356062734201423,\n",
              "               learning_rate=0.010001638160578072, max_depth=5,\n",
              "               min_child_weight=0.3030875656512072, n_estimators=346,\n",
              "               num_leaves=143, random_state=42, subsample=0.9905214678530757,\n",
              "               verbosity=-1)</pre></div> </div></div></div></div>"
            ],
            "text/plain": [
              "LGBMClassifier(colsample_bytree=0.8356062734201423,\n",
              "               learning_rate=0.010001638160578072, max_depth=5,\n",
              "               min_child_weight=0.3030875656512072, n_estimators=346,\n",
              "               num_leaves=143, random_state=42, subsample=0.9905214678530757,\n",
              "               verbosity=-1)"
            ]
          },
          "execution_count": 999,
          "metadata": {},
          "output_type": "execute_result"
        }
      ],
      "source": [
        "LGB.fit(X,y)"
      ]
    },
    {
      "cell_type": "markdown",
      "source": [
        "### Exploring Various Feature Selection Methods:"
      ],
      "metadata": {
        "id": "BNOPJ0KnOjo0"
      }
    },
    {
      "cell_type": "code",
      "execution_count": null,
      "metadata": {
        "id": "8LY7sbOeBvcn"
      },
      "outputs": [],
      "source": [
        "feature_desc = {\n",
        "    'team_count_50runs_last15': 'Ratio of number of 50s by players in team1 to number of 50s by players in team2 in last 15 games',\n",
        "    'team_winp_last5': 'Ratio of team1\\'s win % to team2\\'s win % in last 5 games',\n",
        "    'team1only_avg_runs_last15': 'Team1\\'s average inning runs in last 15 games',\n",
        "    'team1_winp_team2_last15': 'Team1\\'s win percentage against Team2 in last 15 games',\n",
        "    'ground_avg_runs_last15': 'Average runs scored in the ground in last 15 games',\n",
        "    'winner_01': 'Binary indicator for the winning team (1 if team2 wins, else 0)',\n",
        "    'toss_winner_01': 'Binary indicator for the toss winner (1 if team2 wins, else 0)',\n",
        "    'toss_decision_01': 'Binary indicator for toss decision (1 if winner bats, 0 otherwise)',\n",
        "    'team1_bp': 'Batting performance measure considering match situation and player strike rate over the last 5 matches for team1&#8203;:citation[oaicite:2]{index=2}&#8203;',\n",
        "    'team2_bp': 'Batting performance measure considering match situation and player strike rate over the last 5 matches for team1 &#8203;:citation[oaicite:2]{index=2}&#8203;',\n",
        "    'team1_acbr': 'Adjusted combined bowling rate for team1 over last 5 matches accounting for match situation and wicket weights, with lower values indicating better performance&#8203;:citation[oaicite:0]{index=0}&#8203;',\n",
        "    'team2_acbr': 'Adjusted combined bowling rate for team2 over last 5 matches accounting for match situation and wicket weights, with lower values indicating better performance&#8203;:citation[oaicite:0]{index=0}&#8203;',\n",
        "    'strength_team1': 'Overall strength of team1, combining batting performance (BP) and adjusted combined bowling rate (ACBR)&#8203;:citation[oaicite:2]{index=2}&#8203;',\n",
        "    'strength_team2': 'Overall strength of team2, combining batting performance (BP) and adjusted combined bowling rate (ACBR)&#8203;:citation[oaicite:2]{index=2}&#8203;',\n",
        "    'current_form_team1':'Weighted average of match outcomes using team strength as weights  over the last 5 games of  team1, reflecting recent performance &#8203;:citation[oaicite:1]{index=1}&#8203;',\n",
        "    'current_form_team2':'Weighted average of match outcomes using team strength as weights  over the last 5 games of  team2 , reflecting recent performance &#8203;:citation[oaicite:1]{index=1}&#8203;',\n",
        "    'team1_count_50runs_last15': 'Number of 50s scored by team1 in last 15 games',\n",
        "    'team2_count_50runs_last15': 'Number of 50s scored by team2 in last 15 games',\n",
        "    'team1_winp_last5': 'Team1\\'s win percentage in last 5 games',\n",
        "    'team2_winp_last5': 'Team2\\'s win percentage in last 5 games',\n",
        "    'team2only_avg_runs_last15': 'Team2\\'s average inning runs in last 15 games',\n",
        "    'total_strike_rate_team_1_last10': 'Total strike rate of team1 in last 10 games',\n",
        "    'total_strike_rate_team_2_last10': 'Total strike rate of team2 in last 10 games',\n",
        "    'total_fours_avg_team1_last10': 'Average number of fours hit by team1 in last 10 games',\n",
        "    'total_fours_avg_team2_last10': 'Average number of fours hit by team2 in last 10 games',\n",
        "    'total_sixes_avg_team1_last10': 'Average number of sixes hit by team1 in last 10 games',\n",
        "    'total_sixes_avg_team2_last10': 'Average number of sixes hit by team2 in last 10 games',\n",
        "    'total_avg_wicket_team1_last10': 'Average wickets taken by team1 in last 10 games',\n",
        "    'total_avg_wicket_team2_last10': 'Average wickets taken by team2 in last 10 games',\n",
        "    'total_run_rate_team_1_last10': 'Total run rate of team1 in last 10 games',\n",
        "    'total_run_rate_team_2_last10': 'Total run rate of team2 in last 10 games',\n",
        "    'num_all_rounders_team_1': 'Number of all-rounders in team1',\n",
        "    'num_all_rounders_team_2': 'Number of all-rounders in team2',\n",
        "    'total_bowling_avg_team1_last_10': 'Total bowling average of team1 in last 10 games',\n",
        "    'total_bowling_avg_team2_last_10': 'Total bowling average of team2 in last 10 games',\n",
        "    'total_bowling_SR_team1_last_10': 'Total bowling strike rate of team1 in last 10 games',\n",
        "    'total_bowling_SR_team2_last_10': 'Total bowling strike rate of team2 in last 10 games',\n",
        "    'total_avg_economy_team1_last_10': 'Avg economy rate of team1 in last 10 games',\n",
        "    'total_avg_economy_team2_last_10': 'Avg economy rate of team2 in last 10 games',\n",
        "    'series_type': 'Type of series the match belongs to',\n",
        "    'batStrLastn_team1':  'Created custom weights to calculate average batsmen scores for team 1 over the last 10 matches, based on runs, sixes, fours, strike rate, and ducks',\n",
        "    'batStrLastn_team2':  'Created custom weights to calculate average batsmen scores for team 1 over the last 10 matches, based on runs, sixes, fours, strike rate, and ducks',\n",
        "    'bowlStrLastn_team1': 'Bowling strength of team1 in last 5 games',\n",
        "    'bowlStrLastn_team2': 'Bowling strength of team2 in last 5 games',\n",
        "    'batScores_team1':  'Followed ICC guidelines to calculate average batsmen scores for team 1 over the last 10 matches, based on runs, sixes, fours, strike rate, and ducks.',\n",
        "    'batScores_team2':  'Followed ICC guidelines to calculate average batsmen scores for team 2 over the last 10 matches, based on runs, sixes, fours, strike rate, and ducks.',\n",
        "    'bowling_scores_team1':'Mean of the bowlers\\' performance of team 1 based on based on wickets, maiden overs, runs conceded, economy, and runs per over following ICC guidelines in the last 10 matches',\n",
        "    'bowling_scores_team2':'Mean of the bowlers\\' performance of team 2 based on based on wickets, maiden overs, runs conceded, economy, and runs per over following ICC guidelines in the last 10 matches',\n",
        "    'toss_winner_id': 'Identifier for the toss-winning team',\n",
        "    'wins_when_toss_lost_avg10_team1': 'Average wins for team1 when they lose the toss in last 10 games',\n",
        "    'wins_when_toss_lost_avg10_team2': 'Average wins for team2 when they lose the toss in last 10 games',\n",
        "    'wins_when_toss_won_avg10_team1': 'Average wins for team1 when they win the toss in last 10 games',\n",
        "    'wins_when_toss_won_avg10_team2': 'Average wins for team2 when they win the toss in last 10 games',\n",
        "    'Margin_of_victory_avg_last10_team1': 'Margin of victory (checks difference between the number of runs or the number of wickets between winning & losing team) of team1 in the last 10 games',\n",
        "    'Margin_of_victory_avg_last10_team2': 'Margin of victory (checks difference between the number of runs or the number of wickets between winning & losing team) of team2 in the last 10 games',\n",
        "    'ground_avg_runs_team1last15': 'Average runs scored by team1 at the ground in last 15 games',\n",
        "    'ground_avg_runs_team2last15': 'Average runs scored by team2 at the ground in last 15 games',\n",
        "    'meanBatScoresOnGround_team1': 'Mean batting scores of team1 at the ground  in previous games ',\n",
        "    'meanBatScoresOnGround_team2': 'Mean batting scores of team2 at the ground in previous games',\n",
        "    'avg_strike_rate_on_ground_team1': 'Average strike rate of team1 at the ground in previous games',\n",
        "    'avg_strike_rate_on_ground_team2': 'Average strike rate of team2 at the ground in previous games',\n",
        "    'avg_economy_on_ground_team1': 'Average economy rate of team1 at the ground in previous games',\n",
        "    'avg_economy_on_ground_team2': 'Average economy rate of team2 at the ground in previous games',\n",
        "    'winp_on_ground_team1': 'Win percentage of team1 at the ground in previous games',\n",
        "    'winp_on_ground_team2': 'Win percentage of team2 at the ground in previous games',\n",
        "    'mean_bowlScores_On_Ground_team1': 'Mean bowling scores of team1 at the ground in previous games',\n",
        "    'mean_bowlScores_On_Ground_team2': 'Mean bowling scores of team2 at the ground in previous games.'\n",
        "}"
      ]
    },
    {
      "cell_type": "code",
      "source": [
        "from sklearn.feature_selection import SelectKBest, f_classif, chi2, mutual_info_classif, RFECV\n",
        "\n",
        "model0 = GradientBoostingClassifier()\n",
        "model1 = CatBoostClassifier(verbose=0)\n",
        "model2 = lgb.LGBMClassifier(verbose=-1)\n",
        "model3 = xgb.XGBClassifier()\n",
        "\n",
        "# ANOVA F-value\n",
        "anova_selector = SelectKBest(f_classif, k=8)\n",
        "anova_selector.fit(X, y)\n",
        "anova_selected_features = [X_columns[i] for i in anova_selector.get_support(indices=True)]\n",
        "\n",
        "# Chi-Square\n",
        "chi2_selector = SelectKBest(chi2, k=16)\n",
        "chi2_selector.fit(X, y)\n",
        "chi2_selected_features = [X_columns[i] for i in chi2_selector.get_support(indices=True)]\n",
        "\n",
        "# Mutual Information\n",
        "mi_selector = SelectKBest(mutual_info_classif, k=16)\n",
        "mi_selector.fit(X, y)\n",
        "mi_selected_features = [X_columns[i] for i in mi_selector.get_support(indices=True)]\n",
        "\n",
        "# RFECV\n",
        "rfecv_selector = RFECV(estimator=model1, step=1, cv=StratifiedKFold(5), scoring='accuracy')\n",
        "rfecv_selector.fit(X, y)\n",
        "rfecv_selected_features = [X_columns[i] for i in rfecv_selector.get_support(indices=True)]\n",
        "\n",
        "# Embedded Method (Feature Importance from CatBoost)\n",
        "model1.fit(X, y)\n",
        "importances = model1.feature_importances_\n",
        "indices = importances.argsort()[-16:][::-1]\n",
        "embedded_selected_features = [X_columns[i] for i in indices]\n",
        "\n",
        "# Combine all methods\n",
        "selected_features_methods = {\n",
        "    \"ANOVA\": anova_selected_features,\n",
        "    \"Chi-Square\": chi2_selected_features,\n",
        "    \"Mutual Information\": mi_selected_features,\n",
        "    \"RFECV\": rfecv_selected_features,\n",
        "    \"Embedded\": embedded_selected_features\n",
        "}\n",
        "\n",
        "for method, features in selected_features_methods.items():\n",
        "    print(f\"{method} selected features: {features}\")\n"
      ],
      "metadata": {
        "id": "Sz9roBCHOqh7"
      },
      "execution_count": null,
      "outputs": []
    },
    {
      "cell_type": "markdown",
      "source": [
        "# Table summarizing our experimentation\n",
        "\n",
        "(Scroll Right for all the columns)"
      ],
      "metadata": {
        "id": "DQaaMnvAmYL7"
      }
    },
    {
      "cell_type": "markdown",
      "source": [
        "| Features Selected                                                                                                                                                                                                                                                                                                                                                                                                                                                                                                                                                                                                                                                                                                                                                                                                                                                                                                                                                                                                                                                                                                                                                                                                                                                                                                                                                                                                                                       | Model Selected               | Hyperparameters                                                                                                                                                                                                                                                                        | Max CV Score                                                                                                                                                                                                                                                   | Score on Full Training Set |\n",
        "| ------------------------------------------------------------------------------------------------------------------------------------------------------------------------------------------------------------------------------------------------------------------------------------------------------------------------------------------------------------------------------------------------------------------------------------------------------------------------------------------------------------------------------------------------------------------------------------------------------------------------------------------------------------------------------------------------------------------------------------------------------------------------------------------------------------------------------------------------------------------------------------------------------------------------------------------------------------------------------------------------------------------------------------------------------------------------------------------------------------------------------------------------------------------------------------------------------------------------------------------------------------------------------------------------------------------------------------------------------------------------------------------------------------------------------------------------------- | ---------------------------- | -------------------------------------------------------------------------------------------------------------------------------------------------------------------------------------------------------------------------------------------------------------------------------------- | -------------------------------------------------------------------------------------------------------------------------------------------------------------------------------------------------------------------------------------------------------------- | -------------------------- |\n",
        "| current_form_team1',<br>'current_form_team2', 'batScores_team1',<br>'batScores_team2', 'bowling_scores_team1', 'bowling_scores_team2']                                                                                                                                                                                                                                                                                                                                                                                                                                                                                                                                                                                                                                                                                                                                                                                                                                                                                                                                                                                                                                                                                                                                                                                                                                                                                                                  | Gradient Boosting Classifier | {'n_estimators': 118, 'learning_rate': 0.01088769939677726, 'max_depth': 6,<br>'min_samples_split': 73, 'min_samples_leaf': 49, 'subsample': 0.6290729641656438, 'max_features': 0.7875620619898971}                                                                                   | 0.57                                                                                                                                                                                                                                                           | 0.67                       |\n",
        "| \"current_form_team1',<br>'current_form_team2', 'batScores_team1',<br>'batScores_team2', 'bowling_scores_team1', 'bowling_scores_team2']\"                                                                                                                                                                                                                                                                                                                                                                                                                                                                                                                                                                                                                                                                                                                                                                                                                                                                                                                                                                                                                                                                                                                                                                                                                                                                                                                | XGBOOST                      | {'max_depth': 3,<br>'learning_rate': 0.022190626172899443,<br>'n_estimators': 467,<br>'subsample': 0.5113710351999977,<br>'colsample_bytree': 0.7918243406660262,<br>'gamma': 0.00025408413886170075,<br>'reg_alpha': 2.4117368572982178e-06,<br>'reg_lambda': 0.014749899343479334}   | 0.5694                                                                                                                                                                                                                                                         | 0.76                       |\n",
        "| [['team1_winp_team2_last15',<br>'ground_avg_runs_last15','team_count_50runs_last15', 'team_winp_last5','current_form_team1',<br>'current_form_team2', 'batScores_team1',<br>'batScores_team2', 'bowling_scores_team1', 'bowling_scores_team2']]                                                                                                                                                                                                                                                                                                                                                                                                                                                                                                                                                                                                                                                                                                                                                                                                                                                                                                                                                                                                                                                                                                                                                                                                         | CATBOOST                     | {'iterations': 38, 'depth': 2, 'learning_rate': 0.08959177979631737, 'l2_leaf_reg': 0.3698120095335513, 'bagging_temperature': 0.8444889666117621, 'random_strength': 0.7438592936527025, 'border_count': 178, 'od_type': 'IncToDec', 'od_wait': 22}<br>                               | 0.5463                                                                                                                                                                                                                                                         | 0.5806                     |\n",
        "| [['team1_winp_team2_last15',<br>'ground_avg_runs_last15','team_count_50runs_last15', 'team_winp_last5','current_form_team1',<br>'current_form_team2', 'batScores_team1',<br>'batScores_team2', 'bowling_scores_team1', 'bowling_scores_team2']]                                                                                                                                                                                                                                                                                                                                                                                                                                                                                                                                                                                                                                                                                                                                                                                                                                                                                                                                                                                                                                                                                                                                                                                                         | Gradient Boosting Classifier | {'n_estimators': 24, 'learning_rate': 0.1470085616690154, 'max_depth': 3, 'min_samples_split': 76, 'min_samples_leaf': 12, 'subsample': 0.8017508518929026, 'max_features': 0.6836653007949745}                                                                                        | 0.5548                                                                                                                                                                                                                                                         | 0.65                       |\n",
        "| [['team1_winp_team2_last15',<br>'ground_avg_runs_last15','team_count_50runs_last15', 'team_winp_last5','current_form_team1',<br>'current_form_team2', 'batScores_team1',<br>'batScores_team2', 'bowling_scores_team1', 'bowling_scores_team2']]                                                                                                                                                                                                                                                                                                                                                                                                                                                                                                                                                                                                                                                                                                                                                                                                                                                                                                                                                                                                                                                                                                                                                                                                         | XGBOOST                      | {'max_depth': 2, 'learning_rate': 0.013414509436043323, 'n_estimators': 347, 'subsample': 0.7016693770327093, 'colsample_bytree': 0.964818140502706, 'gamma': 0.000738412674609453, 'reg_alpha': 4.908608416222712e-06, 'reg_lambda': 1.2283786327929913}<br>                          | 0.549                                                                                                                                                                                                                                                          | 0.6271                     |\n",
        "| [['team1_winp_team2_last15',<br>'ground_avg_runs_last15','team_count_50runs_last15', 'team_winp_last5','current_form_team1',<br>'current_form_team2', 'batScores_team1',<br>'batScores_team2', 'bowling_scores_team1', 'bowling_scores_team2']]                                                                                                                                                                                                                                                                                                                                                                                                                                                                                                                                                                                                                                                                                                                                                                                                                                                                                                                                                                                                                                                                                                                                                                                                         | lightGBM                     | {'num_leaves': 98, 'max_depth': 2, 'learning_rate': 0.06956676108940352, 'n_estimators': 105, 'min_child_weight': 0.029531422816284174, 'subsample': 0.5354937713193931, 'colsample_bytree': 0.5000322602303595}<br>                                                                   | 0.5516                                                                                                                                                                                                                                                         | 0.6342                     |\n",
        "| ['team1_count_50runs_last15',<br>'team2_count_50runs_last15', 'team1_winp_last5', 'team2_winp_last5',<br>'team2only_avg_runs_last15', 'total_strike_rate_team_1_last10',<br>'total_strike_rate_team_2_last10','total_avg_economy_team1_last_10', 'total_avg_economy_team2_last_10',<br>'team1only_avg_runs_last15', 'team1_winp_team2_last15',<br>'ground_avg_runs_last15']                                                                                                                                                                                                                                                                                                                                                                                                                                                                                                                                                                                                                                                                                                                                                                                                                                                                                                                                                                                                                                                                             | CATBOOST                     | {'iterations': 141, 'depth': 6, 'learning_rate': 0.011328275163653322, 'l2_leaf_reg': 0.40404863984547756, 'bagging_temperature': 0.3861119365879258, 'random_strength': 0.4596218575839328, 'border_count': 106, 'od_type': 'Iter', 'od_wait': 16}                                    | 0.5769                                                                                                                                                                                                                                                         | 0.8111                     |\n",
        "| ['team1_count_50runs_last15',<br>'team2_count_50runs_last15', 'team1_winp_last5', 'team2_winp_last5',<br>'team2only_avg_runs_last15', 'total_strike_rate_team_1_last10',<br>'total_strike_rate_team_2_last10','total_avg_economy_team1_last_10', 'total_avg_economy_team2_last_10',<br>'team1only_avg_runs_last15', 'team1_winp_team2_last15',<br>'ground_avg_runs_last15']                                                                                                                                                                                                                                                                                                                                                                                                                                                                                                                                                                                                                                                                                                                                                                                                                                                                                                                                                                                                                                                                             | Gradient Boosting Classifier | {'n_estimators': 110, 'learning_rate': 0.017480500327965037, 'max_depth': 4, 'min_samples_split': 17, 'min_samples_leaf': 13, 'subsample': 0.6547327131247929, 'max_features': 0.6369285703564282}                                                                                     | 0.5674                                                                                                                                                                                                                                                         | 0.7805                     |\n",
        "| ['team1_count_50runs_last15',<br>'team2_count_50runs_last15', 'team1_winp_last5', 'team2_winp_last5',<br>'team2only_avg_runs_last15', 'total_strike_rate_team_1_last10',<br>'total_strike_rate_team_2_last10','total_avg_economy_team1_last_10', 'total_avg_economy_team2_last_10',<br>'team1only_avg_runs_last15', 'team1_winp_team2_last15',<br>'ground_avg_runs_last15']                                                                                                                                                                                                                                                                                                                                                                                                                                                                                                                                                                                                                                                                                                                                                                                                                                                                                                                                                                                                                                                                             | XGBOOST                      | {'max_depth': 4,<br>'learning_rate': 0.022302073831134226,<br>'n_estimators': 57,<br>'subsample': 0.8101212013676148,<br>'colsample_bytree': 0.6834600561116686,<br>'gamma': 0.005970643625181246,<br>'reg_alpha': 0.00029705917298457286,<br>'reg_lambda': 0.01076174841069285}       | 0.5854                                                                                                                                                                                                                                                         | 0.7964                     |\n",
        "| ['team1_count_50runs_last15',<br>'team2_count_50runs_last15', 'team1_winp_last5', 'team2_winp_last5',<br>'team2only_avg_runs_last15', 'total_strike_rate_team_1_last10',<br>'total_strike_rate_team_2_last10','total_avg_economy_team1_last_10', 'total_avg_economy_team2_last_10',<br>'team1only_avg_runs_last15', 'team1_winp_team2_last15',<br>'ground_avg_runs_last15']                                                                                                                                                                                                                                                                                                                                                                                                                                                                                                                                                                                                                                                                                                                                                                                                                                                                                                                                                                                                                                                                             | lightGBM                     | {'num_leaves': 130,<br>'max_depth': 9,<br>'learning_rate': 0.018021837539511493,<br>'n_estimators': 58,<br>'min_child_weight': 0.31604281076636703,<br>'subsample': 0.9507984492526929,<br>'colsample_bytree': 0.9720995168325565}                                                     | 0.5737                                                                                                                                                                                                                                                         | 0.8765                     |\n",
        "| ['team1_count_50runs_last15',<br>'team2_count_50runs_last15', 'team1_winp_last5', 'team2_winp_last5',<br>'team2only_avg_runs_last15', 'total_strike_rate_team_1_last10',<br>'total_strike_rate_team_2_last10','total_avg_economy_team1_last_10', 'total_avg_economy_team2_last_10',<br>'team1only_avg_runs_last15', 'team1_winp_team2_last15',<br>'ground_avg_runs_last15','current_form_team1',<br>'current_form_team2']                                                                                                                                                                                                                                                                                                                                                                                                                                                                                                                                                                                                                                                                                                                                                                                                                                                                                                                                                                                                                               | CATBOOST                     | {'iterations': 236, 'depth': 5, 'learning_rate': 0.013398605765741296, 'l2_leaf_reg': 0.10370879073554895, 'bagging_temperature': 0.4413934139959304, 'random_strength': 0.6034045621971232, 'border_count': 107, 'od_type': 'Iter', 'od_wait': 22}                                    | 0.6526315789473685<br>0.5052631578947369<br>0.5789473684210527<br>0.6<br>0.6<br>0.5894736842105263<br>0.631578947368421<br>0.5684210526315789<br>0.48936170212765956<br>0.574468085106383<br>Mean_accuracy :0.5790145576707727<br>                             | 0.8628                     |\n",
        "| ['team1_count_50runs_last15',<br>'team2_count_50runs_last15', 'team1_winp_last5', 'team2_winp_last5',<br>'team2only_avg_runs_last15', 'total_strike_rate_team_1_last10',<br>'total_strike_rate_team_2_last10','total_avg_economy_team1_last_10', 'total_avg_economy_team2_last_10',<br>'team1only_avg_runs_last15', 'team1_winp_team2_last15',<br>'ground_avg_runs_last15','current_form_team1',<br>'current_form_team2']                                                                                                                                                                                                                                                                                                                                                                                                                                                                                                                                                                                                                                                                                                                                                                                                                                                                                                                                                                                                                               | Gradient Boosting Classifier | {'n_estimators': 229,<br>'learning_rate': 0.0193036066172833,<br>'max_depth': 3,<br>'min_samples_split': 77,<br>'min_samples_leaf': 5,<br>'subsample': 0.5691167394593772,<br>'max_features': 0.8636088577796043}                                                                      | 0.4842105263157895<br>0.6<br>0.5052631578947369<br>0.5263157894736842<br>0.6210526315789474<br>0.5157894736842106<br>0.5789473684210527<br>0.6<br>0.574468085106383<br>0.5531914893617021<br>Mean Accuracy: 0.5559238521836506                                 | 0.7637                     |\n",
        "| ['team1_count_50runs_last15',<br>'team2_count_50runs_last15', 'team1_winp_last5', 'team2_winp_last5',<br>'team2only_avg_runs_last15', 'total_strike_rate_team_1_last10',<br>'total_strike_rate_team_2_last10','total_avg_economy_team1_last_10', 'total_avg_economy_team2_last_10',<br>'team1only_avg_runs_last15', 'team1_winp_team2_last15',<br>'ground_avg_runs_last15','current_form_team1',<br>'current_form_team2']                                                                                                                                                                                                                                                                                                                                                                                                                                                                                                                                                                                                                                                                                                                                                                                                                                                                                                                                                                                                                               | XGBOOST                      | {'max_depth': 2,<br>'learning_rate': 0.10776555219559049,<br>'n_estimators': 65,<br>'subsample': 0.5003932824430685,<br>'colsample_bytree': 0.8927632683018213,<br>'gamma': 0.0005663368359376436,<br>'reg_alpha': 3.9464045267085924e-07,<br>'reg_lambda': 0.29802142954924804}       | 0.5894736842105263<br>0.5789473684210527<br>0.5368421052631579<br>0.4842105263157895<br>0.6<br>0.6<br>0.5894736842105263<br>0.631578947368421<br>0.5531914893617021<br>0.5851063829787234<br>Mean Accuracy: 0.5748824188129898                                 | 0.7078                     |\n",
        "| ['team1_count_50runs_last15',<br>'team2_count_50runs_last15', 'team1_winp_last5', 'team2_winp_last5',<br>'team2only_avg_runs_last15', 'total_strike_rate_team_1_last10',<br>'total_strike_rate_team_2_last10','total_avg_economy_team1_last_10', 'total_avg_economy_team2_last_10',<br>'team1only_avg_runs_last15', 'team1_winp_team2_last15',<br>'ground_avg_runs_last15','current_form_team1',<br>'current_form_team2']                                                                                                                                                                                                                                                                                                                                                                                                                                                                                                                                                                                                                                                                                                                                                                                                                                                                                                                                                                                                                               | LightGBM                     | {'num_leaves': 64,<br>'max_depth': 5,<br>'learning_rate': 0.02863616348601301,<br>'n_estimators': 86,<br>'min_child_weight': 0.23215309745155618,<br>'subsample': 0.5054727982559248,<br>'colsample_bytree': 0.9483217428436346}                                                       | 0.6<br>0.5684210526315789<br>0.5052631578947369<br>0.5157894736842106<br>0.5578947368421052<br>0.5789473684210527<br>0.5157894736842106<br>0.6210526315789474<br>0.5638297872340425<br>0.6170212765957447<br>Mean Accuracy: 0.5644008958566629                 | 0.8533                     |\n",
        "| ['team1_count_50runs_last15',<br>'team2_count_50runs_last15', 'team1_winp_last5', 'team2_winp_last5',<br>'team2only_avg_runs_last15', 'total_strike_rate_team_1_last10',<br>'total_strike_rate_team_2_last10','total_avg_economy_team1_last_10', 'total_avg_economy_team2_last_10',<br>'team1only_avg_runs_last15', 'team1_winp_team2_last15',<br>'ground_avg_runs_last15','batScores_team1',<br>'batScores_team2', 'bowling_scores_team1', 'bowling_scores_team2, 'Margin_of_victory_avg_last10_team1','Margin_of_victory_avg_last10_team2']                                                                                                                                                                                                                                                                                                                                                                                                                                                                                                                                                                                                                                                                                                                                                                                                                                                                                                           | CATBOOST                     | {'iterations': 218,<br>'depth': 2,<br>'learning_rate': 0.047742448631327955,<br>'l2_leaf_reg': 0.019592731052610425,<br>'bagging_temperature': 0.9744479821846707,<br>'random_strength': 0.01706806120995335,<br>'border_count': 88,<br>'od_type': 'IncToDec',<br>'od_wait': 5}        | 0.6105263157894737<br>0.5894736842105263<br>0.5578947368421052<br>0.5578947368421052<br>0.6736842105263158<br>0.5789473684210527<br>0.6<br>0.631578947368421<br>0.5<br>0.6170212765957447<br>Mean_accuracy :0.5917021276595744                                 | 0.7531                     |\n",
        "| ['team1_count_50runs_last15',<br>'team2_count_50runs_last15', 'team1_winp_last5', 'team2_winp_last5',<br>'team2only_avg_runs_last15', 'total_strike_rate_team_1_last10',<br>'total_strike_rate_team_2_last10','total_avg_economy_team1_last_10', 'total_avg_economy_team2_last_10',<br>'team1only_avg_runs_last15', 'team1_winp_team2_last15',<br>'ground_avg_runs_last15','batScores_team1',<br>'batScores_team2', 'bowling_scores_team1', 'bowling_scores_team2, Margin_of_victory_avg_last10_team1','Margin_of_victory_avg_last10_team2']                                                                                                                                                                                                                                                                                                                                                                                                                                                                                                                                                                                                                                                                                                                                                                                                                                                                                                            | Gradient Boosting Classifier | {'n_estimators': 327,<br>'learning_rate': 0.016547561335099343,<br>'max_depth': 2,<br>'min_samples_split': 67,<br>'min_samples_leaf': 73,<br>'subsample': 0.8501411187671424,<br>'max_features': 0.6043221696666015}                                                                   | 0.5894736842105263<br>0.6105263157894737<br>0.5894736842105263<br>0.5157894736842106<br>0.6842105263157895<br>0.5578947368421052<br>0.5789473684210527<br>0.5473684210526316<br>0.5319148936170213<br>0.6170212765957447<br>Mean Accuracy: 0.5822620380739082  | 0.6983                     |\n",
        "| ['team1_count_50runs_last15',<br>'team2_count_50runs_last15', 'team1_winp_last5', 'team2_winp_last5',<br>'team2only_avg_runs_last15', 'total_strike_rate_team_1_last10',<br>'total_strike_rate_team_2_last10','total_avg_economy_team1_last_10', 'total_avg_economy_team2_last_10',<br>'team1only_avg_runs_last15', 'team1_winp_team2_last15',<br>'ground_avg_runs_last15','batScores_team1',<br>'batScores_team2', 'bowling_scores_team1', 'bowling_scores_team2',' Margin_of_victory_avg_last10_team1','Margin_of_victory_avg_last10_team2']                                                                                                                                                                                                                                                                                                                                                                                                                                                                                                                                                                                                                                                                                                                                                                                                                                                                                                          | XGBOOST                      | {'max_depth': 2,<br>'learning_rate': 0.04464381106155335,<br>'n_estimators': 348,<br>'subsample': 0.7861400017786948,<br>'colsample_bytree': 0.6299232378833381,<br>'gamma': 0.0013932369188389606,<br>'reg_alpha': 0.0024778298107521047,<br>'reg_lambda': 0.9709137914163241}        | 0.5789473684210527<br>0.6<br>0.5368421052631579<br>0.5684210526315789<br>0.6210526315789474<br>0.5368421052631579<br>0.6<br>0.6105263157894737<br>0.574468085106383<br>0.5531914893617021<br>Mean Accuracy: 0.5780291153415453                                 | 0.809                      |\n",
        "| ['team1_count_50runs_last15',<br>'team2_count_50runs_last15', 'team1_winp_last5', 'team2_winp_last5',<br>'team2only_avg_runs_last15', 'total_strike_rate_team_1_last10',<br>'total_strike_rate_team_2_last10','total_avg_economy_team1_last_10', 'total_avg_economy_team2_last_10',<br>'team1only_avg_runs_last15', 'team1_winp_team2_last15',<br>'ground_avg_runs_last15','batScores_team1',<br>'batScores_team2', 'bowling_scores_team1', 'bowling_scores_team2',' Margin_of_victory_avg_last10_team1','Margin_of_victory_avg_last10_team2']                                                                                                                                                                                                                                                                                                                                                                                                                                                                                                                                                                                                                                                                                                                                                                                                                                                                                                          | LightGBM                     | {'num_leaves': 60,<br>'max_depth': 2,<br>'learning_rate': 0.010611557682801706,<br>'n_estimators': 158,<br>'min_child_weight': 1.3070708407437945,<br>'subsample': 0.9570843295743576,<br>'colsample_bytree': 0.5825967777746597}                                                      | 0.6210526315789474<br>0.6105263157894737<br>0.5368421052631579<br>0.5052631578947369<br>0.6631578947368421<br>0.6<br>0.6<br>0.5894736842105263<br>0.5106382978723404<br>0.5212765957446809<br>Mean Accuracy: 0.5758230683090705                                | 0.6645                     |\n",
        "| ['team1_count_50runs_last15',<br>'team2_count_50runs_last15', 'team1_winp_last5', 'team2_winp_last5',<br>'team2only_avg_runs_last15', 'total_strike_rate_team_1_last10',<br>'total_strike_rate_team_2_last10','total_avg_economy_team1_last_10', 'total_avg_economy_team2_last_10',<br>'team1only_avg_runs_last15', 'team1_winp_team2_last15',<br>'ground_avg_runs_last15','batStrLastn_team1',<br>'batStrLastn_team2', 'bowlStrLastn_team1', 'bowlStrLastn_team2',<br>'Margin_of_victory_avg_last10_team1','Margin_of_victory_avg_last10_team2']                                                                                                                                                                                                                                                                                                                                                                                                                                                                                                                                                                                                                                                                                                                                                                                                                                                                                                       | CATBOOST                     | {'iterations': 380,<br>'depth': 3,<br>'learning_rate': 0.01263523683862344,<br>'l2_leaf_reg': 0.40343313069895204,<br>'bagging_temperature': 0.17058564970768988,<br>'random_strength': 0.502950657782192,<br>'border_count': 19,<br>'od_type': 'Iter',<br>'od_wait': 25}              | 0.6105263157894737<br>0.6<br>0.5368421052631579<br>0.5263157894736842<br>0.6736842105263158<br>0.5789473684210527<br>0.5894736842105263<br>0.5894736842105263<br>0.5531914893617021<br>0.6063829787234043<br>Mean_accuracy :0.5864837625979844                 | 0.7531                     |\n",
        "| ['team1_count_50runs_last15',<br>'team2_count_50runs_last15', 'team1_winp_last5', 'team2_winp_last5',<br>'team2only_avg_runs_last15', 'total_strike_rate_team_1_last10',<br>'total_strike_rate_team_2_last10','total_avg_economy_team1_last_10', 'total_avg_economy_team2_last_10',<br>'team1only_avg_runs_last15', 'team1_winp_team2_last15',<br>'ground_avg_runs_last15','batStrLastn_team1',<br>'batStrLastn_team2', 'bowlStrLastn_team1', 'bowlStrLastn_team2',<br>'Margin_of_victory_avg_last10_team1','Margin_of_victory_avg_last10_team2']                                                                                                                                                                                                                                                                                                                                                                                                                                                                                                                                                                                                                                                                                                                                                                                                                                                                                                       | Gradient Boosting Classifier | {'n_estimators': 297,<br>'learning_rate': 0.014367650216078841,<br>'max_depth': 2,<br>'min_samples_split': 39,<br>'min_samples_leaf': 19,<br>'subsample': 0.9998712024075692,<br>'max_features': 0.9660231417031876}                                                                   | 0.6421052631578947<br>0.5684210526315789<br>0.5578947368421052<br>0.4842105263157895<br>0.6210526315789474<br>0.5578947368421052<br>0.5894736842105263<br>0.5789473684210527<br>0.5531914893617021<br>0.6170212765957447<br>Mean Accuracy: 0.5770212765957446  | 0.713                      |\n",
        "| ['team1_count_50runs_last15',<br>'team2_count_50runs_last15', 'team1_winp_last5', 'team2_winp_last5',<br>'team2only_avg_runs_last15', 'total_strike_rate_team_1_last10',<br>'total_strike_rate_team_2_last10','total_avg_economy_team1_last_10', 'total_avg_economy_team2_last_10',<br>'team1only_avg_runs_last15', 'team1_winp_team2_last15',<br>'ground_avg_runs_last15','batStrLastn_team1',<br>'batStrLastn_team2', 'bowlStrLastn_team1', 'bowlStrLastn_team2',<br>'Margin_of_victory_avg_last10_team1','Margin_of_victory_avg_last10_team2']                                                                                                                                                                                                                                                                                                                                                                                                                                                                                                                                                                                                                                                                                                                                                                                                                                                                                                       | XGBOOST                      | {'max_depth': 5,<br>'learning_rate': 0.03751786871979571,<br>'n_estimators': 109,<br>'subsample': 0.9911004988148061,<br>'colsample_bytree': 0.712218746435513,<br>'gamma': 0.00371272754277988,<br>'reg_alpha': 2.2645526631846706e-08,<br>'reg_lambda': 0.0010334133085819733}       | 0.6<br>0.6842105263157895<br>0.5157894736842106<br>0.5263157894736842<br>0.6526315789473685<br>0.5473684210526316<br>0.5368421052631579<br>0.5578947368421052<br>0.5851063829787234<br>0.5851063829787234<br>Mean Accuracy: 0.5791265397536394                 | 0.9746                     |\n",
        "| ['team1_count_50runs_last15',<br>'team2_count_50runs_last15', 'team1_winp_last5', 'team2_winp_last5',<br>'team2only_avg_runs_last15', 'total_strike_rate_team_1_last10',<br>'total_strike_rate_team_2_last10','total_avg_economy_team1_last_10', 'total_avg_economy_team2_last_10',<br>'team1only_avg_runs_last15', 'team1_winp_team2_last15',<br>'ground_avg_runs_last15','batStrLastn_team1',<br>'batStrLastn_team2', 'bowlStrLastn_team1', 'bowlStrLastn_team2',<br>'Margin_of_victory_avg_last10_team1','Margin_of_victory_avg_last10_team2']                                                                                                                                                                                                                                                                                                                                                                                                                                                                                                                                                                                                                                                                                                                                                                                                                                                                                                       | LightGBM                     | {'num_leaves': 50,<br>'max_depth': 5,<br>'learning_rate': 0.010882483764261345,<br>'n_estimators': 46,<br>'min_child_weight': 0.25189562380714164,<br>'subsample': 0.8548811012105544,<br>'colsample_bytree': 0.8015411597434468}                                                      | 0.6736842105263158<br>0.6210526315789474<br>0.6<br>0.4105263157894737<br>0.6105263157894737<br>0.5578947368421052<br>0.5684210526315789<br>0.5578947368421052<br>0.5851063829787234<br>0.6170212765957447<br>Mean Accuracy: 0.5802127659574468                 | 0.7742                     |\n",
        "| ['team1_bp',<br>'team2_bp', 'team1_count_50runs_last15',<br>'team2_count_50runs_last15','batScores_team1',<br>'batScores_team2','Margin_of_victory_avg_last10_team1',<br>'Margin_of_victory_avg_last10_team2']                                                                                                                                                                                                                                                                                                                                                                                                                                                                                                                                                                                                                                                                                                                                                                                                                                                                                                                                                                                                                                                                                                                                                                                                                                          | CATBOOST                     | {'iterations': 269,<br>'depth': 6,<br>'learning_rate': 0.011537628573476452,<br>'l2_leaf_reg': 0.2623690042785055,<br>'bagging_temperature': 0.9050967381093898,<br>'random_strength': 0.0785360945625559,<br>'border_count': 10,<br>'od_type': 'Iter',<br>'od_wait': 15}              | 0.6526315789473685<br>0.6421052631578947<br>0.5684210526315789<br>0.5578947368421052<br>0.6421052631578947<br>0.6210526315789474<br>0.6842105263157895<br>0.6<br>0.5851063829787234<br>0.574468085106383<br>Mean_accuracy :0.6127995520716685                  | 0.8744                     |\n",
        "| ['team1_bp',<br>'team2_bp', 'team1_count_50runs_last15',<br>'team2_count_50runs_last15','batScores_team1',<br>'batScores_team2','Margin_of_victory_avg_last10_team1',<br>'Margin_of_victory_avg_last10_team2']                                                                                                                                                                                                                                                                                                                                                                                                                                                                                                                                                                                                                                                                                                                                                                                                                                                                                                                                                                                                                                                                                                                                                                                                                                          | Gradient Boosting Classifier | {'n_estimators': 148,<br>'learning_rate': 0.02730859871815362,<br>'max_depth': 2,<br>'min_samples_split': 32,<br>'min_samples_leaf': 16,<br>'subsample': 0.841019981287522,<br>'max_features': 0.983144268133517}                                                                      | 0.6<br>0.5157894736842106<br>0.5263157894736842<br>0.5263157894736842<br>0.6631578947368421<br>0.5157894736842106<br>0.6105263157894737<br>0.5684210526315789<br>0.6063829787234043<br>0.6276595744680851<br>Mean Accuracy: 0.5760358342665174                 | 0.6571                     |\n",
        "| ['team1_bp',<br>'team2_bp', 'team1_count_50runs_last15',<br>'team2_count_50runs_last15','batScores_team1',<br>'batScores_team2','Margin_of_victory_avg_last10_team1',<br>'Margin_of_victory_avg_last10_team2']                                                                                                                                                                                                                                                                                                                                                                                                                                                                                                                                                                                                                                                                                                                                                                                                                                                                                                                                                                                                                                                                                                                                                                                                                                          | XGBOOST                      | {'max_depth': 6,<br>'learning_rate': 0.02425042674478628,<br>'n_estimators': 41,<br>'subsample': 0.8819292913825366,<br>'colsample_bytree': 0.8880837990330908,<br>'gamma': 0.0006047078007835886,<br>'reg_alpha': 2.2414727844781963e-06,<br>'reg_lambda': 0.0016622199135050168}     | 0.5894736842105263<br>0.5578947368421052<br>0.6<br>0.5894736842105263<br>0.6210526315789474<br>0.6421052631578947<br>0.6736842105263158<br>0.5157894736842106<br>0.5425531914893617<br>0.5212765957446809<br>Mean Accuracy: 0.5853303471444569                 | 0.6526                     |\n",
        "| ['team1_bp',<br>'team2_bp', 'team1_count_50runs_last15',<br>'team2_count_50runs_last15','batScores_team1',<br>'batScores_team2','Margin_of_victory_avg_last10_team1',<br>'Margin_of_victory_avg_last10_team2']                                                                                                                                                                                                                                                                                                                                                                                                                                                                                                                                                                                                                                                                                                                                                                                                                                                                                                                                                                                                                                                                                                                                                                                                                                          | LightGBM                     | {'num_leaves': 106,<br>'max_depth': 7,<br>'learning_rate': 0.027660244644042344,<br>'n_estimators': 69,<br>'min_child_weight': 0.1524529727593385,<br>'subsample': 0.6748148763278281,<br>'colsample_bytree': 0.5750858946643675}                                                      | 0.5473684210526316<br>0.5473684210526316<br>0.5578947368421052<br>0.5473684210526316<br>0.6<br>0.5684210526315789<br>0.6421052631578947<br>0.5684210526315789<br>0.5531914893617021<br>0.574468085106383<br>Mean Accuracy: 0.5706606942889139                  | 0.8185                     |\n",
        "| ['team1_acbr',<br>'team2_acbr','bowling_scores_team1',<br>'bowling_scores_team2','Margin_of_victory_avg_last10_team1',<br>'Margin_of_victory_avg_last10_team2']                                                                                                                                                                                                                                                                                                                                                                                                                                                                                                                                                                                                                                                                                                                                                                                                                                                                                                                                                                                                                                                                                                                                                                                                                                                                                         | CATBOOST                     | {'iterations': 24,<br>'depth': 5,<br>'learning_rate': 0.015145002098882832,<br>'l2_leaf_reg': 0.5074412407738867,<br>'bagging_temperature': 0.4715091639462857,<br>'random_strength': 0.6985850890525345,<br>'border_count': 59,<br>'od_type': 'IncToDec',<br>'od_wait': 14}           | 0.5894736842105263<br>0.5473684210526316<br>0.5368421052631579<br>0.6105263157894737<br>0.6<br>0.5684210526315789<br>0.5263157894736842<br>0.5473684210526316<br>0.48936170212765956<br>0.6063829787234043<br>Mean_accuracy :0.5622060470324749                | 0.6371                     |\n",
        "| ['team1_acbr',<br>'team2_acbr','bowling_scores_team1',<br>'bowling_scores_team2','Margin_of_victory_avg_last10_team1',<br>'Margin_of_victory_avg_last10_team2']                                                                                                                                                                                                                                                                                                                                                                                                                                                                                                                                                                                                                                                                                                                                                                                                                                                                                                                                                                                                                                                                                                                                                                                                                                                                                         | Gradient Boosting Classifier | {'n_estimators': 113,<br>'learning_rate': 0.011510754172410433,<br>'max_depth': 6,<br>'min_samples_split': 67,<br>'min_samples_leaf': 83,<br>'subsample': 0.5064749631444083,<br>'max_features': 0.967757555947919}<br>Selection deleted<br>                                           | 0.5684210526315789<br>0.5263157894736842<br>0.5894736842105263<br>0.6421052631578947<br>0.6105263157894737<br>0.5789473684210527<br>0.5157894736842106<br>0.43157894736842106<br>0.5106382978723404<br>0.6595744680851063<br>Mean Accuracy: 0.5633370660694288 | 0.6086                     |\n",
        "| ['team1_acbr',<br>'team2_acbr','bowling_scores_team1',<br>'bowling_scores_team2','Margin_of_victory_avg_last10_team1',<br>'Margin_of_victory_avg_last10_team2']                                                                                                                                                                                                                                                                                                                                                                                                                                                                                                                                                                                                                                                                                                                                                                                                                                                                                                                                                                                                                                                                                                                                                                                                                                                                                         | XGBOOST                      | {'max_depth': 3,<br>'learning_rate': 0.056416825773584235,<br>'n_estimators': 193,<br>'subsample': 0.6853860566220248,<br>'colsample_bytree': 0.5342191190924427,<br>'gamma': 0.0781078505159753,<br>'reg_alpha': 5.539948941678334e-05,<br>'reg_lambda': 0.003293717475622626}<br>    | 0.4842105263157895<br>0.6<br>0.49473684210526314<br>0.631578947368421<br>0.631578947368421<br>0.5052631578947369<br>0.49473684210526314<br>0.5578947368421052<br>0.5<br>0.5851063829787234<br>Mean Accuracy: 0.5485106382978723                                | 0.8238                     |\n",
        "| ['team1_acbr',<br>'team2_acbr','bowling_scores_team1',<br>'bowling_scores_team2','Margin_of_victory_avg_last10_team1',<br>'Margin_of_victory_avg_last10_team2']                                                                                                                                                                                                                                                                                                                                                                                                                                                                                                                                                                                                                                                                                                                                                                                                                                                                                                                                                                                                                                                                                                                                                                                                                                                                                         | LightGBM                     | {'num_leaves': 143,<br>'max_depth': 5,<br>'learning_rate': 0.010001638160578072,<br>'n_estimators': 346,<br>'min_child_weight': 0.3030875656512072,<br>'subsample': 0.9905214678530757,<br>'colsample_bytree': 0.8356062734201423}                                                     | 0.5578947368421052<br>0.5473684210526316<br>0.5789473684210527<br>0.631578947368421<br>0.5368421052631579<br>0.4842105263157895<br>0.5684210526315789<br>0.5473684210526316<br>0.5106382978723404<br>0.5851063829787234<br>Mean Accuracy: 0.5548376259798432   | 0.8006                     |\n",
        "| ['batStrLastn_team1',<br>'batStrLastn_team2','bowlStrLastn_team1',<br>'bowlStrLastn_team2','team1_winp_team2_last15',<br>'Margin_of_victory_avg_last10_team1', 'current_form_team1','current_form_team2',<br>'Margin_of_victory_avg_last10_team2']                                                                                                                                                                                                                                                                                                                                                                                                                                                                                                                                                                                                                                                                                                                                                                                                                                                                                                                                                                                                                                                                                                                                                                                                      | CATBOOST                     | {'iterations': 10,<br>'depth': 2,<br>'learning_rate': 0.01848623669208408,<br>'l2_leaf_reg': 0.017988409908596244,<br>'bagging_temperature': 0.20967122365125102,<br>'random_strength': 0.8650738511101035,<br>'border_count': 25,<br>'od_type': 'IncToDec',<br>'od_wait': 19}         | 0.6736842105263158<br>0.5578947368421052<br>0.6<br>0.4631578947368421<br>0.5789473684210527<br>0.5052631578947369<br>0.5894736842105263<br>0.6105263157894737<br>0.5212765957446809<br>0.5425531914893617<br>Mean_accuracy :0.5642777155655095                 | 0.5738                     |\n",
        "| ['batStrLastn_team1',<br>'batStrLastn_team2','bowlStrLastn_team1',<br>'bowlStrLastn_team2','team1_winp_team2_last15',<br>'Margin_of_victory_avg_last10_team1', 'current_form_team1','current_form_team2',<br>'Margin_of_victory_avg_last10_team2']                                                                                                                                                                                                                                                                                                                                                                                                                                                                                                                                                                                                                                                                                                                                                                                                                                                                                                                                                                                                                                                                                                                                                                                                      | Gradient Boosting Classifier | {'n_estimators': 94,<br>'learning_rate': 0.011892386246013546,<br>'max_depth': 3,<br>'min_samples_split': 15,<br>'min_samples_leaf': 36,<br>'subsample': 0.7223969685947926,<br>'max_features': 0.9015159921167769}<br>                                                                | 0.631578947368421<br>0.5684210526315789<br>0.5894736842105263<br>0.5052631578947369<br>0.6105263157894737<br>0.5894736842105263<br>0.5473684210526316<br>0.5473684210526316<br>0.5638297872340425<br>0.5106382978723404<br>Mean Accuracy: 0.5663941769316909   | 0.6656                     |\n",
        "| ['batStrLastn_team1',<br>'batStrLastn_team2','bowlStrLastn_team1',<br>'bowlStrLastn_team2','team1_winp_team2_last15',<br>'Margin_of_victory_avg_last10_team1', 'current_form_team1','current_form_team2',<br>'Margin_of_victory_avg_last10_team2']                                                                                                                                                                                                                                                                                                                                                                                                                                                                                                                                                                                                                                                                                                                                                                                                                                                                                                                                                                                                                                                                                                                                                                                                      | XGBOOST                      | {'max_depth': 2,<br>'learning_rate': 0.010002813522745704,<br>'n_estimators': 132,<br>'subsample': 0.5115307381300043,<br>'colsample_bytree': 0.9146007866988358,<br>'gamma': 0.0001723374651084822,<br>'reg_alpha': 0.00102281143442836,<br>'reg_lambda': 0.00311761648703954}        | 0.5894736842105263<br>0.5684210526315789<br>0.6105263157894737<br>0.49473684210526314<br>0.6526315789473685<br>0.5473684210526316<br>0.6<br>0.5368421052631579<br>0.5106382978723404<br>0.5319148936170213<br>Mean Accuracy: 0.5642553191489361                | 0.6508                     |\n",
        "| ['batStrLastn_team1',<br>'batStrLastn_team2','bowlStrLastn_team1',<br>'bowlStrLastn_team2','team1_winp_team2_last15',<br>'Margin_of_victory_avg_last10_team1', 'current_form_team1','current_form_team2',<br>'Margin_of_victory_avg_last10_team2']                                                                                                                                                                                                                                                                                                                                                                                                                                                                                                                                                                                                                                                                                                                                                                                                                                                                                                                                                                                                                                                                                                                                                                                                      | LightGBM                     | {'num_leaves': 256,<br>'max_depth': 2,<br>'learning_rate': 0.014661486242256024,<br>'n_estimators': 466,<br>'min_child_weight': 3.7487499435043143,<br>'subsample': 0.7051644835958302,<br>'colsample_bytree': 0.5218031910932098}                                                     | 0.5894736842105263<br>0.6<br>0.5789473684210527<br>0.5052631578947369<br>0.6<br>0.5578947368421052<br>0.5473684210526316<br>0.5789473684210527<br>0.574468085106383<br>0.5106382978723404<br>Mean Accuracy: 0.5643001119820827                                 | 0.6993                     |\n",
        "| ['team1_bp',<br>'team2_bp','team1_acbr',<br>'team2_acbr',<br>'Margin_of_victory_avg_last10_team1', 'current_form_team1','current_form_team2',<br>'Margin_of_victory_avg_last10_team2']                                                                                                                                                                                                                                                                                                                                                                                                                                                                                                                                                                                                                                                                                                                                                                                                                                                                                                                                                                                                                                                                                                                                                                                                                                                                  | CATBOOST                     | {'iterations': 48,<br>'depth': 2,<br>'learning_rate': 0.016116932452276217,<br>'l2_leaf_reg': 0.8536108680628662,<br>'bagging_temperature': 0.6146937723645557,<br>'random_strength': 0.5440479581479567,<br>'border_count': 168,<br>'od_type': 'IncToDec',<br>'od_wait': 18}          | 0.631578947368421<br>0.49473684210526314<br>0.5684210526315789<br>0.5052631578947369<br>0.631578947368421<br>0.49473684210526314<br>0.6<br>0.6526315789473685<br>0.574468085106383<br>0.5638297872340425<br>Mean_accuracy :0.5717245240761478                  | 0.578                      |\n",
        "| ['team1_bp',<br>'team2_bp','team1_acbr',<br>'team2_acbr',<br>'Margin_of_victory_avg_last10_team1', 'current_form_team1','current_form_team2',<br>'Margin_of_victory_avg_last10_team2']                                                                                                                                                                                                                                                                                                                                                                                                                                                                                                                                                                                                                                                                                                                                                                                                                                                                                                                                                                                                                                                                                                                                                                                                                                                                  | Gradient Boosting Classifier | {'n_estimators': 37,<br>'learning_rate': 0.01073003333462701,<br>'max_depth': 2,<br>'min_samples_split': 52,<br>'min_samples_leaf': 19,<br>'subsample': 0.990773457892913,<br>'max_features': 0.909553850318634}                                                                       | 0.6736842105263158<br>0.5368421052631579<br>0.5578947368421052<br>0.5263157894736842<br>0.6105263157894737<br>0.5052631578947369<br>0.6<br>0.5894736842105263<br>0.574468085106383<br>0.574468085106383<br>Mean Accuracy: 0.5748936170212765                   | 0.5886                     |\n",
        "| ['team1_bp',<br>'team2_bp','team1_acbr',<br>'team2_acbr',<br>'Margin_of_victory_avg_last10_team1', 'current_form_team1','current_form_team2',<br>'Margin_of_victory_avg_last10_team2']                                                                                                                                                                                                                                                                                                                                                                                                                                                                                                                                                                                                                                                                                                                                                                                                                                                                                                                                                                                                                                                                                                                                                                                                                                                                  | XGBOOST                      | {'max_depth': 2,<br>'learning_rate': 0.010817700717149268,<br>'n_estimators': 21,<br>'subsample': 0.5338101642985355,<br>'colsample_bytree': 0.7720929571723418,<br>'gamma': 0.00013263917157462768,<br>'reg_alpha': 1.9167023907273996e-08,<br>'reg_lambda': 0.0015406063874367762}   | 0.6421052631578947<br>0.5684210526315789<br>0.5684210526315789<br>0.47368421052631576<br>0.6421052631578947<br>0.5157894736842106<br>0.5894736842105263<br>0.6421052631578947<br>0.574468085106383<br>0.5319148936170213<br>Mean Accuracy: 0.5748488241881299  | 0.6631                     |\n",
        "| ['team1_bp',<br>'team2_bp','team1_acbr',<br>'team2_acbr',<br>'Margin_of_victory_avg_last10_team1', 'current_form_team1','current_form_team2',<br>'Margin_of_victory_avg_last10_team2']                                                                                                                                                                                                                                                                                                                                                                                                                                                                                                                                                                                                                                                                                                                                                                                                                                                                                                                                                                                                                                                                                                                                                                                                                                                                  | LightGBM                     | {'num_leaves': 72,<br>'max_depth': 3,<br>'learning_rate': 0.017907865127074877,<br>'n_estimators': 43,<br>'min_child_weight': 0.5436243536558142,<br>'subsample': 0.7824883509250852,<br>'colsample_bytree': 0.8804081196747745}                                                       | 0.6736842105263158<br>0.5473684210526316<br>0.5789473684210527<br>0.5157894736842106<br>0.6421052631578947<br>0.5263157894736842<br>0.6105263157894737<br>0.5894736842105263<br>0.5319148936170213<br>0.5425531914893617<br>Mean Accuracy: 0.5758678611422172  | 0.635                      |\n",
        "| ['batScores_team1',<br>'batScores_team2',<br>'Margin_of_victory_avg_last10_team1', 'current_form_team1','current_form_team2',<br>'Margin_of_victory_avg_last10_team2','','team1_count_50runs_last15',<br>'team2_count_50runs_last15','team1_winp_last5','team2_winp_last5']                                                                                                                                                                                                                                                                                                                                                                                                                                                                                                                                                                                                                                                                                                                                                                                                                                                                                                                                                                                                                                                                                                                                                                             | CATBOOST                     | {'iterations': 331,<br>'depth': 5,<br>'learning_rate': 0.015278684429017642,<br>'l2_leaf_reg': 1.4921353153778472,<br>'bagging_temperature': 0.30126898277026604,<br>'random_strength': 0.1234137374661574,<br>'border_count': 86,<br>'od_type': 'IncToDec',<br>'od_wait': 17}         | 0.631578947368421<br>0.6<br>0.6105263157894737<br>0.5263157894736842<br>0.6736842105263158<br>0.6105263157894737<br>0.5789473684210527<br>0.6631578947368421<br>0.5851063829787234<br>0.5106382978723404<br>Mean_accuracy :0.5990481522956326                  | 0.8881                     |\n",
        "| ['batScores_team1',<br>'batScores_team2',<br>'Margin_of_victory_avg_last10_team1', 'current_form_team1','current_form_team2',<br>'Margin_of_victory_avg_last10_team2','','team1_count_50runs_last15',<br>'team2_count_50runs_last15','team1_winp_last5','team2_winp_last5']                                                                                                                                                                                                                                                                                                                                                                                                                                                                                                                                                                                                                                                                                                                                                                                                                                                                                                                                                                                                                                                                                                                                                                             | Gradient Boosting Classifier | {'n_estimators': 292,<br>'learning_rate': 0.015141942363215479,<br>'max_depth': 5,<br>'min_samples_split': 17,<br>'min_samples_leaf': 19,<br>'subsample': 0.9811973358000244,<br>'max_features': 0.9873542991276633}                                                                   | 0.6631578947368421<br>0.5789473684210527<br>0.5578947368421052<br>0.5473684210526316<br>0.6631578947368421<br>0.6<br>0.5894736842105263<br>0.6526315789473685<br>0.6382978723404256<br>0.4787234042553192<br>Mean Accuracy: 0.5969652855543113                 | 0.8723                     |\n",
        "| ['batScores_team1',<br>'batScores_team2',<br>'Margin_of_victory_avg_last10_team1', 'current_form_team1','current_form_team2',<br>'Margin_of_victory_avg_last10_team2','','team1_count_50runs_last15',<br>'team2_count_50runs_last15','team1_winp_last5','team2_winp_last5']                                                                                                                                                                                                                                                                                                                                                                                                                                                                                                                                                                                                                                                                                                                                                                                                                                                                                                                                                                                                                                                                                                                                                                             | XGBOOST                      | {'max_depth': 5,<br>'learning_rate': 0.014105978372981838,<br>'n_estimators': 238,<br>'subsample': 0.9010466788402482,<br>'colsample_bytree': 0.8889138695742023,<br>'gamma': 0.0023167859577284664,<br>'reg_alpha': 1.4271918329527897e-08,<br>'reg_lambda': 0.03779643851271714}<br> | 0.7052631578947368<br>0.6<br>0.5789473684210527<br>0.5157894736842106<br>0.6736842105263158<br>0.6210526315789474<br>0.5894736842105263<br>0.631578947368421<br>0.5957446808510638<br>0.4574468085106383<br>Mean Accuracy: 0.5968980963045912                  | 0.9219                     |\n",
        "| ['batScores_team1',<br>'batScores_team2',<br>'Margin_of_victory_avg_last10_team1', 'current_form_team1','current_form_team2',<br>'Margin_of_victory_avg_last10_team2','','team1_count_50runs_last15',<br>'team2_count_50runs_last15','team1_winp_last5','team2_winp_last5']                                                                                                                                                                                                                                                                                                                                                                                                                                                                                                                                                                                                                                                                                                                                                                                                                                                                                                                                                                                                                                                                                                                                                                             | LightGBM                     | {'num_leaves': 223,<br>'max_depth': 4,<br>'learning_rate': 0.015127195811407878,<br>'n_estimators': 212,<br>'min_child_weight': 0.01783314616168886,<br>'subsample': 0.9486559122007586,<br>'colsample_bytree': 0.964138880924623}                                                     | 0.6947368421052632<br>0.5684210526315789<br>0.5578947368421052<br>0.5368421052631579<br>0.6421052631578947<br>0.5789473684210527<br>0.5473684210526316<br>0.6526315789473685<br>0.6276595744680851<br>0.4787234042553192<br>Mean Accuracy: 0.5885330347144457  | 0.7584                     |\n",
        "| train_0[['batScores_team1',<br>'batScores_team2', 'current_form_team1','current_form_team2','team1_count_50runs_last15',<br>'team2_count_50runs_last15','team1_winp_last5','team2_winp_last5']]<br><br>SERIES_TYPE==0                                                                                                                                                                                                                                                                                                                                                                                                                                                                                                                                                                                                                                                                                                                                                                                                                                                                                                                                                                                                                                                                                                                                                                                                                                   | CATBOOST                     | {'iterations': 277,<br>'depth': 5,<br>'learning_rate': 0.018033268389790084,<br>'l2_leaf_reg': 0.21033801243511593,<br>'bagging_temperature': 0.8128540143913973,<br>'random_strength': 0.8645921235925083,<br>'border_count': 208,<br>'od_type': 'Iter',<br>'od_wait': 26}            | 0.5555555555555556<br>0.5079365079365079<br>0.6031746031746031<br>0.5714285714285714<br>0.6349206349206349<br>0.6507936507936508<br>0.5873015873015873<br>0.5873015873015873<br>0.6451612903225806<br>0.6774193548387096<br>Mean_accuracy :0.6020993343573989  | 0.8789                     |\n",
        "| train_0[['batScores_team1',<br>'batScores_team2', 'current_form_team1','current_form_team2','team1_count_50runs_last15',<br>'team2_count_50runs_last15','team1_winp_last5','team2_winp_last5']]<br><br>SERIES_TYPE==0                                                                                                                                                                                                                                                                                                                                                                                                                                                                                                                                                                                                                                                                                                                                                                                                                                                                                                                                                                                                                                                                                                                                                                                                                                   | Gradient Boosting Classifier | {'n_estimators': 389,<br>'learning_rate': 0.13411144007177836,<br>'max_depth': 2,<br>'min_samples_split': 93,<br>'min_samples_leaf': 5,<br>'subsample': 0.9536738790148818,<br>'max_features': 0.6864115223866214}                                                                     | 0.6190476190476191<br>0.5396825396825397<br>0.6349206349206349<br>0.5555555555555556<br>0.6507936507936508<br>0.5238095238095238<br>0.5873015873015873<br>0.6190476190476191<br>0.6290322580645161<br>0.6612903225806451<br>Mean Accuracy: 0.6020481310803891  | 0.906                      |\n",
        "| train_0[['batScores_team1',<br>'batScores_team2', 'current_form_team1','current_form_team2','team1_count_50runs_last15',<br>'team2_count_50runs_last15','team1_winp_last5','team2_winp_last5']]<br><br>SERIES_TYPE==0                                                                                                                                                                                                                                                                                                                                                                                                                                                                                                                                                                                                                                                                                                                                                                                                                                                                                                                                                                                                                                                                                                                                                                                                                                   | XGBOOST                      | {'max_depth': 3,<br>'learning_rate': 0.041024650224694634,<br>'n_estimators': 300,<br>'subsample': 0.6548782767890159,<br>'colsample_bytree': 0.9338498083398776,<br>'gamma': 0.046459308599143594,<br>'reg_alpha': 0.00027631222679533346,<br>'reg_lambda': 0.001725562474375547}     | 0.6031746031746031<br>0.5555555555555556<br>0.6507936507936508<br>0.5873015873015873<br>0.5555555555555556<br>0.5873015873015873<br>0.6031746031746031<br>0.6507936507936508<br>0.6451612903225806<br>0.6290322580645161<br>Mean Accuracy: 0.606784434203789   | 0.8949                     |\n",
        "| train_0[['batScores_team1',<br>'batScores_team2', 'current_form_team1','current_form_team2','team1_count_50runs_last15',<br>'team2_count_50runs_last15','team1_winp_last5','team2_winp_last5']]<br><br>SERIES_TYPE==0                                                                                                                                                                                                                                                                                                                                                                                                                                                                                                                                                                                                                                                                                                                                                                                                                                                                                                                                                                                                                                                                                                                                                                                                                                   | LightGBM                     | {'num_leaves': 244,<br>'max_depth': 2,<br>'learning_rate': 0.15630397462459264,<br>'n_estimators': 364,<br>'min_child_weight': 0.014951373420502139,<br>'subsample': 0.792380458244163,<br>'colsample_bytree': 0.9121158930055073}<br>                                                 | 0.6507936507936508<br>0.49206349206349204<br>0.6349206349206349<br>0.6825396825396826<br>0.6190476190476191<br>0.5396825396825397<br>0.5555555555555556<br>0.6507936507936508<br>0.6451612903225806<br>0.5483870967741935<br>Mean Accuracy: 0.60189452124936   | 0.9108                     |\n",
        "| train_0[['batScores_team1',<br>'batScores_team2', 'current_form_team1','current_form_team2','team1_count_50runs_last15',<br>'team2_count_50runs_last15','team1_winp_last5','team2_winp_last5']]<br><br>SERIES_TYPE==1                                                                                                                                                                                                                                                                                                                                                                                                                                                                                                                                                                                                                                                                                                                                                                                                                                                                                                                                                                                                                                                                                                                                                                                                                                   | CATBOOST                     | {'iterations': 69,<br>'depth': 5,<br>'learning_rate': 0.013208833434751047,<br>'l2_leaf_reg': 1.076294798106204,<br>'bagging_temperature': 0.47187998417531996,<br>'random_strength': 0.8936984667763431,<br>'border_count': 90,<br>'od_type': 'Iter',<br>'od_wait': 45}               | 0.7727272727272727<br>0.7272727272727273<br>0.5454545454545454<br>0.6363636363636364<br>0.6818181818181818<br>0.6363636363636364<br>0.5909090909090909<br>0.6363636363636364<br>0.6190476190476191<br>0.8095238095238095<br>Mean_accuracy :0.6655844155844155  | 0.7385                     |\n",
        "| train_0[['batScores_team1',<br>'batScores_team2', 'current_form_team1','current_form_team2','team1_count_50runs_last15',<br>'team2_count_50runs_last15','team1_winp_last5','team2_winp_last5']]<br><br>SERIES_TYPE==1                                                                                                                                                                                                                                                                                                                                                                                                                                                                                                                                                                                                                                                                                                                                                                                                                                                                                                                                                                                                                                                                                                                                                                                                                                   | Gradient Boosting Classifier | {'n_estimators': 37,<br>'learning_rate': 0.050565387512842015,<br>'max_depth': 3,<br>'min_samples_split': 75,<br>'min_samples_leaf': 7,<br>'subsample': 0.5485094877530132,<br>'max_features': 0.519071147935523}                                                                      | 0.7272727272727273<br>0.8181818181818182<br>0.45454545454545453<br>0.5454545454545454<br>0.6818181818181818<br>0.5909090909090909<br>0.7727272727272727<br>0.6818181818181818<br>0.6190476190476191<br>0.7619047619047619<br>Mean Accuracy: 0.6653679653679654 | 0.7385                     |\n",
        "| train_0[['batScores_team1',<br>'batScores_team2', 'current_form_team1','current_form_team2','team1_count_50runs_last15',<br>'team2_count_50runs_last15','team1_winp_last5','team2_winp_last5']]<br><br>SERIES_TYPE==1                                                                                                                                                                                                                                                                                                                                                                                                                                                                                                                                                                                                                                                                                                                                                                                                                                                                                                                                                                                                                                                                                                                                                                                                                                   | XGBOOST                      | {'max_depth': 2,<br>'learning_rate': 0.015783440483501218,<br>'n_estimators': 123,<br>'subsample': 0.6406727808448333,<br>'colsample_bytree': 0.5907096381230622,<br>'gamma': 0.0001426393560343889,<br>'reg_alpha': 8.416469844259471e-05,<br>'reg_lambda': 0.8691133048954046}<br>   | 0.6818181818181818<br>0.7272727272727273<br>0.5<br>0.6818181818181818<br>0.6363636363636364<br>0.5909090909090909<br>0.7272727272727273<br>0.5909090909090909<br>0.6190476190476191<br>0.8095238095238095<br>Mean Accuracy: 0.6564935064935065                 | 0.7339                     |\n",
        "| train_0[['batScores_team1',<br>'batScores_team2', 'current_form_team1','current_form_team2','team1_count_50runs_last15',<br>'team2_count_50runs_last15','team1_winp_last5','team2_winp_last5']]<br><br>SERIES_TYPE==1                                                                                                                                                                                                                                                                                                                                                                                                                                                                                                                                                                                                                                                                                                                                                                                                                                                                                                                                                                                                                                                                                                                                                                                                                                   | LightGBM                     | {'num_leaves': 44,<br>'max_depth': 10,<br>'learning_rate': 0.010585546805277466,<br>'n_estimators': 139,<br>'min_child_weight': 0.3585378943245338,<br>'subsample': 0.9601340115034785,<br>'colsample_bytree': 0.5374932615508997}<br>                                                 | 0.7272727272727273<br>0.7727272727272727<br>0.5909090909090909<br>0.5454545454545454<br>0.6818181818181818<br>0.5909090909090909<br>0.6363636363636364<br>0.6363636363636364<br>0.5714285714285714<br>0.8095238095238095<br>Mean Accuracy: 0.6562770562770562  | 0.7752                     |\n",
        "| train_0[['batScores_team1',<br>'batScores_team2', 'current_form_team1','current_form_team2','team1_count_50runs_last15',<br>'team2_count_50runs_last15','team1_winp_last5','team2_winp_last5']]<br><br>SERIES_TYPE==2                                                                                                                                                                                                                                                                                                                                                                                                                                                                                                                                                                                                                                                                                                                                                                                                                                                                                                                                                                                                                                                                                                                                                                                                                                   | CATBOOST                     | {'iterations': 15,<br>'depth': 6,<br>'learning_rate': 0.016405351355932622,<br>'l2_leaf_reg': 0.6860125818433047,<br>'bagging_temperature': 0.5676637905796567,<br>'random_strength': 0.404532237114998,<br>'border_count': 136,<br>'od_type': 'Iter',<br>'od_wait': 8}                | 0.8181818181818182<br>0.6363636363636364<br>0.7<br>0.7<br>0.8<br>0.6<br>0.8<br>0.6<br>0.6<br>0.8<br>Mean_accuracy :0.7054545454545453                                                                                                                          | 0.9117                     |\n",
        "| train_0[['batScores_team1',<br>'batScores_team2', 'current_form_team1','current_form_team2','team1_count_50runs_last15',<br>'team2_count_50runs_last15','team1_winp_last5','team2_winp_last5']]<br><br>SERIES_TYPE==2                                                                                                                                                                                                                                                                                                                                                                                                                                                                                                                                                                                                                                                                                                                                                                                                                                                                                                                                                                                                                                                                                                                                                                                                                                   | Gradient Boosting Classifier | {'n_estimators': 232,<br>'learning_rate': 0.1362028213878631,<br>'max_depth': 5,<br>'min_samples_split': 14,<br>'min_samples_leaf': 35,<br>'subsample': 0.7838162105364834,<br>'max_features': 0.6124814099539844}                                                                     | 0.8181818181818182<br>0.6363636363636364<br>0.4<br>0.4<br>0.8<br>0.7<br>0.7<br>0.8<br>0.5<br>0.6<br>Mean Accuracy: 0.6354545454545455                                                                                                                          | 0.7254                     |\n",
        "| train_0[['batScores_team1',<br>'batScores_team2', 'current_form_team1','current_form_team2','team1_count_50runs_last15',<br>'team2_count_50runs_last15','team1_winp_last5','team2_winp_last5']]<br><br>SERIES_TYPE==2                                                                                                                                                                                                                                                                                                                                                                                                                                                                                                                                                                                                                                                                                                                                                                                                                                                                                                                                                                                                                                                                                                                                                                                                                                   | XGBOOST                      | {'max_depth': 2,<br>'learning_rate': 0.17770076398069026,<br>'n_estimators': 472,<br>'subsample': 0.5425613821112699,<br>'colsample_bytree': 0.648810871758427,<br>'gamma': 0.03707144633589007,<br>'reg_alpha': 5.5009744725318444e-06,<br>'reg_lambda': 0.001958700762343307}        | 0.8181818181818182<br>0.6363636363636364<br>0.6<br>0.7<br>0.8<br>0.6<br>0.5<br>0.6<br>0.7<br>0.6<br>Mean Accuracy: 0.6554545454545454                                                                                                                          | 1                          |\n",
        "| train_0[['batScores_team1',<br>'batScores_team2', 'current_form_team1','current_form_team2','team1_count_50runs_last15',<br>'team2_count_50runs_last15','team1_winp_last5','team2_winp_last5']]<br><br>SERIES_TYPE==2                                                                                                                                                                                                                                                                                                                                                                                                                                                                                                                                                                                                                                                                                                                                                                                                                                                                                                                                                                                                                                                                                                                                                                                                                                   | LightGBM                     | {'num_leaves': 110,<br>'max_depth': 4,<br>'learning_rate': 0.01653864588218143,<br>'n_estimators': 30,<br>'min_child_weight': 0.024981684156516804,<br>'subsample': 0.6404221449044606,<br>'colsample_bytree': 0.8234104282467775}<br>                                                 | 0.6363636363636364<br>0.6363636363636364<br>0.6<br>0.8<br>0.7<br>0.6<br>0.7<br>0.4<br>0.6<br>0.7<br>Mean Accuracy: 0.6372727272727272                                                                                                                          | 0.7156                     |\n",
        "| X = train_data[['Margin_of_victory_avg_last10_team1','Margin_of_victory_avg_last10_team2','team1_winp_team2_last15',<br>'total_avg_economy_team1_last_10','total_avg_economy_team2_last_10',<br>'current_form_team1','current_form_team2','wins_when_toss_won_avg10_team1','wins_when_toss_won_avg10_team2',<br>'batStrLastn_team1','batStrLastn_team2','ground_avg_runs_last15'<br>]]                                                                                                                                                                                                                                                                                                                                                                                                                                                                                                                                                                                                                                                                                                                                                                                                                                                                                                                                                                                                                                                                  | CATBOOST                     | {'iterations': 99,<br>'depth': 5,<br>'learning_rate': 0.0114755591732784,<br>'l2_leaf_reg': 0.010044824445741155,<br>'bagging_temperature': 0.5126781330946139,<br>'random_strength': 0.0014637506143325846,<br>'border_count': 163,<br>'od_type': 'Iter',<br>'od_wait': 27}           | 0.7157894736842105<br>0.6421052631578947<br>0.5684210526315789<br>0.5157894736842106<br>0.6210526315789474<br>0.631578947368421<br>0.6<br>0.6105263157894737<br>0.5531914893617021<br>0.5531914893617021<br>Mean_accuracy :0.6011646136618142                  | 0.7637                     |\n",
        "| X = train_data[['Margin_of_victory_avg_last10_team1','Margin_of_victory_avg_last10_team2','team1_winp_team2_last15',<br>'total_avg_economy_team1_last_10','total_avg_economy_team2_last_10',<br>'current_form_team1','current_form_team2','wins_when_toss_won_avg10_team1','wins_when_toss_won_avg10_team2',<br>'batStrLastn_team1','batStrLastn_team2','ground_avg_runs_last15'<br>]]                                                                                                                                                                                                                                                                                                                                                                                                                                                                                                                                                                                                                                                                                                                                                                                                                                                                                                                                                                                                                                                                  | Gradient Boosting Classifier | {'n_estimators': 277,<br>'learning_rate': 0.013060301438907669,<br>'max_depth': 5,<br>'min_samples_split': 26,<br>'min_samples_leaf': 55,<br>'subsample': 0.9928381620680123,<br>'max_features': 0.5386813648420103}                                                                   | 0.6210526315789474<br>0.5789473684210527<br>0.6105263157894737<br>0.5263157894736842<br>0.6<br>0.5894736842105263<br>0.5473684210526316<br>0.6105263157894737<br>0.5531914893617021<br>0.5319148936170213<br>Mean Accuracy: 0.5769316909294513<br>             | 0.7795                     |\n",
        "| X = train_data[['Margin_of_victory_avg_last10_team1','Margin_of_victory_avg_last10_team2','team1_winp_team2_last15',<br>'total_avg_economy_team1_last_10','total_avg_economy_team2_last_10',<br>'current_form_team1','current_form_team2','wins_when_toss_won_avg10_team1','wins_when_toss_won_avg10_team2',<br>'batStrLastn_team1','batStrLastn_team2','ground_avg_runs_last15'<br>]]                                                                                                                                                                                                                                                                                                                                                                                                                                                                                                                                                                                                                                                                                                                                                                                                                                                                                                                                                                                                                                                                  | XGBOOST                      | {'max_depth': 6,<br>'learning_rate': 0.017451505332968433,<br>'n_estimators': 95,<br>'subsample': 0.9389953881970047,<br>'colsample_bytree': 0.9437992371565853,<br>'gamma': 0.002762127905182028,<br>'reg_alpha': 0.0022199565057753707,<br>'reg_lambda': 1.473232687356804}          | 0.6105263157894737<br>0.6<br>0.5473684210526316<br>0.4842105263157895<br>0.6<br>0.5684210526315789<br>0.631578947368421<br>0.6105263157894737<br>0.5531914893617021<br>0.5425531914893617<br>Mean Accuracy: 0.5748376259798433                                 | 0.924                      |\n",
        "| X = train_data[['Margin_of_victory_avg_last10_team1','Margin_of_victory_avg_last10_team2','team1_winp_team2_last15',<br>'total_avg_economy_team1_last_10','total_avg_economy_team2_last_10',<br>'current_form_team1','current_form_team2','wins_when_toss_won_avg10_team1','wins_when_toss_won_avg10_team2',<br>'batStrLastn_team1','batStrLastn_team2','ground_avg_runs_last15'<br>]]                                                                                                                                                                                                                                                                                                                                                                                                                                                                                                                                                                                                                                                                                                                                                                                                                                                                                                                                                                                                                                                                  | LightGBM                     | {'num_leaves': 233,<br>'max_depth': 3,<br>'learning_rate': 0.011250430631380464,<br>'n_estimators': 133,<br>'min_child_weight': 0.049041251885792635,<br>'subsample': 0.7236532595715541,<br>'colsample_bytree': 0.52807880476009}                                                     | 0.5894736842105263<br>0.5789473684210527<br>0.6<br>0.5052631578947369<br>0.631578947368421<br>0.5684210526315789<br>0.5789473684210527<br>0.6<br>0.5531914893617021<br>0.574468085106383<br>Mean Accuracy: 0.5780291153415453                                  | 0.6898                     |\n",
        "| X = train_data[['team1_bp', 'team2_bp', 'team1_acbr', 'team2_acbr',<br>'strength_team1', 'strength_team2', 'current_form_team1',<br>'current_form_team2', 'team1_count_50runs_last15',<br>'team2_count_50runs_last15', 'team1_winp_last5', 'team2_winp_last5',<br>'team2only_avg_runs_last15', 'total_strike_rate_team_1_last10',<br>'total_strike_rate_team_2_last10','num_all_rounders_team_1',<br>'num_all_rounders_team_2', 'total_bowling_avg_team1_last_10',<br>'total_bowling_avg_team2_last_10','total_avg_economy_team1_last_10',<br>'total_avg_economy_team2_last_10', 'series_type', 'batStrLastn_team1',<br>'batStrLastn_team2',<br>'batScores_team1', 'batScores_team2', 'bowling_scores_team1',<br>'bowling_scores_team2',<br>'wins_when_toss_lost_avg10_team1', 'wins_when_toss_lost_avg10_team2',<br>'wins_when_toss_won_avg10_team1', 'wins_when_toss_won_avg10_team2',<br>'Margin_of_victory_avg_last10_team1',<br>'Margin_of_victory_avg_last10_team2',<br>'team1only_avg_runs_last15', 'team1_winp_team2_last15',<br>'ground_avg_runs_last15']]                                                                                                                                                                                                                                                                                                                                                                                     | CATBOOST                     | {'iterations': 158,<br>'depth': 5,<br>'learning_rate': 0.010875324059219779,<br>'l2_leaf_reg': 0.08477297853892551,<br>'bagging_temperature': 0.4235335350748377,<br>'random_strength': 0.14916694253142612,<br>'border_count': 53,<br>'od_type': 'IncToDec',<br>'od_wait': 44}        | 0.6631578947368421<br>0.5894736842105263<br>0.5578947368421052<br>0.5473684210526316<br>0.6526315789473685<br>0.5894736842105263<br>0.5789473684210527<br>0.6<br>0.5851063829787234<br>0.6276595744680851<br>Mean_accuracy :0.599171332586786                  | 0.8649                     |\n",
        "| X = train_data[['team1_bp', 'team2_bp', 'team1_acbr', 'team2_acbr',<br>'strength_team1', 'strength_team2', 'current_form_team1',<br>'current_form_team2', 'team1_count_50runs_last15',<br>'team2_count_50runs_last15', 'team1_winp_last5', 'team2_winp_last5',<br>'team2only_avg_runs_last15', 'total_strike_rate_team_1_last10',<br>'total_strike_rate_team_2_last10','num_all_rounders_team_1',<br>'num_all_rounders_team_2', 'total_bowling_avg_team1_last_10',<br>'total_bowling_avg_team2_last_10','total_avg_economy_team1_last_10',<br>'total_avg_economy_team2_last_10', 'series_type', 'batStrLastn_team1',<br>'batStrLastn_team2',<br>'batScores_team1', 'batScores_team2', 'bowling_scores_team1',<br>'bowling_scores_team2',<br>'wins_when_toss_lost_avg10_team1', 'wins_when_toss_lost_avg10_team2',<br>'wins_when_toss_won_avg10_team1', 'wins_when_toss_won_avg10_team2',<br>'Margin_of_victory_avg_last10_team1',<br>'Margin_of_victory_avg_last10_team2',<br>'team1only_avg_runs_last15', 'team1_winp_team2_last15',<br>'ground_avg_runs_last15']]                                                                                                                                                                                                                                                                                                                                                                                     | Gradient Boosting Classifier | {'n_estimators': 67,<br>'learning_rate': 0.026366042320800843,<br>'max_depth': 4,<br>'min_samples_split': 65,<br>'min_samples_leaf': 51,<br>'subsample': 0.8044456956056237,<br>'max_features': 0.6927584559248197}                                                                    | 0.6736842105263158<br>0.5578947368421052<br>0.6<br>0.5157894736842106<br>0.6526315789473685<br>0.5894736842105263<br>0.6210526315789474<br>0.631578947368421<br>0.5425531914893617<br>0.5319148936170213<br>Mean Accuracy: 0.5916573348264278                  | 0.7552                     |\n",
        "| X = train_data[['team1_bp', 'team2_bp', 'team1_acbr', 'team2_acbr',<br>'strength_team1', 'strength_team2', 'current_form_team1',<br>'current_form_team2', 'team1_count_50runs_last15',<br>'team2_count_50runs_last15', 'team1_winp_last5', 'team2_winp_last5',<br>'team2only_avg_runs_last15', 'total_strike_rate_team_1_last10',<br>'total_strike_rate_team_2_last10','num_all_rounders_team_1',<br>'num_all_rounders_team_2', 'total_bowling_avg_team1_last_10',<br>'total_bowling_avg_team2_last_10','total_avg_economy_team1_last_10',<br>'total_avg_economy_team2_last_10', 'series_type', 'batStrLastn_team1',<br>'batStrLastn_team2',<br>'batScores_team1', 'batScores_team2', 'bowling_scores_team1',<br>'bowling_scores_team2',<br>'wins_when_toss_lost_avg10_team1', 'wins_when_toss_lost_avg10_team2',<br>'wins_when_toss_won_avg10_team1', 'wins_when_toss_won_avg10_team2',<br>'Margin_of_victory_avg_last10_team1',<br>'Margin_of_victory_avg_last10_team2',<br>'team1only_avg_runs_last15', 'team1_winp_team2_last15',<br>'ground_avg_runs_last15']]                                                                                                                                                                                                                                                                                                                                                                                     | XGBOOST                      | {'max_depth': 5,<br>'learning_rate': 0.010868721963209564,<br>'n_estimators': 31,<br>'subsample': 0.8341042757923336,<br>'colsample_bytree': 0.9423048473887499,<br>'gamma': 0.6611259744580485,<br>'reg_alpha': 2.1436411362698711e-07,<br>'reg_lambda': 0.0691045016112978}          | 0.6947368421052632<br>0.5368421052631579<br>0.6<br>0.5368421052631579<br>0.6947368421052632<br>0.5473684210526316<br>0.5894736842105263<br>0.6210526315789474<br>0.6063829787234043<br>0.6170212765957447<br>Mean Accuracy: 0.6044456886898096                 | 0.8196                     |\n",
        "| X = train_data[['team1_bp', 'team2_bp', 'team1_acbr', 'team2_acbr',<br>'strength_team1', 'strength_team2', 'current_form_team1',<br>'current_form_team2', 'team1_count_50runs_last15',<br>'team2_count_50runs_last15', 'team1_winp_last5', 'team2_winp_last5',<br>'team2only_avg_runs_last15', 'total_strike_rate_team_1_last10',<br>'total_strike_rate_team_2_last10','num_all_rounders_team_1',<br>'num_all_rounders_team_2', 'total_bowling_avg_team1_last_10',<br>'total_bowling_avg_team2_last_10','total_avg_economy_team1_last_10',<br>'total_avg_economy_team2_last_10', 'series_type', 'batStrLastn_team1',<br>'batStrLastn_team2',<br>'batScores_team1', 'batScores_team2', 'bowling_scores_team1',<br>'bowling_scores_team2',<br>'wins_when_toss_lost_avg10_team1', 'wins_when_toss_lost_avg10_team2',<br>'wins_when_toss_won_avg10_team1', 'wins_when_toss_won_avg10_team2',<br>'Margin_of_victory_avg_last10_team1',<br>'Margin_of_victory_avg_last10_team2',<br>'team1only_avg_runs_last15', 'team1_winp_team2_last15',<br>'ground_avg_runs_last15']]                                                                                                                                                                                                                                                                                                                                                                                     | LightGBM                     | {'num_leaves': 222,<br>'max_depth': 3,<br>'learning_rate': 0.019714120788676966,<br>'n_estimators': 45,<br>'min_child_weight': 0.895973136165359,<br>'subsample': 0.5453384767762011,<br>'colsample_bytree': 0.8229314588448927}                                                       | 0.7052631578947368<br>0.5789473684210527<br>0.5789473684210527<br>0.5368421052631579<br>0.6736842105263158<br>0.5263157894736842<br>0.6<br>0.6947368421052632<br>0.5638297872340425<br>0.6170212765957447<br>Mean Accuracy: 0.6075587905935051                 | 0.6856                     |\n",
        "| ground_avg_runs_team1last15',<br>'ground_avg_runs_team2last15', 'meanBatScoresOnGround_team1',<br>'meanBatScoresOnGround_team2', 'avg_strike_rate_on_ground_team1',<br>'avg_strike_rate_on_ground_team2', 'avg_economy_on_ground_team1',<br>'avg_economy_on_ground_team2', 'winp_on_ground_team1',<br>'winp_on_ground_team2', 'mean_bowlScores_On_Ground_team1',<br>'mean_bowlScores_On_Ground_team2'                                                                                                                                                                                                                                                                                                                                                                                                                                                                                                                                                                                                                                                                                                                                                                                                                                                                                                                                                                                                                                                   | CATBOOST                     | {'iterations': 76,<br>'depth': 3,<br>'learning_rate': 0.030120874491960572,<br>'l2_leaf_reg': 0.019428674355769435,<br>'bagging_temperature': 0.7097065390444934,<br>'random_strength': 0.2459734088569595,<br>'border_count': 68,<br>'od_type': 'Iter',<br>'od_wait': 23}             | 0.6421052631578947<br>0.5684210526315789<br>0.6210526315789474<br>0.5684210526315789<br>0.5894736842105263<br>0.5894736842105263<br>0.45263157894736844<br>0.5368421052631579<br>0.5212765957446809<br>0.5851063829787234<br>Mean_accuracy :0.5674804031354983 | 0.6592                     |\n",
        "| ground_avg_runs_team1last15',<br>'ground_avg_runs_team2last15', 'meanBatScoresOnGround_team1',<br>'meanBatScoresOnGround_team2', 'avg_strike_rate_on_ground_team1',<br>'avg_strike_rate_on_ground_team2', 'avg_economy_on_ground_team1',<br>'avg_economy_on_ground_team2', 'winp_on_ground_team1',<br>'winp_on_ground_team2', 'mean_bowlScores_On_Ground_team1',<br>'mean_bowlScores_On_Ground_team2'                                                                                                                                                                                                                                                                                                                                                                                                                                                                                                                                                                                                                                                                                                                                                                                                                                                                                                                                                                                                                                                   | Gradient Boosting Classifier | {'n_estimators': 97,<br>'learning_rate': 0.012964410821276282,<br>'max_depth': 2,<br>'min_samples_split': 45,<br>'min_samples_leaf': 59,<br>'subsample': 0.7102946667311244,<br>'max_features': 0.5172965304952994}                                                                    | 0.6210526315789474<br>0.6105263157894737<br>0.5894736842105263<br>0.5473684210526316<br>0.6<br>0.6105263157894737<br>0.4631578947368421<br>0.5684210526315789<br>0.5<br>0.5638297872340425<br>Mean Accuracy: 0.5674356103023517                                | 0.60864                    |\n",
        "| ground_avg_runs_team1last15',<br>'ground_avg_runs_team2last15', 'meanBatScoresOnGround_team1',<br>'meanBatScoresOnGround_team2', 'avg_strike_rate_on_ground_team1',<br>'avg_strike_rate_on_ground_team2', 'avg_economy_on_ground_team1',<br>'avg_economy_on_ground_team2', 'winp_on_ground_team1',<br>'winp_on_ground_team2', 'mean_bowlScores_On_Ground_team1',<br>'mean_bowlScores_On_Ground_team2'                                                                                                                                                                                                                                                                                                                                                                                                                                                                                                                                                                                                                                                                                                                                                                                                                                                                                                                                                                                                                                                   | XGBOOST                      | {'max_depth': 4,<br>'learning_rate': 0.04576012357994757,<br>'n_estimators': 25,<br>'subsample': 0.5794379692361041,<br>'colsample_bytree': 0.6182947491361083,<br>'gamma': 0.012527458093510104,<br>'reg_alpha': 0.0024171506654675767,<br>'reg_lambda': 0.6914328900598133}          | 0.6<br>0.6210526315789474<br>0.5684210526315789<br>0.5789473684210527<br>0.5684210526315789<br>0.5684210526315789<br>0.5052631578947369<br>0.5684210526315789<br>0.5531914893617021<br>0.5957446808510638<br>Mean Accuracy: 0.5727883538633819                 | 0.7341                     |\n",
        "| ground_avg_runs_team1last15',<br>'ground_avg_runs_team2last15', 'meanBatScoresOnGround_team1',<br>'meanBatScoresOnGround_team2', 'avg_strike_rate_on_ground_team1',<br>'avg_strike_rate_on_ground_team2', 'avg_economy_on_ground_team1',<br>'avg_economy_on_ground_team2', 'winp_on_ground_team1',<br>'winp_on_ground_team2', 'mean_bowlScores_On_Ground_team1',<br>'mean_bowlScores_On_Ground_team2'                                                                                                                                                                                                                                                                                                                                                                                                                                                                                                                                                                                                                                                                                                                                                                                                                                                                                                                                                                                                                                                   | LightGBM                     | {'num_leaves': 221,<br>'max_depth': 3,<br>'learning_rate': 0.011060455564213544,<br>'n_estimators': 184,<br>'min_child_weight': 0.23363474096798262,<br>'subsample': 0.9476488969345269,<br>'colsample_bytree': 0.9601301064673793}                                                    | 0.6<br>0.6<br>0.6210526315789474<br>0.6<br>0.5052631578947369<br>0.5894736842105263<br>0.5368421052631579<br>0.49473684210526314<br>0.5<br>0.574468085106383<br>Mean Accuracy: 0.5621836506159015                                                              | 0.6772                     |\n",
        "| team1_bp', 'team2_bp', 'team1_acbr', 'team2_acbr',<br>'strength_team1', 'strength_team2', 'current_form_team1',<br>'current_form_team2', 'team1_count_50runs_last15',<br>'team2_count_50runs_last15', 'team1_winp_last5', 'team2_winp_last5',<br>'team2only_avg_runs_last15', 'total_strike_rate_team_1_last10',<br>'total_strike_rate_team_2_last10','num_all_rounders_team_1',<br>'num_all_rounders_team_2', 'total_bowling_avg_team1_last_10',<br>'total_bowling_avg_team2_last_10','total_avg_economy_team1_last_10',<br>'total_avg_economy_team2_last_10', 'series_type', 'batStrLastn_team1',<br>'batStrLastn_team2',<br>'batScores_team1', 'batScores_team2', 'bowling_scores_team1',<br>'bowling_scores_team2',<br>'wins_when_toss_lost_avg10_team1', 'wins_when_toss_lost_avg10_team2',<br>'wins_when_toss_won_avg10_team1', 'wins_when_toss_won_avg10_team2',<br>'Margin_of_victory_avg_last10_team1',<br>'Margin_of_victory_avg_last10_team2',<br>'team1only_avg_runs_last15', 'team1_winp_team2_last15',<br>'ground_avg_runs_last15','ground_avg_runs_team1last15',<br>'ground_avg_runs_team2last15', 'meanBatScoresOnGround_team1',<br>'meanBatScoresOnGround_team2', 'avg_strike_rate_on_ground_team1',<br>'avg_strike_rate_on_ground_team2', 'avg_economy_on_ground_team1',<br>'avg_economy_on_ground_team2', 'winp_on_ground_team1',<br>'winp_on_ground_team2', 'mean_bowlScores_On_Ground_team1',<br>'mean_bowlScores_On_Ground_team2' | CATBOOST                     | {'iterations': 295,<br>'depth': 4,<br>'learning_rate': 0.020566856099423863,<br>'l2_leaf_reg': 0.28204845868451556,<br>'bagging_temperature': 0.15975568860797557,<br>'random_strength': 0.86060609263927,<br>'border_count': 64,<br>'od_type': 'IncToDec',<br>'od_wait': 41}          | 0.6526315789473685<br>0.5894736842105263<br>0.5894736842105263<br>0.5473684210526316<br>0.6947368421052632<br>0.6<br>0.6105263157894737<br>0.5789473684210527<br>0.5212765957446809<br>0.5425531914893617<br>Mean_accuracy :0.5926987681970884                 | 0.8755                     |\n",
        "| team1_bp', 'team2_bp', 'team1_acbr', 'team2_acbr',<br>'strength_team1', 'strength_team2', 'current_form_team1',<br>'current_form_team2', 'team1_count_50runs_last15',<br>'team2_count_50runs_last15', 'team1_winp_last5', 'team2_winp_last5',<br>'team2only_avg_runs_last15', 'total_strike_rate_team_1_last10',<br>'total_strike_rate_team_2_last10','num_all_rounders_team_1',<br>'num_all_rounders_team_2', 'total_bowling_avg_team1_last_10',<br>'total_bowling_avg_team2_last_10','total_avg_economy_team1_last_10',<br>'total_avg_economy_team2_last_10', 'series_type', 'batStrLastn_team1',<br>'batStrLastn_team2',<br>'batScores_team1', 'batScores_team2', 'bowling_scores_team1',<br>'bowling_scores_team2',<br>'wins_when_toss_lost_avg10_team1', 'wins_when_toss_lost_avg10_team2',<br>'wins_when_toss_won_avg10_team1', 'wins_when_toss_won_avg10_team2',<br>'Margin_of_victory_avg_last10_team1',<br>'Margin_of_victory_avg_last10_team2',<br>'team1only_avg_runs_last15', 'team1_winp_team2_last15',<br>'ground_avg_runs_last15','ground_avg_runs_team1last15',<br>'ground_avg_runs_team2last15', 'meanBatScoresOnGround_team1',<br>'meanBatScoresOnGround_team2', 'avg_strike_rate_on_ground_team1',<br>'avg_strike_rate_on_ground_team2', 'avg_economy_on_ground_team1',<br>'avg_economy_on_ground_team2', 'winp_on_ground_team1',<br>'winp_on_ground_team2', 'mean_bowlScores_On_Ground_team1',<br>'mean_bowlScores_On_Ground_team2' | Gradient Boosting Classifier | {'n_estimators': 124,<br>'learning_rate': 0.02974492322641823,<br>'max_depth': 3,<br>'min_samples_split': 24,<br>'min_samples_leaf': 34,<br>'subsample': 0.6129961662089509,<br>'max_features': 0.9405192068972165}<br>                                                                | 0.6421052631578947<br>0.5578947368421052<br>0.631578947368421<br>0.5157894736842106<br>0.6736842105263158<br>0.6<br>0.5368421052631579<br>0.5473684210526316<br>0.5851063829787234<br>0.5957446808510638<br>Mean Accuracy: 0.5886114221724524                  | 0.7932                     |\n",
        "| team1_bp', 'team2_bp', 'team1_acbr', 'team2_acbr',<br>'strength_team1', 'strength_team2', 'current_form_team1',<br>'current_form_team2', 'team1_count_50runs_last15',<br>'team2_count_50runs_last15', 'team1_winp_last5', 'team2_winp_last5',<br>'team2only_avg_runs_last15', 'total_strike_rate_team_1_last10',<br>'total_strike_rate_team_2_last10','num_all_rounders_team_1',<br>'num_all_rounders_team_2', 'total_bowling_avg_team1_last_10',<br>'total_bowling_avg_team2_last_10','total_avg_economy_team1_last_10',<br>'total_avg_economy_team2_last_10', 'series_type', 'batStrLastn_team1',<br>'batStrLastn_team2',<br>'batScores_team1', 'batScores_team2', 'bowling_scores_team1',<br>'bowling_scores_team2',<br>'wins_when_toss_lost_avg10_team1', 'wins_when_toss_lost_avg10_team2',<br>'wins_when_toss_won_avg10_team1', 'wins_when_toss_won_avg10_team2',<br>'Margin_of_victory_avg_last10_team1',<br>'Margin_of_victory_avg_last10_team2',<br>'team1only_avg_runs_last15', 'team1_winp_team2_last15',<br>'ground_avg_runs_last15','ground_avg_runs_team1last15',<br>'ground_avg_runs_team2last15', 'meanBatScoresOnGround_team1',<br>'meanBatScoresOnGround_team2', 'avg_strike_rate_on_ground_team1',<br>'avg_strike_rate_on_ground_team2', 'avg_economy_on_ground_team1',<br>'avg_economy_on_ground_team2', 'winp_on_ground_team1',<br>'winp_on_ground_team2', 'mean_bowlScores_On_Ground_team1',<br>'mean_bowlScores_On_Ground_team2' | XGBOOST                      | {'max_depth': 5,<br>'learning_rate': 0.013996451566597935,<br>'n_estimators': 232,<br>'subsample': 0.5678399644807302,<br>'colsample_bytree': 0.5839649406117547,<br>'gamma': 0.020411781785650736,<br>'reg_alpha': 1.9809343170219302e-05,<br>'reg_lambda': 0.8097403174867172}       | 0.6631578947368421<br>0.6421052631578947<br>0.5789473684210527<br>0.5368421052631579<br>0.6631578947368421<br>0.5789473684210527<br>0.5578947368421052<br>0.6<br>0.5425531914893617<br>0.5957446808510638<br>Mean Accuracy: 0.5959350503919373                 | 0.9651                     |\n",
        "| team1_bp', 'team2_bp', 'team1_acbr', 'team2_acbr',<br>'strength_team1', 'strength_team2', 'current_form_team1',<br>'current_form_team2', 'team1_count_50runs_last15',<br>'team2_count_50runs_last15', 'team1_winp_last5', 'team2_winp_last5',<br>'team2only_avg_runs_last15', 'total_strike_rate_team_1_last10',<br>'total_strike_rate_team_2_last10','num_all_rounders_team_1',<br>'num_all_rounders_team_2', 'total_bowling_avg_team1_last_10',<br>'total_bowling_avg_team2_last_10','total_avg_economy_team1_last_10',<br>'total_avg_economy_team2_last_10', 'series_type', 'batStrLastn_team1',<br>'batStrLastn_team2',<br>'batScores_team1', 'batScores_team2', 'bowling_scores_team1',<br>'bowling_scores_team2',<br>'wins_when_toss_lost_avg10_team1', 'wins_when_toss_lost_avg10_team2',<br>'wins_when_toss_won_avg10_team1', 'wins_when_toss_won_avg10_team2',<br>'Margin_of_victory_avg_last10_team1',<br>'Margin_of_victory_avg_last10_team2',<br>'team1only_avg_runs_last15', 'team1_winp_team2_last15',<br>'ground_avg_runs_last15','ground_avg_runs_team1last15',<br>'ground_avg_runs_team2last15', 'meanBatScoresOnGround_team1',<br>'meanBatScoresOnGround_team2', 'avg_strike_rate_on_ground_team1',<br>'avg_strike_rate_on_ground_team2', 'avg_economy_on_ground_team1',<br>'avg_economy_on_ground_team2', 'winp_on_ground_team1',<br>'winp_on_ground_team2', 'mean_bowlScores_On_Ground_team1',<br>'mean_bowlScores_On_Ground_team2' | LightGBM                     | {'num_leaves': 193,<br>'max_depth': 4,<br>'learning_rate': 0.01408462136861115,<br>'n_estimators': 89,<br>'min_child_weight': 0.11557568306079713,<br>'subsample': 0.7746889815590263,<br>'colsample_bytree': 0.8500973102263574}<br>                                                  | 0.6631578947368421<br>0.5368421052631579<br>0.5789473684210527<br>0.49473684210526314<br>0.6210526315789474<br>0.5894736842105263<br>0.5368421052631579<br>0.6105263157894737<br>0.574468085106383<br>0.6382978723404256<br>Mean Accuracy: 0.584434490481523   | 0.7911                     |"
      ],
      "metadata": {
        "id": "-1VyZLLPmR9D"
      }
    },
    {
      "cell_type": "markdown",
      "source": [
        "# Final Model that gave Higest Score in R1"
      ],
      "metadata": {
        "id": "f96DxWFrLb64"
      }
    },
    {
      "cell_type": "code",
      "execution_count": null,
      "metadata": {
        "id": "qjD-HtwvBvcw"
      },
      "outputs": [],
      "source": [
        "X_1,y_1 = train_data[['total_strike_rate_team_1_last10', 'total_strike_rate_team_2_last10',\n",
        "       'total_fours_avg_team1_last10', 'total_fours_avg_team2_last10',\n",
        "       'total_sixes_avg_team1_last10', 'total_sixes_avg_team2_last10',\n",
        "       'total_avg_wicket_team1_last10', 'total_avg_wicket_team2_last10',\n",
        "       'total_bowling_SR_team1_last_10', 'total_bowling_SR_team2_last_10']], train_data['winner_01']"
      ]
    },
    {
      "cell_type": "code",
      "execution_count": null,
      "metadata": {
        "id": "E5SqvOlfBvcw"
      },
      "outputs": [],
      "source": [
        "X_1_test= test_data[['total_strike_rate_team_1_last10', 'total_strike_rate_team_2_last10',\n",
        "       'total_fours_avg_team1_last10', 'total_fours_avg_team2_last10',\n",
        "       'total_sixes_avg_team1_last10', 'total_sixes_avg_team2_last10',\n",
        "       'total_avg_wicket_team1_last10', 'total_avg_wicket_team2_last10',\n",
        "       'total_bowling_SR_team1_last_10', 'total_bowling_SR_team2_last_10']]"
      ]
    },
    {
      "cell_type": "code",
      "execution_count": null,
      "metadata": {
        "id": "irjtV3d4Bvcx"
      },
      "outputs": [],
      "source": [
        "from sklearn.ensemble import GradientBoostingClassifier"
      ]
    },
    {
      "cell_type": "code",
      "execution_count": null,
      "metadata": {
        "id": "8qaTG2R9Bvcx"
      },
      "outputs": [],
      "source": [
        "algo_name = 'GradientBoostingClassifier'\n",
        "is_ensemble = 'no'\n",
        "n_trees = 10\n",
        "depth = 2\n",
        "lr = 0.1"
      ]
    },
    {
      "cell_type": "code",
      "execution_count": null,
      "metadata": {
        "id": "w8I7jWNcBvcx"
      },
      "outputs": [],
      "source": [
        "clf_gbm = GradientBoostingClassifier(n_estimators = n_trees, max_depth = depth, learning_rate = lr).fit(X_1,y_1)"
      ]
    },
    {
      "cell_type": "code",
      "execution_count": null,
      "metadata": {
        "id": "K0cDrWgABvcx"
      },
      "outputs": [],
      "source": [
        "train_data['y_pred_01'] = clf_gbm.predict(X_1)\n",
        "test_data['y_pred_01'] = clf_gbm.predict(X_1_test)"
      ]
    },
    {
      "cell_type": "code",
      "execution_count": null,
      "metadata": {
        "id": "nap1AdlJBvcx"
      },
      "outputs": [],
      "source": [
        "y_pred_2_GBM = train_data['y_pred_01']\n",
        "accuracy2 = accuracy_score(y,y_pred_2_GBM)\n",
        "print(accuracy2)"
      ]
    },
    {
      "cell_type": "code",
      "execution_count": null,
      "metadata": {
        "id": "VbaAKLE0Bvcx"
      },
      "outputs": [],
      "source": [
        "from sklearn.metrics import classification_report"
      ]
    },
    {
      "cell_type": "code",
      "execution_count": null,
      "metadata": {
        "id": "Axd8ejrfBvcx"
      },
      "outputs": [],
      "source": [
        "print(classification_report(y, clf_gbm.predict(X), labels=[0,1]))"
      ]
    },
    {
      "cell_type": "code",
      "execution_count": null,
      "metadata": {
        "id": "Is5DhHdABvcx"
      },
      "outputs": [],
      "source": [
        "train_data['win_pred_score'] = clf_gbm.predict_proba(X_1)[:,1]\n",
        "test_data['win_pred_score'] = clf_gbm.predict_proba(X_1_test)[:,1]"
      ]
    },
    {
      "cell_type": "code",
      "execution_count": null,
      "metadata": {
        "id": "KqFebvNzBvcx"
      },
      "outputs": [],
      "source": [
        "train_data['win_pred_score'] = np.where( (train_data['y_pred_01']==0), (1-train_data['win_pred_score']), train_data['win_pred_score'])\n",
        "test_data['win_pred_score'] = np.where( (test_data['y_pred_01']==0), (1-test_data['win_pred_score']), test_data['win_pred_score'])"
      ]
    },
    {
      "cell_type": "code",
      "execution_count": null,
      "metadata": {
        "id": "Tdo9rLkwBvcx"
      },
      "outputs": [],
      "source": [
        "train_data['win_pred_team_id'] = np.where( (train_data['y_pred_01']==0), (train_data['team1_id']), train_data['team2_id'])\n",
        "test_data['win_pred_team_id'] = np.where( (test_data['y_pred_01']==0), (test_data['team1_id']), test_data['team2_id'])"
      ]
    },
    {
      "cell_type": "code",
      "execution_count": null,
      "metadata": {
        "id": "76a51omjBvcx"
      },
      "outputs": [],
      "source": [
        "df_feat_importance = pd.DataFrame({'feat_name':X_1.columns.tolist(), 'model_feat_imp_train':clf_gbm.feature_importances_}).sort_values(by='model_feat_imp_train', ascending=False)\\\n",
        "                                                                                                                        .reset_index(drop=True).head(10)\n",
        "df_feat_importance"
      ]
    },
    {
      "cell_type": "markdown",
      "source": [
        "File Preparation :"
      ],
      "metadata": {
        "id": "luM-1kDcM1gd"
      }
    },
    {
      "cell_type": "markdown",
      "source": [
        "File - 1:"
      ],
      "metadata": {
        "id": "8OXzTxjkNO1u"
      }
    },
    {
      "cell_type": "code",
      "execution_count": null,
      "metadata": {
        "id": "yNAc3HJ0Bvcx"
      },
      "outputs": [],
      "source": [
        "train_data['dataset_type'] = 'train'\n",
        "test_data['dataset_type'] = 'r2'"
      ]
    },
    {
      "cell_type": "code",
      "execution_count": null,
      "metadata": {
        "id": "5JHD2bQNBvcx"
      },
      "outputs": [],
      "source": [
        "## refactor\n",
        "\n",
        "df_file1 = pd.concat([test_data[['match id','dataset_type','win_pred_team_id','win_pred_score',] + list(df_feat_importance['feat_name'].head(10))]])\n",
        "\n",
        "renaming_dict = {}\n",
        "for i,col in enumerate(list(df_feat_importance['feat_name'].head(10))):\n",
        "    renaming_dict[col] = f'indep_feat_id{i+1}'\n",
        "df_file1.rename(columns=renaming_dict, inplace=True)\n",
        "\n",
        "for i in range(1,11):\n",
        "    if f'indep_feat_id{i}' not in df_file1.columns:\n",
        "        df_file1[f'indep_feat_id{i}'] = np.nan\n",
        "\n",
        "df_file1['train_algorithm'] = algo_name\n",
        "df_file1['is_ensemble'] = is_ensemble\n",
        "df_file1['train_hps_trees'] = n_trees\n",
        "df_file1['train_hps_depth'] = depth\n",
        "df_file1['train_hps_lr'] = lr"
      ]
    },
    {
      "cell_type": "code",
      "execution_count": null,
      "metadata": {
        "id": "c_7uMpAPBvcx"
      },
      "outputs": [],
      "source": [
        "df_file1.shape"
      ]
    },
    {
      "cell_type": "markdown",
      "source": [
        "File - 2:"
      ],
      "metadata": {
        "id": "9EYQlko7NQ9-"
      }
    },
    {
      "cell_type": "code",
      "execution_count": null,
      "metadata": {
        "id": "ge6HJbCvBvcy"
      },
      "outputs": [],
      "source": [
        "feature_description = feature_desc"
      ]
    },
    {
      "cell_type": "code",
      "execution_count": null,
      "metadata": {
        "id": "Uc-ekpEtBvcy"
      },
      "outputs": [],
      "source": [
        "df_file2 = df_feat_importance\n",
        "df_file2['feat_id'] = [i+1 for i in df_file2.index]\n",
        "df_file2['feat_rank_train'] = [i+1 for i in df_file2.index]\n",
        "df_file2 = df_file2.set_index('feat_id')\n",
        "df_file2['feat_description'] = df_file2['feat_name'].map(feature_description)"
      ]
    },
    {
      "cell_type": "code",
      "execution_count": null,
      "metadata": {
        "id": "EBdrOfWVBvcy"
      },
      "outputs": [],
      "source": [
        "df_file2"
      ]
    },
    {
      "cell_type": "code",
      "execution_count": null,
      "metadata": {
        "id": "GbqxquZ_Bvcy"
      },
      "outputs": [],
      "source": [
        "df_file1.to_csv('primary_submission_r2.csv',index=False)\n",
        "!cp primary_submission_r2.csv \"drive/My Drive/\""
      ]
    },
    {
      "cell_type": "code",
      "execution_count": null,
      "metadata": {
        "id": "dHizLhPPBvcy"
      },
      "outputs": [],
      "source": [
        "df_file2.to_csv('secondary_submission_1.csv')\n",
        "!cp secondary_submission_1.csv \"drive/My Drive/\""
      ]
    },
    {
      "cell_type": "code",
      "execution_count": null,
      "metadata": {
        "id": "ZGvtS1zSBvcy"
      },
      "outputs": [],
      "source": [
        "test_data['winner_id'] = test_data['win_pred_team_id']"
      ]
    },
    {
      "cell_type": "code",
      "execution_count": null,
      "metadata": {
        "id": "VWj8FLB2Bvcy"
      },
      "outputs": [],
      "source": [
        "desired_columns = ['match id', 'winner_id', 'dataset_type']\n",
        "df_filtered = test_data[desired_columns]\n",
        "\n",
        "# Save the filtered DataFrame as a CSV file (without index)\n",
        "df_filtered.to_csv('dep_var2.csv', index=False)  # Replace 'filtered_data.csv' with your desired filename"
      ]
    },
    {
      "cell_type": "code",
      "execution_count": null,
      "metadata": {
        "id": "jjkjS0WcBvcy"
      },
      "outputs": [],
      "source": [
        "!cp dep_var2.csv \"drive/My Drive/\""
      ]
    }
  ],
  "metadata": {
    "colab": {
      "provenance": [],
      "toc_visible": true
    },
    "kernelspec": {
      "display_name": "Python 3 (ipykernel)",
      "language": "python",
      "name": "python3"
    },
    "language_info": {
      "codemirror_mode": {
        "name": "ipython",
        "version": 3
      },
      "file_extension": ".py",
      "mimetype": "text/x-python",
      "name": "python",
      "nbconvert_exporter": "python",
      "pygments_lexer": "ipython3",
      "version": "3.11.5"
    }
  },
  "nbformat": 4,
  "nbformat_minor": 0
}